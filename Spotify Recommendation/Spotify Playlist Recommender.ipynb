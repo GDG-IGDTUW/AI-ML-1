{
  "cell_type": "markdown",
  "metadata": {
    "id": "view-in-github",
    "colab_type": "text"
  },
  "source": [
    "<a href=\"https://colab.research.google.com/github/Khushboo-Verma2004/AI-ML-1/blob/Collaborative-filtering/Spotify%20Recommendation/Spotify%20Playlist%20Recommender.ipynb\" target=\"_parent\"><img src=\"https://colab.research.google.com/assets/colab-badge.svg\" alt=\"Open In Colab\"/></a>"
  ]
}
    },
    {
      "cell_type": "markdown",
      "id": "70321d92",
      "metadata": {
        "papermill": {
          "duration": 0.039156,
          "end_time": "2021-11-23T16:22:44.485384",
          "exception": false,
          "start_time": "2021-11-23T16:22:44.446228",
          "status": "completed"
        },
        "tags": [],
        "id": "70321d92"
      },
      "source": [
        "### This notebook shows the steps to build a recommender system using the Collaborative Filtering approach.\n",
        "\n",
        "### The goal is to recommend artists based on user's past activity and interests of similar users.\n",
        "\n",
        "* [Import Libraries ](#section-1)\n",
        "* [Read Data](#section-2)\n",
        "* [Data Prep](#section-3)\n",
        "* [Recommender System](#section-4)\n",
        "    - [Helper Functions](#subsection-1)\n",
        "    - [Prep Model Inputs](#subsection-2)\n",
        "    - [Matrix Factorization (MF) Model](#subsection-3)\n",
        "    - [Evaluation Metrics](#subsection-4)\n",
        "    - [Examples](#subsection-5)"
      ]
    },
    {
      "cell_type": "markdown",
      "id": "3cd2caeb",
      "metadata": {
        "papermill": {
          "duration": 0.037682,
          "end_time": "2021-11-23T16:22:44.561130",
          "exception": false,
          "start_time": "2021-11-23T16:22:44.523448",
          "status": "completed"
        },
        "tags": [],
        "id": "3cd2caeb"
      },
      "source": [
        "<a id=\"section-1\"></a>\n",
        "# Import Libraries"
      ]
    },
    {
      "cell_type": "code",
      "source": [
        "!pip install lightfm"
      ],
      "metadata": {
        "colab": {
          "base_uri": "https://localhost:8080/"
        },
        {
  "id": "Dkxnr3TdcFQW",
  "outputId": "c7e8ebb5-71cd-4209-ce7b-9eecdf16600d",
  "execution_count": 90
}
      "outputs": [
        {
          "output_type": "stream",
          "name": "stdout",
          "text": [
            "Requirement already satisfied: lightfm in /usr/local/lib/python3.11/dist-packages (1.17)\n",
            "Requirement already satisfied: numpy in /usr/local/lib/python3.11/dist-packages (from lightfm) (1.26.4)\n",
            "Requirement already satisfied: scipy>=0.17.0 in /usr/local/lib/python3.11/dist-packages (from lightfm) (1.13.1)\n",
            "Requirement already satisfied: requests in /usr/local/lib/python3.11/dist-packages (from lightfm) (2.32.3)\n",
            "Requirement already satisfied: scikit-learn in /usr/local/lib/python3.11/dist-packages (from lightfm) (1.6.1)\n",
            "Requirement already satisfied: charset-normalizer<4,>=2 in /usr/local/lib/python3.11/dist-packages (from requests->lightfm) (3.4.1)\n",
            "Requirement already satisfied: idna<4,>=2.5 in /usr/local/lib/python3.11/dist-packages (from requests->lightfm) (3.10)\n",
            "Requirement already satisfied: urllib3<3,>=1.21.1 in /usr/local/lib/python3.11/dist-packages (from requests->lightfm) (2.3.0)\n",
            "Requirement already satisfied: certifi>=2017.4.17 in /usr/local/lib/python3.11/dist-packages (from requests->lightfm) (2024.12.14)\n",
            "Requirement already satisfied: joblib>=1.2.0 in /usr/local/lib/python3.11/dist-packages (from scikit-learn->lightfm) (1.4.2)\n",
            "Requirement already satisfied: threadpoolctl>=3.1.0 in /usr/local/lib/python3.11/dist-packages (from scikit-learn->lightfm) (3.5.0)\n"
          ]
        }
      ]
    },
    {
      "cell_type": "code",
      "source": [
        "!kaggle datasets download -d ashwinik/spotify-playlist\n"
      ],
      "metadata": {
        "colab": {
          "base_uri": "https://localhost:8080/"
        },
        "id": "iwQdvppzda8X",
{
  "outputId": "5b08e6f7-8d9b-4f7f-e3cc-c8456277d510",
  "id": "iwQdvppzda8X",
  "execution_count": 91
}

      "outputs": [
        {
          "output_type": "stream",
          "name": "stdout",
          "text": [
            "Dataset URL: https://www.kaggle.com/datasets/ashwinik/spotify-playlist\n",
            "License(s): unknown\n",
            "spotify-playlist.zip: Skipping, found more recently modified local copy (use --force to force download)\n"
          ]
        }
      ]
    },
    {
      "cell_type": "code",
{
  "execution_count": 92
}
      "id": "2dd936e2",
      "metadata": {
        "execution": {
          "iopub.execute_input": "2021-11-23T16:22:44.645099Z",
          "iopub.status.busy": "2021-11-23T16:22:44.643914Z",
          "iopub.status.idle": "2021-11-23T16:22:45.534682Z",
          "shell.execute_reply": "2021-11-23T16:22:45.533979Z",
          "shell.execute_reply.started": "2021-11-23T15:31:37.363779Z"
        },
        "papermill": {
          "duration": 0.933862,
          "end_time": "2021-11-23T16:22:45.534862",
          "exception": false,
          "start_time": "2021-11-23T16:22:44.601000",
          "status": "completed"
        },
        "tags": [],
        "id": "2dd936e2"
      },
      "outputs": [],
      "source": [
        "import numpy as np\n",
        "import pandas as pd\n",
        "import warnings\n",
        "warnings.simplefilter(action='ignore', category=FutureWarning)\n",
        "from scipy import sparse\n",
        "import random\n",
        "import lightfm\n",
        "from lightfm import LightFM, cross_validation\n",
        "from lightfm.evaluation import precision_at_k, auc_score\n",
        "from sklearn.metrics.pairwise import cosine_similarity\n",
        "import matplotlib.pyplot as plt\n",
        "import seaborn as sns"
      ]
    },
    {
      "cell_type": "markdown",
      "id": "62da0ff1",
      "metadata": {
        "papermill": {
          "duration": 0.038984,
          "end_time": "2021-11-23T16:22:45.611916",
          "exception": false,
          "start_time": "2021-11-23T16:22:45.572932",
          "status": "completed"
        },
        "tags": [],
        "id": "62da0ff1"
      },
      "source": [
        "<a id=\"section-2\"></a>\n",
        "# Read Data"
      ]
    },
    {
      "cell_type": "markdown",
      "id": "91d8b42f",
      "metadata": {
        "papermill": {
          "duration": 0.037578,
          "end_time": "2021-11-23T16:22:45.689814",
          "exception": false,
          "start_time": "2021-11-23T16:22:45.652236",
          "status": "completed"
        },
        "tags": [],
        "id": "91d8b42f"
      },
      "source": [
        "### The original dataset is quite large. We only read 50% of rows for faster run."
      ]
    },
    {
      "cell_type": "code",
{
  "execution_count": 93
}

      "id": "f65f6bcc",
      "metadata": {
        "execution": {
          "iopub.execute_input": "2021-11-23T16:22:45.771681Z",
          "iopub.status.busy": "2021-11-23T16:22:45.770939Z",
          "iopub.status.idle": "2021-11-23T16:22:45.772323Z",
          "shell.execute_reply": "2021-11-23T16:22:45.772902Z",
          "shell.execute_reply.started": "2021-11-23T15:31:37.379756Z"
        },
        "papermill": {
          "duration": 0.045349,
          "end_time": "2021-11-23T16:22:45.773094",
          "exception": false,
          "start_time": "2021-11-23T16:22:45.727745",
          "status": "completed"
        },
        "tags": [],
        "id": "f65f6bcc"
      },
      "outputs": [],
      "source": [
        "p = 0.50  # to randomly select 50% of the rows"
      ]
    },
    {
      "cell_type": "code",
      "source": [
        "import zipfile\n",
        "import os\n",
        "\n",
        "# Path to the zip file\n",
        "zip_path = '/content/spotify-playlist.zip'\n",
        "extraction_path = '/content/spotify_data/'\n",
        "\n",
        "# Extract the zip file\n",
        "with zipfile.ZipFile(zip_path, 'r') as zip_ref:\n",
        "    zip_ref.extractall(extraction_path)\n",
        "\n",
        "# List the files to confirm extraction\n",
        "extracted_files = os.listdir(extraction_path)\n",
        "print(extracted_files)\n"
      ],
      "metadata": {
        "colab": {
          "base_uri": "https://localhost:8080/"
        },
        "id": "5cb-BSDleZA4",
{
  "outputId": "ab7fe2ce-0c8f-40ac-f02d-22365e83bae5",
  "id": "5cb-BSDleZA4",
  "execution_count": 94
}

      "outputs": [
        {
          "output_type": "stream",
          "name": "stdout",
          "text": [
            "['README.txt', 'spotify_dataset.csv']\n"
          ]
        }
      ]
    },
    {
      "cell_type": "code",
{
  "execution_count": 95
}

      "id": "ef53b773",
      "metadata": {
        "execution": {
          "iopub.execute_input": "2021-11-23T16:22:45.856458Z",
          "iopub.status.busy": "2021-11-23T16:22:45.855684Z",
          "iopub.status.idle": "2021-11-23T16:23:21.141152Z",
          "shell.execute_reply": "2021-11-23T16:23:21.141706Z",
          "shell.execute_reply.started": "2021-11-23T15:31:37.391068Z"
        },
        "papermill": {
          "duration": 35.329776,
          "end_time": "2021-11-23T16:23:21.141884",
          "exception": false,
          "start_time": "2021-11-23T16:22:45.812108",
          "status": "completed"
        },
        "tags": [],
        "id": "ef53b773",
{
  "outputId": "fe14e4f5-db18-4025-fbfb-40124176be02"
}

        "colab": {
          "base_uri": "https://localhost:8080/"
        }
      },
      "outputs": [
        {
          "output_type": "stream",
          "name": "stdout",
          "text": [
            "                            user_id                      \"artistname\"  \\\n",
            "0  9cc0cfd4d7d7885102480dd99e7a90d6  Elvis Costello & The Attractions   \n",
[
    "1  9cc0cfd4d7d7885102480dd99e7a90d6  Paul McCartney   \n",
    "2  9cc0cfd4d7d7885102480dd99e7a90d6  Lissie   \n",
    "3  9cc0cfd4d7d7885102480dd99e7a90d6  The Breakers   \n",
    "4  9cc0cfd4d7d7885102480dd99e7a90d6  Paul McCartney   \n",
    "\n",
    "\"trackname\"  \"playlistname\"  \n",
    "0  Accidents Will Happen  HARD ROCK 2010  \n",
    "1  Band On The Run  HARD ROCK 2010  \n",
    "2  Bright Side  HARD ROCK 2010  \n",
    "3  Dance The Go-Go  HARD ROCK 2010  \n",
    "4  Dance Tonight  HARD ROCK 2010  \n"
]

          ]
        }
      ],
      "source": [
        "df_playlist = pd.read_csv(os.path.join(extraction_path, 'spotify_dataset.csv'), on_bad_lines='skip', skiprows=lambda i: i > 0 and random.random() > 0.5)\n",
        "# Display the first few rows of the dataframe\n",
        "print(df_playlist.head())\n"
      ]
    },
    {
      "cell_type": "markdown",
      "id": "2ce4cb6f",
      "metadata": {
        "papermill": {
          "duration": 0.038898,
          "end_time": "2021-11-23T16:23:21.219472",
          "exception": false,
          "start_time": "2021-11-23T16:23:21.180574",
          "status": "completed"
        },
        "tags": [],
        "id": "2ce4cb6f"
      },
      "source": [
        "### Size of dataframe"
      ]
    },
    {
      "cell_type": "code",
{
  "execution_count": 96
}

      "id": "9ce8304b",
      "metadata": {
        "execution": {
          "iopub.execute_input": "2021-11-23T16:23:21.365370Z",
          "iopub.status.busy": "2021-11-23T16:23:21.364673Z",
          "iopub.status.idle": "2021-11-23T16:23:21.367238Z",
          "shell.execute_reply": "2021-11-23T16:23:21.367724Z",
          "shell.execute_reply.started": "2021-11-23T15:31:57.184484Z"
        },
        "papermill": {
          "duration": 0.109209,
          "end_time": "2021-11-23T16:23:21.367887",
          "exception": false,
          "start_time": "2021-11-23T16:23:21.258678",
          "status": "completed"
        },
        "tags": [],
        "id": "9ce8304b",
{
  "outputId": "fcc77989-4c33-41c6-e918-0ef33ad4e1b9"
}

        "colab": {
          "base_uri": "https://localhost:8080/"
        }
      },
      "outputs": [
        {
          "output_type": "execute_result",
          "data": {
            "text/plain": [
{
  "(6444171, 4)"
}

        }
      ],
      "source": [
        "df_playlist.shape"
      ]
    },
    {
      "cell_type": "markdown",
      "id": "a16640b2",
      "metadata": {
        "papermill": {
          "duration": 0.038638,
          "end_time": "2021-11-23T16:23:21.445260",
          "exception": false,
          "start_time": "2021-11-23T16:23:21.406622",
          "status": "completed"
        },
        "tags": [],
        "id": "a16640b2"
      },
      "source": [
        "### Clean up column names"
      ]
    },
    {
      "cell_type": "code",
{
  "execution_count": 97
}

      "id": "c9608065",
      "metadata": {
        "execution": {
          "iopub.execute_input": "2021-11-23T16:23:21.526041Z",
          "iopub.status.busy": "2021-11-23T16:23:21.525413Z",
          "iopub.status.idle": "2021-11-23T16:23:21.532678Z",
          "shell.execute_reply": "2021-11-23T16:23:21.533291Z",
          "shell.execute_reply.started": "2021-11-23T15:31:57.192417Z"
        },
        "papermill": {
          "duration": 0.049434,
          "end_time": "2021-11-23T16:23:21.533462",
          "exception": false,
          "start_time": "2021-11-23T16:23:21.484028",
          "status": "completed"
        },
        "tags": [],
        "id": "c9608065",
{
  "outputId": "2e9e2627-bd3c-4ad7-fafa-e6940d49bbd1"
}

        "colab": {
          "base_uri": "https://localhost:8080/"
        }
      },
      "outputs": [
        {
          "output_type": "execute_result",
          "data": {
            "text/plain": [
              "Index(['user_id', 'artist', 'track', 'playlist'], dtype='object')"
            ]
          },
          "metadata": {},
{
  "execution_count": 97
}

        }
      ],
      "source": [
        "df_playlist.columns = df_playlist.columns.str.replace('\"', '')\n",
        "df_playlist.columns = df_playlist.columns.str.replace('name', '')\n",
        "df_playlist.columns = df_playlist.columns.str.replace(' ', '')\n",
        "df_playlist.columns"
      ]
    },
    {
      "cell_type": "code",
{
  "execution_count": 98
}

      "id": "f6156ade",
      "metadata": {
        "id": "f6156ade",
        "colab": {
          "base_uri": "https://localhost:8080/",
{
  "height": 226,
  "outputId": "799fbd24-016c-4991-c0b3-77153f3bf07c"
}

      },
      "outputs": [
        {
          "output_type": "execute_result",
          "data": {
            "text/plain": [
              "user_id         0\n",
{
  "artist": 16921,
  "track": 45,
  "playlist": 651
}

              "dtype: int64"
            ],
            "text/html": [
              "<div>\n",
              "<style scoped>\n",
              "    .dataframe tbody tr th:only-of-type {\n",
              "        vertical-align: middle;\n",
              "    }\n",
              "\n",
              "    .dataframe tbody tr th {\n",
              "        vertical-align: top;\n",
              "    }\n",
              "\n",
              "    .dataframe thead th {\n",
              "        text-align: right;\n",
              "    }\n",
              "</style>\n",
              "<table border=\"1\" class=\"dataframe\">\n",
              "  <thead>\n",
              "    <tr style=\"text-align: right;\">\n",
              "      <th></th>\n",
              "      <th>0</th>\n",
              "    </tr>\n",
              "  </thead>\n",
              "  <tbody>\n",
              "    <tr>\n",
              "      <th>user_id</th>\n",
              "      <td>0</td>\n",
              "    </tr>\n",
              "    <tr>\n",
              "      <th>artist</th>\n",
<tr>
  <th>artist</th>
  <td>16921</td>
</tr>
<tr>
  <th>track</th>
  <td>45</td>
</tr>
<tr>
  <th>playlist</th>
  <td>651</td>
</tr>

              "    </tr>\n",
              "  </tbody>\n",
              "</table>\n",
              "</div><br><label><b>dtype:</b> int64</label>"
            ]
          },
          "metadata": {},
          "execution_count": 98
        }
      ],
      "source": [
        "# CHECKING FOR MISSING VALUES\n",
        "df_playlist.isnull().sum()"
      ]
    },
    {
      "cell_type": "code",
"execution_count": 99

      "id": "bf9f810b",
      "metadata": {
        "id": "bf9f810b"
      },
      "outputs": [],
      "source": [
        "#DROPPING MISSING VALUES\n",
        "df_playlist.dropna(axis = 0, inplace = True, subset = ['user_id','artist','track','playlist'])"
      ]
    },
    {
      "cell_type": "markdown",
      "id": "f93c88a2",
      "metadata": {
        "papermill": {
          "duration": 0.038848,
          "end_time": "2021-11-23T16:23:21.611551",
          "exception": false,
          "start_time": "2021-11-23T16:23:21.572703",
          "status": "completed"
        },
        "tags": [],
        "id": "f93c88a2"
      },
      "source": [
        "<a id=\"section-3\"></a>\n",
        "# Data Prep"
      ]
    },
    {
      "cell_type": "markdown",
      "id": "1eda06dc",
      "metadata": {
        "papermill": {
          "duration": 0.039029,
          "end_time": "2021-11-23T16:23:21.689807",
          "exception": false,
          "start_time": "2021-11-23T16:23:21.650778",
          "status": "completed"
        },
        "tags": [],
        "id": "1eda06dc"
      },
      "source": [
        "#### For recommender system, We are only keeping the artists with frequency higher than 50"
      ]
    },
    {
      "cell_type": "code",
      "execution_count": 100,
      "id": "b10fe4ac",
      "metadata": {
        "execution": {
          "iopub.execute_input": "2021-11-23T16:23:23.558387Z",
          "iopub.status.busy": "2021-11-23T16:23:23.533387Z",
          "iopub.status.idle": "2021-11-23T16:23:32.404401Z",
          "shell.execute_reply": "2021-11-23T16:23:32.404961Z",
          "shell.execute_reply.started": "2021-11-23T15:31:57.210093Z"
        },
        "papermill": {
          "duration": 10.675036,
          "end_time": "2021-11-23T16:23:32.405160",
          "exception": false,
          "start_time": "2021-11-23T16:23:21.730124",
          "status": "completed"
        },
        "tags": [],
        "id": "b10fe4ac",
        "colab": {
          "base_uri": "https://localhost:8080/",
          "height": 296
        },
        "outputId": "8bd665be-8b25-4a8d-f865-c87485461872"
      },
      "outputs": [
        {
          "output_type": "error",
          "ename": "KeyboardInterrupt",
          "evalue": "",
          "traceback": [
            "\u001b[0;31m---------------------------------------------------------------------------\u001b[0m",
            "\u001b[0;31mKeyboardInterrupt\u001b[0m                         Traceback (most recent call last)",
            "\u001b[0;32m<ipython-input-11-927c05c0fd4f>\u001b[0m in \u001b[0;36m<cell line: 0>\u001b[0;34m()\u001b[0m\n\u001b[0;32m----> 1\u001b[0;31m \u001b[0mdf_playlist\u001b[0m \u001b[0;34m=\u001b[0m \u001b[0mdf_playlist\u001b[0m\u001b[0;34m.\u001b[0m\u001b[0mgroupby\u001b[0m\u001b[0;34m(\u001b[0m\u001b[0;34m'artist'\u001b[0m\u001b[0;34m)\u001b[0m\u001b[0;34m.\u001b[0m\u001b[0mfilter\u001b[0m\u001b[0;34m(\u001b[0m\u001b[0;32mlambda\u001b[0m \u001b[0mx\u001b[0m \u001b[0;34m:\u001b[0m \u001b[0mlen\u001b[0m\u001b[0;34m(\u001b[0m\u001b[0mx\u001b[0m\u001b[0;34m)\u001b[0m\u001b[0;34m>=\u001b[0m\u001b[0;36m50\u001b[0m\u001b[0;34m)\u001b[0m\u001b[0;34m\u001b[0m\u001b[0;34m\u001b[0m\u001b[0m\n\u001b[0m",
            "\u001b[0;32m/usr/local/lib/python3.11/dist-packages/pandas/core/groupby/generic.py\u001b[0m in \u001b[0;36mfilter\u001b[0;34m(self, func, dropna, *args, **kwargs)\u001b[0m\n\u001b[1;32m   1912\u001b[0m         \u001b[0mgen\u001b[0m \u001b[0;34m=\u001b[0m \u001b[0mself\u001b[0m\u001b[0;34m.\u001b[0m\u001b[0m_grouper\u001b[0m\u001b[0;34m.\u001b[0m\u001b[0mget_iterator\u001b[0m\u001b[0;34m(\u001b[0m\u001b[0mobj\u001b[0m\u001b[0;34m,\u001b[0m \u001b[0maxis\u001b[0m\u001b[0;34m=\u001b[0m\u001b[0mself\u001b[0m\u001b[0;34m.\u001b[0m\u001b[0maxis\u001b[0m\u001b[0;34m)\u001b[0m\u001b[0;34m\u001b[0m\u001b[0;34m\u001b[0m\u001b[0m\n\u001b[1;32m   1913\u001b[0m \u001b[0;34m\u001b[0m\u001b[0m\n\u001b[0;32m-> 1914\u001b[0;31m         \u001b[0;32mfor\u001b[0m \u001b[0mname\u001b[0m\u001b[0;34m,\u001b[0m \u001b[0mgroup\u001b[0m \u001b[0;32min\u001b[0m \u001b[0mgen\u001b[0m\u001b[0;34m:\u001b[0m\u001b[0;34m\u001b[0m\u001b[0;34m\u001b[0m\u001b[0m\n\u001b[0m\u001b[1;32m   1915\u001b[0m             \u001b[0;31m# 2023-02-27 no tests are broken this pinning, but it is documented in the\u001b[0m\u001b[0;34m\u001b[0m\u001b[0;34m\u001b[0m\u001b[0m\n\u001b[1;32m   1916\u001b[0m             \u001b[0;31m#  docstring above.\u001b[0m\u001b[0;34m\u001b[0m\u001b[0;34m\u001b[0m\u001b[0m\n",
            "\u001b[0;32m/usr/local/lib/python3.11/dist-packages/pandas/core/groupby/ops.py\u001b[0m in \u001b[0;36mget_iterator\u001b[0;34m(self, data, axis)\u001b[0m\n\u001b[1;32m    618\u001b[0m         \u001b[0msplitter\u001b[0m \u001b[0;34m=\u001b[0m \u001b[0mself\u001b[0m\u001b[0;34m.\u001b[0m\u001b[0m_get_splitter\u001b[0m\u001b[0;34m(\u001b[0m\u001b[0mdata\u001b[0m\u001b[0;34m,\u001b[0m \u001b[0maxis\u001b[0m\u001b[0;34m=\u001b[0m\u001b[0maxis\u001b[0m\u001b[0;34m)\u001b[0m\u001b[0;34m\u001b[0m\u001b[0;34m\u001b[0m\u001b[0m\n\u001b[1;32m    619\u001b[0m         \u001b[0mkeys\u001b[0m \u001b[0;34m=\u001b[0m \u001b[0mself\u001b[0m\u001b[0;34m.\u001b[0m\u001b[0mgroup_keys_seq\u001b[0m\u001b[0;34m\u001b[0m\u001b[0;34m\u001b[0m\u001b[0m\n\u001b[0;32m--> 620\u001b[0;31m         \u001b[0;32myield\u001b[0m \u001b[0;32mfrom\u001b[0m \u001b[0mzip\u001b[0m\u001b[0;34m(\u001b[0m\u001b[0mkeys\u001b[0m\u001b[0;34m,\u001b[0m \u001b[0msplitter\u001b[0m\u001b[0;34m)\u001b[0m\u001b[0;34m\u001b[0m\u001b[0;34m\u001b[0m\u001b[0m\n\u001b[0m\u001b[1;32m    621\u001b[0m \u001b[0;34m\u001b[0m\u001b[0m\n\u001b[1;32m    622\u001b[0m     \u001b[0;34m@\u001b[0m\u001b[0mfinal\u001b[0m\u001b[0;34m\u001b[0m\u001b[0;34m\u001b[0m\u001b[0m\n",
            "\u001b[0;32m/usr/local/lib/python3.11/dist-packages/pandas/core/groupby/ops.py\u001b[0m in \u001b[0;36m__iter__\u001b[0;34m(self)\u001b[0m\n\u001b[1;32m   1158\u001b[0m \u001b[0;34m\u001b[0m\u001b[0m\n\u001b[1;32m   1159\u001b[0m         \u001b[0;32mfor\u001b[0m \u001b[0mstart\u001b[0m\u001b[0;34m,\u001b[0m \u001b[0mend\u001b[0m \u001b[0;32min\u001b[0m \u001b[0mzip\u001b[0m\u001b[0;34m(\u001b[0m\u001b[0mstarts\u001b[0m\u001b[0;34m,\u001b[0m \u001b[0mends\u001b[0m\u001b[0;34m)\u001b[0m\u001b[0;34m:\u001b[0m\u001b[0;34m\u001b[0m\u001b[0;34m\u001b[0m\u001b[0m\n\u001b[0;32m-> 1160\u001b[0;31m             \u001b[0;32myield\u001b[0m \u001b[0mself\u001b[0m\u001b[0;34m.\u001b[0m\u001b[0m_chop\u001b[0m\u001b[0;34m(\u001b[0m\u001b[0msdata\u001b[0m\u001b[0;34m,\u001b[0m \u001b[0mslice\u001b[0m\u001b[0;34m(\u001b[0m\u001b[0mstart\u001b[0m\u001b[0;34m,\u001b[0m \u001b[0mend\u001b[0m\u001b[0;34m)\u001b[0m\u001b[0;34m)\u001b[0m\u001b[0;34m\u001b[0m\u001b[0;34m\u001b[0m\u001b[0m\n\u001b[0m\u001b[1;32m   1161\u001b[0m \u001b[0;34m\u001b[0m\u001b[0m\n\u001b[1;32m   1162\u001b[0m     \u001b[0;34m@\u001b[0m\u001b[0mcache_readonly\u001b[0m\u001b[0;34m\u001b[0m\u001b[0;34m\u001b[0m\u001b[0m\n",
            "\u001b[0;32m/usr/local/lib/python3.11/dist-packages/pandas/core/groupby/ops.py\u001b[0m in \u001b[0;36m_chop\u001b[0;34m(self, sdata, slice_obj)\u001b[0m\n\u001b[1;32m   1185\u001b[0m         \u001b[0;31m#     return sdata.iloc[:, slice_obj]\u001b[0m\u001b[0;34m\u001b[0m\u001b[0;34m\u001b[0m\u001b[0m\n\u001b[1;32m   1186\u001b[0m         \u001b[0mmgr\u001b[0m \u001b[0;34m=\u001b[0m \u001b[0msdata\u001b[0m\u001b[0;34m.\u001b[0m\u001b[0m_mgr\u001b[0m\u001b[0;34m.\u001b[0m\u001b[0mget_slice\u001b[0m\u001b[0;34m(\u001b[0m\u001b[0mslice_obj\u001b[0m\u001b[0;34m,\u001b[0m \u001b[0maxis\u001b[0m\u001b[0;34m=\u001b[0m\u001b[0;36m1\u001b[0m \u001b[0;34m-\u001b[0m \u001b[0mself\u001b[0m\u001b[0;34m.\u001b[0m\u001b[0maxis\u001b[0m\u001b[0;34m)\u001b[0m\u001b[0;34m\u001b[0m\u001b[0;34m\u001b[0m\u001b[0m\n\u001b[0;32m-> 1187\u001b[0;31m         \u001b[0mdf\u001b[0m \u001b[0;34m=\u001b[0m \u001b[0msdata\u001b[0m\u001b[0;34m.\u001b[0m\u001b[0m_constructor_from_mgr\u001b[0m\u001b[0;34m(\u001b[0m\u001b[0mmgr\u001b[0m\u001b[0;34m,\u001b[0m \u001b[0maxes\u001b[0m\u001b[0;34m=\u001b[0m\u001b[0mmgr\u001b[0m\u001b[0;34m.\u001b[0m\u001b[0maxes\u001b[0m\u001b[0;34m)\u001b[0m\u001b[0;34m\u001b[0m\u001b[0;34m\u001b[0m\u001b[0m\n\u001b[0m\u001b[1;32m   1188\u001b[0m         \u001b[0;32mreturn\u001b[0m \u001b[0mdf\u001b[0m\u001b[0;34m.\u001b[0m\u001b[0m__finalize__\u001b[0m\u001b[0;34m(\u001b[0m\u001b[0msdata\u001b[0m\u001b[0;34m,\u001b[0m \u001b[0mmethod\u001b[0m\u001b[0;34m=\u001b[0m\u001b[0;34m\"groupby\"\u001b[0m\u001b[0;34m)\u001b[0m\u001b[0;34m\u001b[0m\u001b[0;34m\u001b[0m\u001b[0m\n\u001b[1;32m   1189\u001b[0m \u001b[0;34m\u001b[0m\u001b[0m\n",
            "\u001b[0;32m/usr/local/lib/python3.11/dist-packages/pandas/core/frame.py\u001b[0m in \u001b[0;36m_constructor_from_mgr\u001b[0;34m(self, mgr, axes)\u001b[0m\n\u001b[1;32m    658\u001b[0m \u001b[0;34m\u001b[0m\u001b[0m\n\u001b[1;32m    659\u001b[0m     \u001b[0;32mdef\u001b[0m \u001b[0m_constructor_from_mgr\u001b[0m\u001b[0;34m(\u001b[0m\u001b[0mself\u001b[0m\u001b[0;34m,\u001b[0m \u001b[0mmgr\u001b[0m\u001b[0;34m,\u001b[0m \u001b[0maxes\u001b[0m\u001b[0;34m)\u001b[0m \u001b[0;34m->\u001b[0m \u001b[0mDataFrame\u001b[0m\u001b[0;34m:\u001b[0m\u001b[0;34m\u001b[0m\u001b[0;34m\u001b[0m\u001b[0m\n\u001b[0;32m--> 660\u001b[0;31m         \u001b[0mdf\u001b[0m \u001b[0;34m=\u001b[0m \u001b[0mDataFrame\u001b[0m\u001b[0;34m.\u001b[0m\u001b[0m_from_mgr\u001b[0m\u001b[0;34m(\u001b[0m\u001b[0mmgr\u001b[0m\u001b[0;34m,\u001b[0m \u001b[0maxes\u001b[0m\u001b[0;34m=\u001b[0m\u001b[0maxes\u001b[0m\u001b[0;34m)\u001b[0m\u001b[0;34m\u001b[0m\u001b[0;34m\u001b[0m\u001b[0m\n\u001b[0m\u001b[1;32m    661\u001b[0m \u001b[0;34m\u001b[0m\u001b[0m\n\u001b[1;32m    662\u001b[0m         \u001b[0;32mif\u001b[0m \u001b[0mtype\u001b[0m\u001b[0;34m(\u001b[0m\u001b[0mself\u001b[0m\u001b[0;34m)\u001b[0m \u001b[0;32mis\u001b[0m \u001b[0mDataFrame\u001b[0m\u001b[0;34m:\u001b[0m\u001b[0;34m\u001b[0m\u001b[0;34m\u001b[0m\u001b[0m\n",
            "\u001b[0;32m/usr/local/lib/python3.11/dist-packages/pandas/core/generic.py\u001b[0m in \u001b[0;36m_from_mgr\u001b[0;34m(cls, mgr, axes)\u001b[0m\n\u001b[1;32m    355\u001b[0m         \"\"\"\n\u001b[1;32m    356\u001b[0m         \u001b[0mobj\u001b[0m \u001b[0;34m=\u001b[0m \u001b[0mcls\u001b[0m\u001b[0;34m.\u001b[0m\u001b[0m__new__\u001b[0m\u001b[0;34m(\u001b[0m\u001b[0mcls\u001b[0m\u001b[0;34m)\u001b[0m\u001b[0;34m\u001b[0m\u001b[0;34m\u001b[0m\u001b[0m\n\u001b[0;32m--> 357\u001b[0;31m         \u001b[0mNDFrame\u001b[0m\u001b[0;34m.\u001b[0m\u001b[0m__init__\u001b[0m\u001b[0;34m(\u001b[0m\u001b[0mobj\u001b[0m\u001b[0;34m,\u001b[0m \u001b[0mmgr\u001b[0m\u001b[0;34m)\u001b[0m\u001b[0;34m\u001b[0m\u001b[0;34m\u001b[0m\u001b[0m\n\u001b[0m\u001b[1;32m    358\u001b[0m         \u001b[0;32mreturn\u001b[0m \u001b[0mobj\u001b[0m\u001b[0;34m\u001b[0m\u001b[0;34m\u001b[0m\u001b[0m\n\u001b[1;32m    359\u001b[0m \u001b[0;34m\u001b[0m\u001b[0m\n",
            "\u001b[0;32m/usr/local/lib/python3.11/dist-packages/pandas/core/generic.py\u001b[0m in \u001b[0;36m__init__\u001b[0;34m(self, data)\u001b[0m\n\u001b[1;32m    279\u001b[0m         \u001b[0mobject\u001b[0m\u001b[0;34m.\u001b[0m\u001b[0m__setattr__\u001b[0m\u001b[0;34m(\u001b[0m\u001b[0mself\u001b[0m\u001b[0;34m,\u001b[0m \u001b[0;34m\"_is_copy\"\u001b[0m\u001b[0;34m,\u001b[0m \u001b[0;32mNone\u001b[0m\u001b[0;34m)\u001b[0m\u001b[0;34m\u001b[0m\u001b[0;34m\u001b[0m\u001b[0m\n\u001b[1;32m    280\u001b[0m         \u001b[0mobject\u001b[0m\u001b[0;34m.\u001b[0m\u001b[0m__setattr__\u001b[0m\u001b[0;34m(\u001b[0m\u001b[0mself\u001b[0m\u001b[0;34m,\u001b[0m \u001b[0;34m\"_mgr\"\u001b[0m\u001b[0;34m,\u001b[0m \u001b[0mdata\u001b[0m\u001b[0;34m)\u001b[0m\u001b[0;34m\u001b[0m\u001b[0;34m\u001b[0m\u001b[0m\n\u001b[0;32m--> 281\u001b[0;31m         \u001b[0mobject\u001b[0m\u001b[0;34m.\u001b[0m\u001b[0m__setattr__\u001b[0m\u001b[0;34m(\u001b[0m\u001b[0mself\u001b[0m\u001b[0;34m,\u001b[0m \u001b[0;34m\"_item_cache\"\u001b[0m\u001b[0;34m,\u001b[0m \u001b[0;34m{\u001b[0m\u001b[0;34m}\u001b[0m\u001b[0;34m)\u001b[0m\u001b[0;34m\u001b[0m\u001b[0;34m\u001b[0m\u001b[0m\n\u001b[0m\u001b[1;32m    282\u001b[0m         \u001b[0mobject\u001b[0m\u001b[0;34m.\u001b[0m\u001b[0m__setattr__\u001b[0m\u001b[0;34m(\u001b[0m\u001b[0mself\u001b[0m\u001b[0;34m,\u001b[0m \u001b[0;34m\"_attrs\"\u001b[0m\u001b[0;34m,\u001b[0m \u001b[0;34m{\u001b[0m\u001b[0;34m}\u001b[0m\u001b[0;34m)\u001b[0m\u001b[0;34m\u001b[0m\u001b[0;34m\u001b[0m\u001b[0m\n\u001b[1;32m    283\u001b[0m         \u001b[0mobject\u001b[0m\u001b[0;34m.\u001b[0m\u001b[0m__setattr__\u001b[0m\u001b[0;34m(\u001b[0m\u001b[0mself\u001b[0m\u001b[0;34m,\u001b[0m \u001b[0;34m\"_flags\"\u001b[0m\u001b[0;34m,\u001b[0m \u001b[0mFlags\u001b[0m\u001b[0;34m(\u001b[0m\u001b[0mself\u001b[0m\u001b[0;34m,\u001b[0m \u001b[0mallows_duplicate_labels\u001b[0m\u001b[0;34m=\u001b[0m\u001b[0;32mTrue\u001b[0m\u001b[0;34m)\u001b[0m\u001b[0;34m)\u001b[0m\u001b[0;34m\u001b[0m\u001b[0;34m\u001b[0m\u001b[0m\n",
            "\u001b[0;31mKeyboardInterrupt\u001b[0m: "
          ]
        }
      ],
      "source": [
        "df_playlist = df_playlist.groupby('artist').filter(lambda x : len(x)>=50)"
      ]
    },
    {
      "cell_type": "markdown",
      "id": "c8bbac49",
      "metadata": {
        "papermill": {
          "duration": 0.038954,
          "end_time": "2021-11-23T16:23:32.483560",
          "exception": false,
          "start_time": "2021-11-23T16:23:32.444606",
          "status": "completed"
        },
        "tags": [],
        "id": "c8bbac49"
      },
      "source": [
        "#### And keeping the users with at least 10 unique artists in their playlists to lessen the impact of cold start problem"
      ]
    },
    {
      "cell_type": "code",
      "execution_count": 101,
      "id": "f6425549",
      "metadata": {
        "execution": {
          "iopub.execute_input": "2021-11-23T16:23:32.565908Z",
          "iopub.status.busy": "2021-11-23T16:23:32.565291Z",
          "iopub.status.idle": "2021-11-23T16:23:35.870635Z",
          "shell.execute_reply": "2021-11-23T16:23:35.869856Z",
          "shell.execute_reply.started": "2021-11-23T15:32:04.564655Z"
        },
        "papermill": {
          "duration": 3.347742,
          "end_time": "2021-11-23T16:23:35.870781",
          "exception": false,
          "start_time": "2021-11-23T16:23:32.523039",
          "status": "completed"
        },
        "tags": [],
        "id": "f6425549"
      },
      "outputs": [],
      "source": [
        "df_playlist = df_playlist[df_playlist.groupby('user_id').artist.transform('nunique') >= 10]"
      ]
    },
    {
      "cell_type": "markdown",
      "id": "8db96890",
      "metadata": {
        "papermill": {
          "duration": 0.039003,
          "end_time": "2021-11-23T16:23:35.950561",
          "exception": false,
          "start_time": "2021-11-23T16:23:35.911558",
          "status": "completed"
        },
        "tags": [],
        "id": "8db96890"
      },
      "source": [
        "#### Group by to get the frequnecy count for each user and artist (# of times that an artist has appeared in playlists created by a user)"
      ]
    },
    {
      "cell_type": "code",
      "execution_count": 102,
      "id": "5197ae38",
      "metadata": {
        "execution": {
          "iopub.execute_input": "2021-11-23T16:23:36.378854Z",
          "iopub.status.busy": "2021-11-23T16:23:36.378148Z",
          "iopub.status.idle": "2021-11-23T16:23:38.555499Z",
          "shell.execute_reply": "2021-11-23T16:23:38.554878Z",
          "shell.execute_reply.started": "2021-11-23T16:05:58.546208Z"
        },
        "papermill": {
          "duration": 2.565863,
          "end_time": "2021-11-23T16:23:38.555651",
          "exception": false,
          "start_time": "2021-11-23T16:23:35.989788",
          "status": "completed"
        },
        "tags": [],
{
  "id": "5197ae38",
  "outputId": "c605a276-1de2-462b-dcbc-f70241264c2b",
  "colab": {
    "base_uri": "https://localhost:8080/",
    "height": 223
  },
  "outputs": [
    {
      "output_type": "execute_result",
      "data": {
        "text/plain": [
          "                                  user_id                  artist  freq\n",
          "246679   26b51e580277e131f87e4c7ee4c0887a  Vitamin String Quartet  1705\n",
          "1391759  defced0ece4ce946160b0d2698142eac  Vitamin String Quartet  1685\n",
          "412186   414050deadb38aafd8d4ad22ca634055  Vitamin String Quartet  1336\n",
          "1357286  d993ff8f2de226e2c6803e47a22e9d7e         Lata Mangeshkar  1131\n",
          "10852    014e695cc6df96011b90a5beb3206012             Ilaiyaraaja  1100"
        ],
        "text/html": [
          "<div id=\"df-782cd5e6-eb45-4327-88e1-809072e54e95\" class=\"colab-df-container\">\n",
          "  <div>\n",
          "    <style scoped>\n",
          "      .dataframe tbody tr th:only-of-type {\n",
          "        vertical-align: middle;\n",
          "      }\n",
          "      .dataframe tbody tr th {\n",
          "        vertical-align: top;\n",
          "      }\n",
          "      .dataframe thead th {\n",
          "        text-align: right;\n",
          "      }\n",
          "    </style>\n",
          "    <table border=\"1\" class=\"dataframe\">\n",
          "      <thead>\n",
          "        <tr style=\"text-align: right;\">\n",
          "          <th></th>\n",
          "          <th>user_id</th>\n",
          "          <th>artist</th>\n",
          "          <th>freq</th>\n",
          "        </tr>\n",
          "      </thead>\n",
          "      <tbody>\n",
          "        <tr>\n",
          "          <th>246679</th>\n",
          "          <td>26b51e580277e131f87e4c7ee4c0887a</td>\n",
          "          <td>Vitamin String Quartet</td>\n",
          "          <td>1705</td>\n",
          "        </tr>\n",
          "        <tr>\n",
          "          <th>1391759</th>\n",
          "          <td>defced0ece4ce946160b0d2698142eac</td>\n",
          "          <td>Vitamin String Quartet</td>\n",
          "          <td>1685</td>\n",
          "        </tr>\n",
          "        <tr>\n",
          "          <th>412186</th>\n",
          "          <td>414050deadb38aafd8d4ad22ca634055</td>\n",
          "          <td>Vitamin String Quartet</td>\n",
          "          <td>1336</td>\n",
          "        </tr>\n",
          "        <tr>\n",
          "          <th>1357286</th>\n",
          "          <td>d993ff8f2de226e2c6803e47a22e9d7e</td>\n",
          "          <td>Lata Mangeshkar</td>\n",
          "          <td>1131</td>\n",
          "        </tr>\n",
          "        <tr>\n",
          "          <th>10852</th>\n",
          "          <td>014e695cc6df96011b90a5beb3206012</td>\n",
          "          <td>Ilaiyaraaja</td>\n",
          "          <td>1100</td>\n",
          "        </tr>\n",
          "      </tbody>\n",
          "    </table>\n",
          "  </div>\n",
          "  <div class=\"colab-df-buttons\">\n",
          "    <div class=\"colab-df-container\">\n",
          "      <button class=\"colab-df-convert\" onclick=\"convertToInteractive('df-782cd5e6-eb45-4327-88e1-809072e54e95')\"\n",
          "              title=\"Convert this dataframe to an interactive table.\"\n",
          "              style=\"display:none;\">\n",
          "        <svg xmlns=\"http://www.w3.org/2000/svg\" height=\"24px\" viewBox=\"0 -960 960 960\">\n",
          "          <path d=\"M120-120v-720h720v720H120Zm60-500h600v-160H180v160Zm220 220h160v-160H400v160Zm0 220h160v-160H400v160ZM180-400h160v-160H180v160Zm440 0h160v-160H620v160ZM180-180h160v-160H180v160Zm440 0h160v-160H620v160Z\"/>\n",
          "        </svg>\n",
          "      </button>\n",
          "    </div>\n",
          "  </div>\n",
          "</div>\n"
        ]
      }
    }
  ]
}

        "id": "0f43b498",
        "outputId": "97e9eb83-212f-4dbc-8290-35c88b13e76a",
        "colab": {
          "base_uri": "https://localhost:8080/",
          "height": 223
        }
      },
      "outputs": [
        {
          "output_type": "execute_result",
          "data": {
            "text/plain": [
              "   artist_id                  artist\n",
              "0          0  Vitamin String Quartet\n",
              "1          1         Lata Mangeshkar\n",
              "2          2             Ilaiyaraaja\n",
              "3          3           Grateful Dead\n",
              "4          4               Peggy Lee"
            ],
            "text/html": [
              "\n",
              "  <div id=\"df-db7c02d5-7212-4037-8e17-9ed77f3a775d\" class=\"colab-df-container\">\n",
              "    <div>\n",
              "<style scoped>\n",
              "    .dataframe tbody tr th:only-of-type {\n",
              "        vertical-align: middle;\n",
              "    }\n",
              "\n",
              "    .dataframe tbody tr th {\n",
              "        vertical-align: top;\n",
              "    }\n",
              "\n",
              "    .dataframe thead th {\n",
              "        text-align: right;\n",
              "    }\n",
              "</style>\n",
              "<table border=\"1\" class=\"dataframe\">\n",
              "  <thead>\n",
              "    <tr style=\"text-align: right;\">\n",
              "      <th></th>\n",
              "      <th>artist_id</th>\n",
              "      <th>artist</th>\n",
              "    </tr>\n",
              "  </thead>\n",
              "  <tbody>\n",
              "    <tr>\n",
              "      <th>0</th>\n",
              "      <td>0</td>\n",
              "      <td>Vitamin String Quartet</td>\n",
              "    </tr>\n",
              "    <tr>\n",
              "      <th>1</th>\n",
              "      <td>1</td>\n",
              "      <td>Lata Mangeshkar</td>\n",
              "    </tr>\n",
              "    <tr>\n",
              "      <th>2</th>\n",
              "      <td>2</td>\n",
              "      <td>Ilaiyaraaja</td>\n",
              "    </tr>\n",
              "    <tr>\n",
              "      <th>3</th>\n",
              "      <td>3</td>\n",
              "      <td>Grateful Dead</td>\n",
              "    </tr>\n",
              "    <tr>\n",
              "      <th>4</th>\n",
              "      <td>4</td>\n",
              "      <td>Peggy Lee</td>\n",
              "    </tr>\n",
              "  </tbody>\n",
              "</table>\n",
              "</div>\n",
              "    <div class=\"colab-df-buttons\">\n",
              "\n",
              "  <div class=\"colab-df-container\">\n",
              "    <button class=\"colab-df-convert\" onclick=\"convertToInteractive('df-db7c02d5-7212-4037-8e17-9ed77f3a775d')\"\n",
              "            title=\"Convert this dataframe to an interactive table.\"\n",
              "            style=\"display:none;\">\n",
              "\n",
              "  <svg xmlns=\"http://www.w3.org/2000/svg\" height=\"24px\" viewBox=\"0 -960 960 960\">\n",
              "    <path d=\"M120-120v-720h720v720H120Zm60-500h600v-160H180v160Zm220 220h160v-160H400v160Zm0 220h160v-160H400v160ZM180-400h160v-160H180v160Zm440 0h160v-160H620v160ZM180-180h160v-160H180v160Zm440 0h160v-160H620v160Z\"/>\n",
              "  </svg>\n",
              "    </button>\n",
              "\n",
              "  <style>\n",
              "    .colab-df-container {\n",
              "      display:flex;\n",
              "      gap: 12px;\n",
              "    }\n",
              "\n",
              "    .colab-df-convert {\n",
              "      background-color: #E8F0FE;\n",
              "      border: none;\n",
              "      border-radius: 50%;\n",
              "      cursor: pointer;\n",
              "      display: none;\n",
              "      fill: #1967D2;\n",
              "      height: 32px;\n",
              "      padding: 0 0 0 0;\n",
              "      width: 32px;\n",
              "    }\n",
              "\n",
              "    .colab-df-convert:hover {\n",
              "      background-color: #E2EBFA;\n",
              "      box-shadow: 0px 1px 2px rgba(60, 64, 67, 0.3), 0px 1px 3px 1px rgba(60, 64, 67, 0.15);\n",
              "      fill: #174EA6;\n",
              "    }\n",
              "\n",
              "    .colab-df-buttons div {\n",
              "      margin-bottom: 4px;\n",
              "    }\n",
              "\n",
              "    [theme=dark] .colab-df-convert {\n",
              "      background-color: #3B4455;\n",
              "      fill: #D2E3FC;\n",
              "    }\n",
              "\n",
              "    [theme=dark] .colab-df-convert:hover {\n",
              "      background-color: #434B5C;\n",
              "      box-shadow: 0px 1px 3px 1px rgba(0, 0, 0, 0.15);\n",
              "      filter: drop-shadow(0px 1px 2px rgba(0, 0, 0, 0.3));\n",
              "      fill: #FFFFFF;\n",
              "    }\n",
              "  </style>\n",
              "\n",
              "    <script>\n",
              "      const buttonEl =\n",
              "        document.querySelector('#df-db7c02d5-7212-4037-8e17-9ed77f3a775d button.colab-df-convert');\n",
              "      buttonEl.style.display =\n",
              "        google.colab.kernel.accessAllowed ? 'block' : 'none';\n",
              "\n",
              "      async function convertToInteractive(key) {\n",
              "        const element = document.querySelector('#df-db7c02d5-7212-4037-8e17-9ed77f3a775d');\n",
              "        const dataTable =\n",
              "          await google.colab.kernel.invokeFunction('convertToInteractive',\n",
              "                                                    [key], {});\n",
              "        if (!dataTable) return;\n",
              "\n",
              "        const docLinkHtml = 'Like what you see? Visit the ' +\n",
              "          '<a target=\"_blank\" href=https://colab.research.google.com/notebooks/data_table.ipynb>data table notebook</a>'\n",
              "          + ' to learn more about interactive tables.';\n",
              "        element.innerHTML = '';\n",
              "        dataTable['output_type'] = 'display_data';\n",
              "        await google.colab.output.renderOutput(dataTable, element);\n",
              "        const docLink = document.createElement('div');\n",
              "        docLink.innerHTML = docLinkHtml;\n",
              "        element.appendChild(docLink);\n",
              "      }\n",
              "    </script>\n",
              "  </div>\n",
              "\n",
              "\n",
              "<div id=\"df-4076542a-f699-43ed-9cad-cd871ee1f14b\">\n",
              "  <button class=\"colab-df-quickchart\" onclick=\"quickchart('df-4076542a-f699-43ed-9cad-cd871ee1f14b')\"\n",
              "            title=\"Suggest charts\"\n",
              "            style=\"display:none;\">\n",
              "\n",
              "<svg xmlns=\"http://www.w3.org/2000/svg\" height=\"24px\"viewBox=\"0 0 24 24\"\n",
              "     width=\"24px\">\n",
              "    <g>\n",
              "        <path d=\"M19 3H5c-1.1 0-2 .9-2 2v14c0 1.1.9 2 2 2h14c1.1 0 2-.9 2-2V5c0-1.1-.9-2-2-2zM9 17H7v-7h2v7zm4 0h-2V7h2v10zm4 0h-2v-4h2v4z\"/>\n",
              "    </g>\n",
              "</svg>\n",
              "  </button>\n",
              "\n",
              "<style>\n",
              "  .colab-df-quickchart {\n",
              "      --bg-color: #E8F0FE;\n",
              "      --fill-color: #1967D2;\n",
              "      --hover-bg-color: #E2EBFA;\n",
              "      --hover-fill-color: #174EA6;\n",
              "      --disabled-fill-color: #AAA;\n",
              "      --disabled-bg-color: #DDD;\n",
              "  }\n",
              "\n",
              "  [theme=dark] .colab-df-quickchart {\n",
              "      --bg-color: #3B4455;\n",
              "      --fill-color: #D2E3FC;\n",
              "      --hover-bg-color: #434B5C;\n",
              "      --hover-fill-color: #FFFFFF;\n",
              "      --disabled-bg-color: #3B4455;\n",
              "      --disabled-fill-color: #666;\n",
              "  }\n",
              "\n",
              "  .colab-df-quickchart {\n",
              "    background-color: var(--bg-color);\n",
              "    border: none;\n",
              "    border-radius: 50%;\n",
              "    cursor: pointer;\n",
              "    display: none;\n",
              "    fill: var(--fill-color);\n",
              "    height: 32px;\n",
              "    padding: 0;\n",
              "    width: 32px;\n",
              "  }\n",
              "\n",
              "  .colab-df-quickchart:hover {\n",
              "    background-color: var(--hover-bg-color);\n",
              "    box-shadow: 0 1px 2px rgba(60, 64, 67, 0.3), 0 1px 3px 1px rgba(60, 64, 67, 0.15);\n",
              "    fill: var(--button-hover-fill-color);\n",
              "  }\n",
              "\n",
              "  .colab-df-quickchart-complete:disabled,\n",
              "  .colab-df-quickchart-complete:disabled:hover {\n",
              "    background-color: var(--disabled-bg-color);\n",
              "    fill: var(--disabled-fill-color);\n",
              "    box-shadow: none;\n",
              "  }\n",
              "\n",
              "  .colab-df-spinner {\n",
              "    border: 2px solid var(--fill-color);\n",
              "    border-color: transparent;\n",
              "    border-bottom-color: var(--fill-color);\n",
              "    animation:\n",
              "      spin 1s steps(1) infinite;\n",
              "  }\n",
              "\n",
              "  @keyframes spin {\n",
              "    0% {\n",
              "      border-color: transparent;\n",
              "      border-bottom-color: var(--fill-color);\n",
              "      border-left-color: var(--fill-color);\n",
              "    }\n",
              "    20% {\n",
              "      border-color: transparent;\n",
              "      border-left-color: var(--fill-color);\n",
              "      border-top-color: var(--fill-color);\n",
              "    }\n",
              "    30% {\n",
              "      border-color: transparent;\n",
              "      border-left-color: var(--fill-color);\n",
              "      border-top-color: var(--fill-color);\n",
              "      border-right-color: var(--fill-color);\n",
              "    }\n",
              "    40% {\n",
              "      border-color: transparent;\n",
              "      border-right-color: var(--fill-color);\n",
              "      border-top-color: var(--fill-color);\n",
              "    }\n",
              "    60% {\n",
              "      border-color: transparent;\n",
              "      border-right-color: var(--fill-color);\n",
              "    }\n",
              "    80% {\n",
              "      border-color: transparent;\n",
              "      border-right-color: var(--fill-color);\n",
              "      border-bottom-color: var(--fill-color);\n",
              "    }\n",
              "    90% {\n",
              "      border-color: transparent;\n",
              "      border-bottom-color: var(--fill-color);\n",
              "    }\n",
              "  }\n",
              "</style>\n",
              "\n",
              "  <script>\n",
              "    async function quickchart(key) {\n",
              "      const quickchartButtonEl =\n",
              "        document.querySelector('#' + key + ' button');\n",
              "      quickchartButtonEl.disabled = true;  // To prevent multiple clicks.\n",
              "      quickchartButtonEl.classList.add('colab-df-spinner');\n",
              "      try {\n",
              "        const charts = await google.colab.kernel.invokeFunction(\n",
              "            'suggestCharts', [key], {});\n",
              "      } catch (error) {\n",
              "        console.error('Error during call to suggestCharts:', error);\n",
              "      }\n",
              "      quickchartButtonEl.classList.remove('colab-df-spinner');\n",
              "      quickchartButtonEl.classList.add('colab-df-quickchart-complete');\n",
              "    }\n",
              "    (() => {\n",
              "      let quickchartButtonEl =\n",
              "        document.querySelector('#df-4076542a-f699-43ed-9cad-cd871ee1f14b button');\n",
              "      quickchartButtonEl.style.display =\n",
              "        google.colab.kernel.accessAllowed ? 'block' : 'none';\n",
              "    })();\n",
              "  </script>\n",
              "</div>\n",
              "\n",
              "    </div>\n",
              "  </div>\n"
            ],
            "application/vnd.google.colaboratory.intrinsic+json": {
              "type": "dataframe",
              "variable_name": "df_artist",
              "summary": "{\n  \"name\": \"df_artist\",\n  \"rows\": 14309,\n  \"fields\": [\n    {\n      \"column\": \"artist_id\",\n      \"properties\": {\n        \"dtype\": \"number\",\n        \"std\": 4130,\n        \"min\": 0,\n        \"max\": 14308,\n        \"num_unique_values\": 14309,\n        \"samples\": [\n          9520,\n          8823,\n          10264\n        ],\n        \"semantic_type\": \"\",\n        \"description\": \"\"\n      }\n    },\n    {\n      \"column\": \"artist\",\n      \"properties\": {\n        \"dtype\": \"string\",\n        \"num_unique_values\": 14309,\n        \"samples\": [\n          \"Mirah\",\n          \"Hanni El Khatib\",\n          \"Exitmusic\"\n        ],\n        \"semantic_type\": \"\",\n        \"description\": \"\"\n      }\n    }\n  ]\n}"
            }
          },
          "metadata": {},
          "execution_count": 103
        }
      ],

      "source": [
        "df_artist = pd.DataFrame(df_freq[\"artist\"].unique())\n",
        "df_artist = df_artist.reset_index()\n",
        "df_artist = df_artist.rename(columns={'index':'artist_id', 0:'artist'})\n",
        "df_artist.head()"
      ]
    },
    {
      "cell_type": "code",
      "execution_count": 104,
      "id": "9c4ebe95",
      "metadata": {
        "execution": {
          "iopub.execute_input": "2021-11-23T16:23:39.014758Z",
          "iopub.status.busy": "2021-11-23T16:23:39.014106Z",
          "iopub.status.idle": "2021-11-23T16:23:39.019445Z",
          "shell.execute_reply": "2021-11-23T16:23:39.019929Z",
          "shell.execute_reply.started": "2021-11-23T15:32:08.144294Z"
        },
        "papermill": {
          "duration": 0.048942,
          "end_time": "2021-11-23T16:23:39.020112",
          "exception": false,
          "start_time": "2021-11-23T16:23:38.971170",
          "status": "completed"
        },
        "tags": [],

        "id": "9c4ebe95",
        "outputId": "845e8173-1dae-4539-e7dd-de25b79b3275",
        "colab": {
          "base_uri": "https://localhost:8080/"
        }
      },
      "outputs": [
        {
          "output_type": "execute_result",
          "data": {
            "text/plain": [
              "(14309, 2)"
            ]
          },
          "metadata": {},
          "execution_count": 104
        }
      ],
      "source": [
        "df_artist.shape"
      ]
    },
    {
      "cell_type": "markdown",
      "id": "dc7f251e",
      "metadata": {
        "papermill": {
          "duration": 0.041239,
          "end_time": "2021-11-23T16:23:39.102173",
          "exception": false,
          "start_time": "2021-11-23T16:23:39.060934",
          "status": "completed"
        },
        "tags": [],
        "id": "dc7f251e"
      },
      "source": [
        "### add artist_id to the main DF"
      ]
    },
    {
      "cell_type": "markdown",
      "source": [],
      "metadata": {
        "id": "LG-N4OgifPcL"
      },
      "id": "LG-N4OgifPcL"
    },
    {
      "cell_type": "code",
      "execution_count": 105,
      "id": "2281570f",
      "metadata": {
        "execution": {
          "iopub.execute_input": "2021-11-23T16:23:39.186355Z",
          "iopub.status.busy": "2021-11-23T16:23:39.185716Z",
          "iopub.status.idle": "2021-11-23T16:23:39.585676Z",
          "shell.execute_reply": "2021-11-23T16:23:39.586192Z",
          "shell.execute_reply.started": "2021-11-23T15:32:08.153603Z"
        },
        "papermill": {
          "duration": 0.443569,
          "end_time": "2021-11-23T16:23:39.586391",
          "exception": false,
          "start_time": "2021-11-23T16:23:39.142822",
          "status": "completed"
        },
        "tags": [],
        "id": "2281570f"
      },
      "outputs": [],
      "source": [
        "df_freq  = pd.merge(df_freq , df_artist, how='inner', on='artist')"
      ]
    },
    {
      "cell_type": "code",
      "source": [
        "df_playlist.shape"
      ],
      "metadata": {
        "colab": {
          "base_uri": "https://localhost:8080/"
        },
        "id": "-gmqzAhqgS0n",
        "outputId": "517298f9-98f0-4e15-eaf4-49916404c77c"
      },
      "id": "-gmqzAhqgS0n",
      "execution_count": 106,
      "outputs": [
        {
          "output_type": "execute_result",
          "data": {
            "text/plain": [
              "(5289945, 4)"
            ]
          },
          "metadata": {},
          "execution_count": 106
        }
      ]
    },
    {
      "cell_type": "code",
      "source": [
        "#Categorize users into \"New\" and \"Frequent\" based on the number of tracks added and compare their activity levels\n",
        "user_activity = df_playlist.groupby('user_id').size().reset_index(name='tracks_added')\n",
        "threshold = 100\n",
        "user_activity['user_category'] = user_activity['tracks_added'].apply(lambda x: 'Frequent' if x >= threshold else 'New')\n",
        "print(user_activity.head())\n"
      ],
      "metadata": {
        "colab": {
          "base_uri": "https://localhost:8080/"
        },
        "id": "6SNEm18RfPoU",
        "outputId": "00693b2a-c652-4ef0-d9d8-9f2c79b5802e"
      },
      "id": "6SNEm18RfPoU",
      "execution_count": 107,
      "outputs": [
        {
          "output_type": "stream",
          "name": "stdout",
          "text": [
            "                            user_id  tracks_added user_category\n",
            "0  00055176fea33f6e027cd3302289378b            48           New\n",
            "1  0007f3dd09c91198371454c608d47f22            42           New\n",
            "2  000b0f32b5739f052b9d40fcc5c41079            86           New\n",
            "3  000c11a16c89aa4b14b328080f5954ee           337      Frequent\n",
            "4  00123e0f544dee3ab006aa7f1e5725a7          7083      Frequent\n"
          ]
        }
      ]
    },
    {
      "cell_type": "code",
      "source": [
        "threshold = user_activity['tracks_added'].quantile(0.75)\n",
        "user_activity['user_category'] = user_activity['tracks_added'].apply(lambda x: 'Frequent' if x >= threshold else 'New')\n",
        "activity_comparison = user_activity.groupby('user_category')['tracks_added'].mean().reset_index()\n",
        "plt.figure(figsize=(6, 4))\n",
        "plt.bar(activity_comparison['user_category'], activity_comparison['tracks_added'], color=['blue', 'orange'])\n",
        "plt.title('Comparison of Activity Levels: New vs. Frequent Users')\n",
        "plt.xlabel('User Category')\n",
        "plt.ylabel('Average Number of Tracks Added')\n",
        "plt.show()\n"
      ],
      "metadata": {
        "id": "gHN98Bz6gxit",
        "outputId": "99f8c0d8-876a-4a3e-fd34-ff6ef6c9a260",
        "colab": {
          "base_uri": "https://localhost:8080/",
          "height": 430
        }
      },
      "id": "gHN98Bz6gxit",
      "execution_count": 108,
      "outputs": [
        {
          "output_type": "display_data",
          "data": {
            "text/plain": [
              "<Figure size 600x400 with 1 Axes>"
            ],
            "image/png": "iVBORw0KGgoAAAANSUhEUgAAAiUAAAGJCAYAAABVW0PjAAAAOnRFWHRTb2Z0d2FyZQBNYXRwbG90bGliIHZlcnNpb24zLjEwLjAsIGh0dHBzOi8vbWF0cGxvdGxpYi5vcmcvlHJYcgAAAAlwSFlzAAAPYQAAD2EBqD+naQAAWO5JREFUeJzt3XdYFNf7NvB7aQsCu6BSbSBWbCh2RIwSMbaY2DWxl68lStTEGGPsYknsUWNi1Bh7N/bejQ17QVTsIEalaUSF5/3Dl/m5LuouLHHj3p/rmkv3zJmZZ7bMPJw5c0YlIgIiIiKid8zqXQdAREREBDApISIiIjPBpISIiIjMApMSIiIiMgtMSoiIiMgsMCkhIiIis8CkhIiIiMwCkxIiIiIyC0xKiIiIyCwwKSGTUalUGDZs2LsOI9sWLFiAEiVKwNbWFi4uLu86HABArVq1UKtWLaOX2717N1QqFXbv3m3ymP5LOnToAB8fn3cdBhG9BZMSE7py5Qq6d++OwoULw97eHhqNBkFBQZgyZQr++eefdx0eGeDixYvo0KED/Pz88Msvv2D27NkGLff1119DpVKhZcuWWd72+fPnMWzYMFy7di3L6zDEokWLMHnyZJOvV6VSoXfv3iZf739BRvKnUqlw/PhxvfkdOnSAk5PTO4js3Rs2bJjy3rw6zZo1612H96+aMWMG5s2bZ1Dda9euQaVS4Ycffsh0/g8//ACVSpXjx4t/m827DuB9sWHDBjRv3hxqtRrt2rVD6dKl8fTpU+zfvx9fffUVzp07Z/AJ7r/qn3/+gY3Nf/srtXv3bqSnp2PKlCkoUqSIQcuICBYvXgwfHx/8+eefSE5OhrOzs9HbPn/+PIYPH45atWrp/VW/detWo9cHADVr1sQ///wDOzs7pWzRokU4e/YswsPDs7ROerNhw4bhzz//fNdhmJ2ZM2fqJWZVqlR5R9G8GzNmzEDevHnRoUOHdx2K2fpvn0HMRExMDFq1aoVChQph586d8PLyUub16tULly9fxoYNG95hhDknPT0dT58+hb29Pezt7d91ONkWHx8PAEZdttm9ezdu3bqFnTt3IiwsDKtWrUL79u1NGtfLSYUxrKys3ovP5b8iICAA69evR2RkJCpUqPCuwzErzZo1Q968eQ2q++jRIzg6OuZwRGQMEcGTJ0/g4OCQo9vh5RsTGD9+PFJSUjBnzhydhCRDkSJF0LdvX+X18+fPMXLkSPj5+UGtVsPHxwfffvstUlNTdZbz8fFBw4YNsXv3blSsWBEODg4oU6aM0j9g1apVKFOmDOzt7REYGIgTJ07oLJ/RZHz16lWEhYXB0dER3t7eGDFiBF59OPQPP/yA6tWrI0+ePHBwcEBgYCBWrFihty8ZTfQLFy5EqVKloFarsXnzZmXey31KkpOTER4eDh8fH6jVari7u+PDDz9EZGSkzjqXL1+OwMBAODg4IG/evPjss89w+/btTPfl9u3baNKkCZycnODm5oYBAwYgLS3tNZ+MrhkzZigxe3t7o1evXkhISNB5v4cOHQoAcHNzM7iPzMKFC+Hv748PPvgAoaGhWLhwYab1bt++jc6dO8Pb2xtqtRq+vr7o0aMHnj59innz5qF58+YAgA8++EBp3s74rF/uU3L37l3Y2Nhg+PDhetuIioqCSqXC9OnTAej3KalVqxY2bNiA69evK9vw8fFBSkoKHB0ddb6nGW7dugVra2tERES89b14m/T0dEyePBmlSpWCvb09PDw80L17dzx8+FCp07BhQxQuXDjT5atVq4aKFSvqlP3xxx/K9yd37txo1aoVbt68+dZYlixZgsDAQDg7O0Oj0aBMmTKYMmWKTp0rV67gypUrBu/fF198AVdXV4P7Vm3atAnBwcFwdHSEs7MzGjRogHPnzinz161bB5VKhdOnTytlK1euhEqlwqeffqqzrpIlS77x8mHv3r3h5OSEx48f681r3bo1PD09ld/SsWPHEBYWhrx588LBwQG+vr7o1KmTQftkrHnz5kGlUmHPnj3o2bMn3N3dkT9/fmX+296jDGvWrEHp0qVhb2+P0qVLY/Xq1Xp9iV7XxyrjUsmrl1YuXryIZs2aIXfu3LC3t0fFihWxbt26TOM/cOAA+vXrBzc3Nzg6OuKTTz7BvXv3lHo+Pj44d+4c9uzZo/z2stJP7E0M+dwM+Q1mxNuwYUNs2bJFOf/8/PPPAIBt27ahRo0acHFxgZOTE4oXL45vv/3WNDshlG358uWTwoULG1y/ffv2AkCaNWsmP/30k7Rr104ASJMmTXTqFSpUSIoXLy5eXl4ybNgwmTRpkuTLl0+cnJzkjz/+kIIFC8rYsWNl7NixotVqpUiRIpKWlqazHXt7eylatKh8/vnnMn36dGnYsKEAkCFDhuhsK3/+/NKzZ0+ZPn26TJw4USpXriwAZP369Tr1AEjJkiXFzc1Nhg8fLj/99JOcOHFCmTd06FClbps2bcTOzk769esnv/76q4wbN04aNWokf/zxh1Jn7ty5AkAqVaokkyZNkm+++UYcHBzEx8dHHj58qLcvpUqVkk6dOsnMmTOladOmAkBmzJjx1vd86NChAkBCQ0Nl2rRp0rt3b7G2tpZKlSrJ06dPRURk9erV8sknnwgAmTlzpixYsEBOnTr1xvU+efJEXFxcZOTIkSIi8vvvv4u1tbXExsbq1Lt9+7Z4e3tLrly5JDw8XGbNmiVDhgyRkiVLysOHD+XKlSvSp08fASDffvutLFiwQBYsWCBxcXEiIhISEiIhISHK+mrXri3+/v568QwfPlysra2V5Xbt2iUAZNeuXSIisnXrVgkICJC8efMq21i9erWIiLRt21Y8PDzk+fPnOuscP368qFQquX79+hvfCwDSq1evN9bp0qWL2NjYSNeuXWXWrFkycOBAcXR01Pkcfv/9dwEgR44c0Vn22rVrAkAmTJiglI0aNUpUKpW0bNlSZsyYIcOHD5e8efNm+v0pVKiQ8nrr1q0CQOrUqSM//fST/PTTT9K7d29p3ry5zjYLFSqks9zrZLzPy5cvlxEjRggAOX78uM72HR0ddZb5/fffRaVSSb169WTatGkybtw48fHxERcXF4mJiRERkfv374tKpZJp06Ypy/Xt21esrKzEzc1NKYuPjxcAMn369NfGuHfvXgEgy5Yt0yl/9OiRODo6Kp/d3bt3xdXVVYoVKyYTJkyQX375RQYPHiwlS5Z86/uQmYzfXlRUlNy7d0+ZHjx4ICL/dwzw9/eXkJAQmTZtmowdO9bg90hEZMuWLWJlZSWlS5eWiRMnyuDBg0Wr1UqpUqV0Pr9Xfw8ZYmJiBIDMnTtXKTt79qxotVrx9/eXcePGyfTp06VmzZqiUqlk1apVSr2M+MuXLy+1a9eWadOmSf/+/cXa2lpatGih1Fu9erXkz59fSpQoofz2tm7d+tr3LSOml7/vL5swYYIAUN4HQz83Q36DIi+++0WKFBFXV1f55ptvZNasWbJr1y45e/as2NnZScWKFWXKlCkya9YsGTBggNSsWfO1+2IMJiXZlJiYKADk448/Nqj+yZMnBYB06dJFp3zAgAECQHbu3KmUFSpUSADIwYMHlbItW7YIAHFwcNA5Sfz88896P7aM5OeLL75QytLT06VBgwZiZ2cn9+7dU8ofP36sE8/Tp0+ldOnSUrt2bZ1yAGJlZSXnzp3T27dXkxKtVvvGk9TTp0/F3d1dSpcuLf/8849Svn79egEg33//vd6+jBgxQmcd5cuXl8DAwNduQ+TFAdvOzk7q1q2rk7RNnz5dAMhvv/2mlGUcQF9+b95kxYoVAkCio6NFRCQpKUns7e1l0qRJOvXatWsnVlZWcvToUb11pKeni4jI8uXLMz1giugnJRmf95kzZ3Tq+fv763xmmR2EGzRokOmJNuO7tWnTJp3ysmXL6mz7dd6WlOzbt08AyMKFC3XKN2/erFOemJgoarVa+vfvr1Pv1eTo2rVrYm1tLaNHj9apd+bMGbGxsdEpfzUp6du3r2g0Gr0E7FVZSUoSEhLE1dVVGjdurLP9l5OS5ORkcXFxka5du+qsJy4uTrRarU55qVKldE5uFSpUkObNmwsAuXDhgoiIrFq1SgC8MYlOT0+XfPnySdOmTXXKly1bJgBk7969IvLi5Akg0+9qVmT8pl6dMt7XjJN6jRo1dD4PY96jgIAA8fLykoSEBKUsI/HMalJSp04dKVOmjDx58kQpS09Pl+rVq0vRokWVsoz4Q0NDld+yiMiXX34p1tbWOjGVKlXKoN/SyzEZmpQY8rkZ+hsU+b/zz+bNm3XqTpo0yahjpLF4+SabkpKSAMDgjo0bN24EAPTr10+nvH///gCg1/fE398f1apVU15ndAyrXbs2ChYsqFd+9epVvW2+fEdExuWXp0+fYvv27Ur5y9cJHz58iMTERAQHB+tdagGAkJAQ+Pv7v2VPX/TLOHz4MO7cuZPp/GPHjiE+Ph49e/bU6ffQoEEDlChRItN+OP/73/90XgcHB2e6zy/bvn07nj59ivDwcFhZ/d9XvmvXrtBoNNnq77Nw4UJUrFhR6RSb0bz88iWc9PR0rFmzBo0aNdK79AC8+EyM9emnn8LGxgZLly5Vys6ePYvz589n+Q6g0NBQeHt768R+9uxZnD59Gp999lmW1vmy5cuXQ6vV4sMPP8Tff/+tTIGBgXBycsKuXbsAABqNBh999BGWLVumc5lx6dKlqFq1qvK9X7VqFdLT09GiRQud9Xl6eqJo0aLK+jLj4uKCR48eYdu2bW+M+dq1a0bf3aDVahEeHo5169bpXVLNsG3bNiQkJKB169Y6sVtbW6NKlSo6sQcHB2Pfvn0AXlwSPXXqFLp164a8efMq5fv27YOLiwtKly792rhUKhWaN2+OjRs3IiUlRSlfunQp8uXLhxo1agD4v/5U69evx7Nnz4za9zdZuXIltm3bpkyvXubs2rUrrK2tldeGvkexsbE4efIk2rdvD61Wqyz/4YcfGnScysyDBw+wc+dOtGjRAsnJycq279+/j7CwMERHR+tdYu7WrZvObzk4OBhpaWm4fv16lmIwliGfm6G/wQy+vr4ICwvLdDtr165Fenq6yfeDSUk2aTQaAC8OFoa4fv06rKys9O7s8PT0hIuLi94X+OXEA4DyoytQoECm5a9eF7SystK7Pl+sWDEA0DnYrl+/HlWrVoW9vT1y584NNzc3zJw5E4mJiXr74Ovr+7bdBPCir83Zs2dRoEABVK5cGcOGDdNJIDL2tXjx4nrLlihRQu+9sLe3h5ubm06Zq6ur3j6/6nXbsbOzQ+HChbN80EhISMDGjRsREhKCy5cvK1NQUBCOHTuGS5cuAQDu3buHpKSkN54wjJU3b17UqVMHy5YtU8qWLl0KGxsbvb4GhrKyskLbtm2xZs0apd/BwoULYW9vr/R3yY7o6GgkJibC3d0dbm5uOlNKSorSyRgAWrZsiZs3b+LQoUMAXvTtOH78uE7CFR0dDRFB0aJF9dZ34cIFnfW9qmfPnihWrBg++ugj5M+fH506dVL6RplC37594eLi8tq+JdHR0QBe/HHxauxbt27ViT04OBixsbG4fPkyDh48CJVKhWrVqukkK/v27UNQUJBO0p2Zli1b4p9//lH6RaSkpGDjxo1o3ry5ckINCQlB06ZNMXz4cOTNmxcff/wx5s6dq9fnzVg1a9ZEaGioMgUFBenMf/W4Yuh7lPH7LVq0qN42Mzu2GOLy5csQEQwZMkRv2xn9zl79fr16rHZ1dQWgf0w2NWM+N2N+g0Dmx/qWLVsiKCgIXbp0gYeHB1q1aoVly5aZLEHh3TfZpNFo4O3tjbNnzxq1nKF/Hb/8l4Mh5S//ZWmoffv2oXHjxqhZsyZmzJgBLy8v2NraYu7cuVi0aJFefUN7X7do0QLBwcFYvXo1tm7digkTJmDcuHFYtWoVPvroI6PjfN0+vyvLly9HamoqfvzxR/z444968xcuXJhpZ1RTadWqFTp27IiTJ08iICAAy5YtQ506dQy+wyEz7dq1w4QJE7BmzRq0bt0aixYtQsOGDXX+As2q9PR0uLu7v7Yj8MsJZ6NGjZArVy4sW7YM1atXx7Jly2BlZaWTHKWnp0OlUmHTpk2ZfjfeNC6Iu7s7Tp48iS1btmDTpk3YtGkT5s6di3bt2mH+/PnZ2MsXMlpLhg0blmlrScYBfMGCBfD09NSb//Kt9RktGHv37sXVq1dRoUIFODo6Ijg4GFOnTkVKSgpOnDiB0aNHvzWuqlWrwsfHB8uWLUObNm3w559/4p9//tFJ9lQqFVasWIG//voLf/75J7Zs2YJOnTrhxx9/xF9//ZVj4628elwx5j0y1OuOu692ls/Y9oABA/RaCjK8+oelKY/JAJTW49eNcZXxh0NGPUM+N2N+g0Dmx3oHBwfs3bsXu3btwoYNG7B582YsXboUtWvXxtatW7N9nGZSYgINGzbE7NmzcejQIZ1LLZkpVKgQ0tPTER0djZIlSyrld+/eRUJCAgoVKmTS2NLT03H16lWldQSA8hd8Rq/0lStXwt7eHlu2bIFarVbqzZ07N9vb9/LyQs+ePdGzZ0/Ex8ejQoUKGD16ND766CNlX6OiolC7dm2d5aKiokz2Xry8nZdbjZ4+fYqYmBiEhoZmab0LFy5E6dKllb+cXvbzzz9j0aJFGD58ONzc3KDRaN6auBp7GadJkybo3r27cgnn0qVLGDRo0FuXe9N2SpcujfLly2PhwoXInz8/bty4gWnTphkV1+v4+flh+/btCAoKemti6+joiIYNG2L58uWYOHEili5diuDgYHh7e+usT0Tg6+ur8/02lJ2dHRo1aoRGjRohPT0dPXv2xM8//4whQ4YYPEbNm4SHh2Py5MkYPny43i3mfn5+AF4kR2/7/hUsWBAFCxbEvn37cPXqVQQHBwN40fLQr18/LF++HGlpaahZs6ZBcbVo0QJTpkxBUlISli5dCh8fH1StWlWvXtWqVVG1alWMHj0aixYtQtu2bbFkyRJ06dLFoO1kl6HvUcbvO6Nl5WVRUVE6rzNaL16+6w6AXmtpxnHC1tY2y8eHzBjzG3dzc0OuXLn09iFDVFQUcuXKpfdHyJs+N2N+g29iZWWFOnXqoE6dOpg4cSLGjBmDwYMHY9euXdl+v3j5xgS+/vprODo6okuXLrh7967e/CtXrii3GtavXx8A9EbUnDhxIoAX/SlMLeP2UOBF1j59+nTY2tqiTp06AF5k+CqVSuevhWvXrmHNmjVZ3mZaWprepR93d3d4e3srzYkVK1aEu7s7Zs2apdPEuGnTJly4cMFk70VoaCjs7OwwdepUnb9a5syZg8TExCxt5+bNm9i7dy9atGiBZs2a6U0dO3bE5cuXcfjwYVhZWaFJkyb4888/cezYMb11ZcSUMS7DqwfM13FxcUFYWBiWLVuGJUuWwM7ODk2aNHnrco6Ojplelsvw+eefY+vWrZg8eTLy5MmTpVatzLRo0QJpaWkYOXKk3rznz5/r7XfLli1x584d/Prrrzh16pReX5lPP/0U1tbWGD58uN5foyKC+/fvvzaWV+dZWVmhbNmyAKDzXTT2luCXZbSWrF27FidPntSZFxYWBo1GgzFjxmR6/f/lW0mBF5dwdu7ciSNHjihJSUBAAJydnTF27FjlNn5DtGzZEqmpqZg/fz42b96MFi1a6Mx/+PCh3vsZEBAAwHTvjSEMfY+8vLwQEBCA+fPn63yvt23bhvPnz+ssU6hQIVhbW2Pv3r065TNmzNB57e7ujlq1auHnn39GbGzsa7dtLEdHR4N/39bW1qhbty7+/PNP3LhxQ2fejRs38Oeff6Ju3bpKy4Qhn5uxv8HMPHjwQK8ss+9HVrGlxAT8/PywaNEitGzZEiVLltQZ0fXgwYNYvny5MoJfuXLl0L59e8yePRsJCQkICQnBkSNHMH/+fDRp0gQffPCBSWOzt7fH5s2b0b59e1SpUgWbNm3Chg0b8O233ypNdQ0aNMDEiRNRr149tGnTBvHx8fjpp59QpEgRnfERjJGcnIz8+fOjWbNmKFeuHJycnLB9+3YcPXpUudRha2uLcePGoWPHjggJCUHr1q1x9+5dTJkyBT4+Pvjyyy9N8h64ublh0KBBGD58OOrVq4fGjRsjKioKM2bMQKVKlbLUiXPRokUQETRu3DjT+fXr14eNjQ0WLlyIKlWqYMyYMdi6dStCQkLQrVs3lCxZErGxsVi+fDn2798PFxcXBAQEwNraGuPGjUNiYiLUajVq164Nd3f318bRsmVLfPbZZ5gxYwbCwsIMGvQtMDAQS5cuRb9+/VCpUiU4OTmhUaNGyvw2bdrg66+/xurVq9GjRw/Y2toa/L4cO3YMo0aN0iuvVasWQkJC0L17d0RERODkyZOoW7cubG1tER0djeXLl2PKlClo1qyZznvo7OyMAQMGwNraGk2bNtVZp5+fH0aNGoVBgwbh2rVraNKkCZydnRETE4PVq1ejW7duGDBgQKZxdunSBQ8ePEDt2rWRP39+XL9+HdOmTUNAQIBOC2ZG4p7Vobz79u2LSZMm4dSpUzqDgWk0GsycOROff/45KlSogFatWsHNzQ03btzAhg0bEBQUpPPHRHBwMBYuXAiVSqVczrG2tkb16tWxZcsW1KpVy+AB9ipUqIAiRYpg8ODBSE1N1Uv25s+fjxkzZuCTTz6Bn58fkpOT8csvv0Cj0Sh/VJnivXkbY96jiIgINGjQADVq1ECnTp3w4MEDTJs2DaVKldLp1KvVatG8eXNMmzYNKpUKfn5+WL9+fab9j3766SfUqFEDZcqUQdeuXVG4cGHcvXsXhw4dwq1bt3Dq1Cmj9ykwMBAzZ87EqFGjUKRIEbi7u+u1Er9szJgxqFq1KipUqIBu3brBx8cH165dw+zZs6FSqTBmzBilriGfm7G/wcyMGDECe/fuRYMGDVCoUCHEx8djxowZyJ8/v/LdzJYcuafHQl26dEm6du0qPj4+YmdnJ87OzhIUFCTTpk3Tua3s2bNnMnz4cPH19RVbW1spUKCADBo0SKeOyItbsho0aKC3HWRy62Vmt49l3IZ45coVqVu3ruTKlUs8PDxk6NChOrfGiojMmTNHihYtKmq1WkqUKCFz585VbuV727ZfnpdxS3Bqaqp89dVXUq5cOXF2dhZHR0cpV65cpmOKLF26VMqXLy9qtVpy584tbdu2lVu3bunUyWycBxHJNMbXmT59upQoUUJsbW3Fw8NDevTooTOWxcvre9vtbmXKlJGCBQu+sU6tWrXE3d1dnj17JiIi169fl3bt2ombm5uo1WopXLiw9OrVS1JTU5VlfvnlFylcuLBYW1vr3Lr46i3BGZKSksTBwUEA6Iz/kiGzWyBTUlKkTZs24uLionfLZIb69evr3Y7+Nsjkts+MKWMcFxGR2bNnS2BgoDg4OIizs7OUKVNGvv76a7lz547eOtu2bavcbvk6K1eulBo1aoijo6M4OjpKiRIlpFevXhIVFaXUefWW4BUrVkjdunXF3d1d7OzspGDBgtK9e3e98WWyckvwqzK+U5l9f3ft2iVhYWGi1WrF3t5e/Pz8pEOHDnLs2DGdeufOnVPGCHrZqFGjMh136G0GDx4sAKRIkSJ68yIjI6V169ZSsGBBUavV4u7uLg0bNtSLydD35m2/qYxbal93K6uh79HKlSulZMmSolarxd/fX1atWqX3uYuI3Lt3T5o2bSq5cuUSV1dX6d69u5w9e1bvlmARkStXrki7du3E09NTbG1tJV++fNKwYUNZsWLFW+PP7LcXFxcnDRo0EGdnZwFg0O3BFy5ckJYtW4q7u7vY2NiIu7u7tGrVSrkdPIOhn5uIYb/B151/duzYIR9//LF4e3uLnZ2deHt7S+vWreXSpUtv3RdDqESy2AuHzF6HDh2wYsUKnb8UiAzxySef4MyZM7h8+fK7DoUoyzp06IDdu3e/dw+te5+xTwkR6YiNjcWGDRvw+eefv+tQiMjCsE8JEQF48WDJAwcO4Ndff4WtrS26d+/+rkMiIgvDlhIiAgDs2bMHn3/+OWJiYjB//vxMx4YgIspJ7FNCREREZoEtJURERGQWmJQQERGRWWBHVwOkp6fjzp07cHZ2ztITXYmIiCyViCA5ORne3t5vfWgkkxID3LlzR++pvERERGS4mzdvIn/+/G+sw6TEAM7OzgBevKEajeYdR0NERPTfkZSUhAIFCijn0jdhUmKAjEs2Go2GSQkREVEWGNL9gR1diYiIyCwwKSEiIiKzwKSEiIiIzAKTEiIiIjILTEqIiIjILDApISIiIrPApISIiIjMApMSIiIiMgtMSoiIiMgsMCkhIiIis8CkhIiIiMwCn33zjhnwKACi94LIu46AiMwdW0qIiIjILDApISIiIrPApISIiIjMApMSIiIiMgtMSoiIiMgsMCkhIiIis8CkhIiIiMwCkxIiIiIyC0xKiIiIyCwwKSEiIiKzwKSEiIiIzAKTEiIiIjILTEqIiIjILDApISIiIrPApISIiIjMApMSIiIiMgtMSoiIiMgsMCkhIiIis8CkhIiIiMwCkxIiIiIyC0xKiIiIyCwwKSEiIiKzwKSEiIiIzAKTEiIiIjILTEqIiIjILNgYUql8+fJQqVQGrTAyMjJbAREREZFlMigpadKkifL/J0+eYMaMGfD390e1atUAAH/99RfOnTuHnj175kiQRERE9P4zKCkZOnSo8v8uXbqgT58+GDlypF6dmzdvmjY6IiIishgqERFjFtBqtTh27BiKFi2qUx4dHY2KFSsiMTHRpAGag6SkJGi1WiQmJkKj0Zh03QZeFSP6zzPuSENE7wtjzqFGd3R1cHDAgQMH9MoPHDgAe3t7o9a1d+9eNGrUCN7e3lCpVFizZo3OfBHB999/Dy8vLzg4OCA0NBTR0dE6dR48eIC2bdtCo9HAxcUFnTt3RkpKik6d06dPIzg4GPb29ihQoADGjx9vVJxERESU8wy6fPOy8PBw9OjRA5GRkahcuTIA4PDhw/jtt98wZMgQo9b16NEjlCtXDp06dcKnn36qN3/8+PGYOnUq5s+fD19fXwwZMgRhYWE4f/68kgC1bdsWsbGx2LZtG549e4aOHTuiW7duWLRoEYAXGVrdunURGhqKWbNm4cyZM+jUqRNcXFzQrVs3Y3efiIiIcopkwdKlS6V69eri6uoqrq6uUr16dVm6dGlWVqUAIKtXr1Zep6eni6enp0yYMEEpS0hIELVaLYsXLxYRkfPnzwsAOXr0qFJn06ZNolKp5Pbt2yIiMmPGDHF1dZXU1FSlzsCBA6V48eIGx5aYmCgAJDExMau791ovGrU5cXr/JyKyTMacQ7M0TkmLFi1w4MABPHjwAA8ePMCBAwfQokULU+ZKiImJQVxcHEJDQ5UyrVaLKlWq4NChQwCAQ4cOwcXFBRUrVlTqhIaGwsrKCocPH1bq1KxZE3Z2dkqdsLAwREVF4eHDh5luOzU1FUlJSToTERER5awsJSUJCQn49ddf8e233+LBgwcAXoxPcvv2bZMFFhcXBwDw8PDQKffw8FDmxcXFwd3dXWe+jY0NcufOrVMns3W8vI1XRUREQKvVKlOBAgWyv0NERET0RkYnJadPn0axYsUwbtw4TJgwAQkJCQCAVatWYdCgQaaO750YNGgQEhMTlYm3OhMREeU8o5OSfv36oUOHDoiOjta526Z+/frYu3evyQLz9PQEANy9e1en/O7du8o8T09PxMfH68x//vw5Hjx4oFMns3W8vI1XqdVqaDQanYmIiIhyltFJydGjR9G9e3e98nz58r32ckhW+Pr6wtPTEzt27FDKkpKScPjwYWUk2WrVqiEhIQHHjx9X6uzcuRPp6emoUqWKUmfv3r149uyZUmfbtm0oXrw4XF1dTRYvERERZY/RSYlarc604+elS5fg5uZm1LpSUlJw8uRJnDx5EsCLzq0nT57EjRs3oFKpEB4ejlGjRmHdunU4c+YM2rVrB29vb2XY+5IlS6JevXro2rUrjhw5ggMHDqB3795o1aoVvL29AQBt2rSBnZ0dOnfujHPnzmHp0qWYMmUK+vXrZ+yuExERUU4y9taezp07S5MmTeTp06fi5OQkV69elevXr0v58uWlb9++Rq1r165dAkBvat++vYi8uC14yJAh4uHhIWq1WurUqSNRUVE667h//760bt1anJycRKPRSMeOHSU5OVmnzqlTp6RGjRqiVqslX758MnbsWKPi5C3BnDhlfyIiy2TMOdToYeYTExPRrFkzHDt2DMnJyfD29kZcXByqVauGjRs3wtHR0eSJ07vGYeaJss+4Iw0RvS+MOYcaPaKrVqvFtm3bsH//fpw+fRopKSmoUKGCzngiRERERMYyuqXEErGlhCj7eKQhskwmbymZOnWqwRvv06ePwXWJiIiIMhjUUuLr66vz+t69e3j8+DFcXFwAvBjhNVeuXHB3d8fVq1dzJNB3iS0lRNnHlhIiy2TMOdSgW4JjYmKUafTo0QgICMCFCxeUZ99cuHABFSpUwMiRI02yA0RERGR5jO5T4ufnhxUrVqB8+fI65cePH0ezZs0QExNj0gDNAVtKiLKPLSVElsnkLSUvi42NxfPnz/XK09LS9IZzJyIiIjKU0UlJnTp10L17d0RGRiplx48fR48ePXhbMBEREWWZ0UnJb7/9Bk9PT1SsWBFqtRpqtRqVK1eGh4cHfv3115yIkYiIiCyA0YOnubm5YePGjbh06RIuXrwIAChRogSKFStm8uCIiIjIchidlGQoVqwYExEiIiIyGYOSEmOeqDtx4sQsB0NERESWy6Ck5MSJEzqvIyMj8fz5cxQvXhwAcOnSJVhbWyMwMND0ERIREZFFMCgp2bVrl/L/iRMnwtnZGfPnz4erqysA4OHDh+jYsSOCg4NzJkoiIiJ67xk9eFq+fPmwdetWlCpVSqf87NmzqFu3Lu7cuWPSAM0BB08jyj4OnkZkmXJ08LSkpCTcu3dPr/zevXtITk42dnVEREREALKQlHzyySfo2LEjVq1ahVu3buHWrVtYuXIlOnfujE8//TQnYiQiIiILYPQtwbNmzcKAAQPQpk0bPHv27MVKbGzQuXNnTJgwweQBEhERkWUwuk9JhkePHuHKlSsAXjykz9HREWlpabC2tjZpgOaAfUqIso99SogsU472Kcng6OiIsmXLomzZsrh9+zYGDhyI/PnzZ3V1REREZOGynJQ8fvwYc+fORXBwMPz9/bFnzx6jBlkjIiIiepnRfUr++usv/Prrr1i+fDkKFiyICxcuYNeuXRyjhIiIiLLF4JaSH3/8EaVKlUKzZs3g6uqKvXv34syZM1CpVMiTJ09OxkhEREQWwOCWkoEDB2LgwIEYMWLEe9mZlYiIiN4tg1tKRo4cieXLl8PX1xcDBw7E2bNnczIuIiIisjAGJyWDBg3CpUuXsGDBAsTFxaFKlSooV64cRAQPHz7MyRiJiIjIAhh9901ISAjmz5+PuLg49OzZE4GBgQgJCUH16tUxceLEnIiRiIiILECWB0972ZkzZzBnzhwsWrQI8fHxpojLrHDwNKLs4+BpRJbJmHOoSZKSDM+ePYOtra2pVmc2mJQQZR+TEiLL9K+M6JqZ9zEhISIion+HSZMSIiIioqxiUkJERERmgUkJERERmQWjk5LIyEicOXNGeb127Vo0adIE3377LZ4+fWrS4IiIiMhyGJ2UdO/eHZcuXQIAXL16Fa1atUKuXLmwfPlyfP311yYPkIiIiCyD0UnJpUuXEBAQAABYvnw5atasiUWLFmHevHlYuXKlqeMjIiIiC2F0UiIiSE9PBwBs374d9evXBwAUKFAAf//9t2mjIyIiIothdFJSsWJFjBo1CgsWLMCePXvQoEEDAEBMTAw8PDxMHiARERFZBqOTksmTJyMyMhK9e/fG4MGDUaRIEQDAihUrUL16dZMHSERERJbBZMPMP3nyBNbW1u/lqK4cZp4o+zjMPJFlytFh5idMmJBpua2tLdq1a2fs6oiIiIgAZDEpmTNnjk5ZWloaWrVqhZMnT5oqLmW9Q4YMga+vLxwcHODn54eRI0fi5cYdEcH3338PLy8vODg4IDQ0FNHR0TrrefDgAdq2bQuNRgMXFxd07twZKSkpJo2ViIiIssfopGTDhg0YMGAAVqxYAQB4/vw5mjdvjnPnzmHXrl0mDW7cuHGYOXMmpk+fjgsXLmDcuHEYP348pk2bptQZP348pk6dilmzZuHw4cNwdHREWFgYnjx5otRp27Ytzp07h23btmH9+vXYu3cvunXrZtJYiYiIKJskC3bs2CHOzs6ydu1aady4sfj7+0tcXFxWVvVGDRo0kE6dOumUffrpp9K2bVsREUlPTxdPT0+ZMGGCMj8hIUHUarUsXrxYRETOnz8vAOTo0aNKnU2bNolKpZLbt28bFEdiYqIAkMTExOzukp4XV9o5cXr/JyKyTMacQ7P07JvatWvj999/R9OmTRETE4M9e/bkyO3A1atXx44dO5QRZE+dOoX9+/fjo48+AvDiNuS4uDiEhoYqy2i1WlSpUgWHDh0CABw6dAguLi6oWLGiUic0NBRWVlY4fPhwpttNTU1FUlKSzkREREQ5y8aQSp9++mmm5W5ubnBxcdG5FLJq1SrTRAbgm2++QVJSEkqUKAFra2ukpaVh9OjRaNu2LQAgLi4OAPQSIg8PD2VeXFwc3N3ddebb2Nggd+7cSp1XRUREYPjw4SbbDyIiIno7g5ISrVabaXlYWJhJg3nVsmXLsHDhQixatAilSpXCyZMnER4eDm9vb7Rv3z7Htjto0CD069dPeZ2UlIQCBQrk2PaIiIjIwKRk7ty5OR1Hpr766it88803aNWqFQCgTJkyuH79OiIiItC+fXt4enoCAO7evQsvLy9lubt37yrP5/H09ER8fLzOep8/f44HDx4oy79KrVZDrVbnwB4RERHR6xjdpyQmJkbvllsAiI6OxrVr10wRk+Lx48ewstIN0draWnn2jq+vLzw9PbFjxw5lflJSEg4fPoxq1aoBAKpVq4aEhAQcP35cqbNz506kp6ejSpUqJo2XiIiIss7opKRDhw44ePCgXvnhw4fRoUMHU8SkaNSoEUaPHo0NGzbg2rVrWL16NSZOnIhPPvkEAKBSqRAeHo5Ro0Zh3bp1OHPmDNq1awdvb280adIEAFCyZEnUq1cPXbt2xZEjR3DgwAH07t0brVq1gre3t0njJSIiomww9tYeZ2dniY6O1iuPjo4WrVZr7OreKCkpSfr27SsFCxYUe3t7KVy4sAwePFhSU1OVOunp6TJkyBDx8PAQtVotderUkaioKJ313L9/X1q3bi1OTk6i0WikY8eOkpycbHAcvCWYE6fsT0RkmYw5hxr97ButVovdu3ejfPnyOuXHjx9HrVq1kJycbMKUyTzw2TdE2WfckYaI3hc5+uybmjVrIiIiAmlpaUpZWloaIiIiUKNGDeOjJSIiIoKBd9+8bNy4cahZsyaKFy+O4OBgAMC+ffuQlJSEnTt3mjxAIiIisgxGt5T4+/vj9OnTaNGiBeLj45GcnIx27drh4sWLKF26dE7ESERERBbA6D4lloh9Soiyj0caIstkzDnU6Ms3GR4/fowbN27g6dOnOuVly5bN6iqJiIjIghmdlNy7dw8dO3bEpk2bMp3/cgdYIiIiIkMZ3ackPDwcCQkJOHz4MBwcHLB582bMnz8fRYsWxbp163IiRiIiIrIARreU7Ny5E2vXrkXFihVhZWWFQoUK4cMPP4RGo0FERAQaNGiQE3ESERHRe87olpJHjx7B3d0dAODq6op79+4BePGwvMjISNNGR0RERBbD6KSkePHiiIqKAgCUK1cOP//8M27fvo1Zs2bpPKmXiIiIyBhGX77p27cvYmNjAQBDhw5FvXr1sHDhQtjZ2WHevHmmjo+IiIgsRLbHKXn8+DEuXryIggULIm/evKaKy6xwnBKi7OM4JUSWKceeffPs2TP4+fnhwoULSlmuXLlQoUKF9zYhISIion+HUUmJra0tnjx5klOxEBERkQUzuqNrr169MG7cODx//jwn4iEiIiILZXBH1xs3biB//vw4evQoduzYga1bt6JMmTJwdHTUqbdq1SqTB0lERETvP4OTEl9fX8TGxsLFxQVNmzbNyZiIiIjIAhmclGTcpDN37twcC4aIiIgsl1F9SlS8f5WIiIhyiFGDpw0ZMgS5cuV6Y52JEydmKyAiIiKyTEYlJWfOnIGdnd1r57MlhYiIiLLKqKRk9erVysP4iIiIiEzJ4D4lbAUhIiKinGRwUpLNR+QQERERvZHBScncuXOh1WpzMhYiIiKyYAb3KWnfvn1OxkFEREQWzuhn3xARERHlBCYlREREZBYMSkqmTp2KJ0+eAHjxYD52eiUiIiJTMygp6devH5KSkgC8eDDfvXv3cjQoIiIisjwGdXT19vbGypUrUb9+fYgIbt26pbScvKpgwYImDZCIiIgsg0oMuBYze/ZsfPHFF3j+/Plr64gIVCoV0tLSTBqgOUhKSoJWq0ViYiI0Go1J180x6chS8KovkWUy5hxqUFICAMnJybh+/TrKli2L7du3I0+ePJnWK1eunPERmzkmJUTZx6SEyDIZcw41eJwSZ2dnlC5dGnPnzkVQUBDUanW2AyUiIiLKYNQD+YD/G0Tt+PHjuHDhAgDA398fFSpUMG1kREREZFGMTkri4+PRqlUr7N69Gy4uLgCAhIQEfPDBB1iyZAnc3NxMHSMRERFZAKMHT/viiy+QnJyMc+fO4cGDB3jw4AHOnj2LpKQk9OnTJydiJCIiIgtgcEfXDFqtFtu3b0elSpV0yo8cOYK6desiISHBlPGZBXZ0Jco+dnQlskzGnEONbilJT0+Hra2tXrmtrS3S09ONXR0RERERgCwkJbVr10bfvn1x584dpez27dv48ssvUadOHZMGR0RERJbD6KRk+vTpSEpKgo+PD/z8/ODn5wdfX18kJSVh2rRpOREjERERWQCjk5ICBQogMjISGzZsQHh4OMLDw7Fx40ZERkYif/78Jg/w9u3b+Oyzz5AnTx44ODigTJkyOHbsmDJfRPD999/Dy8sLDg4OCA0NRXR0tM46Hjx4gLZt20Kj0cDFxQWdO3dGSkqKyWMlIiKirDP6lmAAUKlU+PDDD/Hhhx+aOh4dDx8+RFBQED744ANs2rQJbm5uiI6Ohqurq1Jn/PjxmDp1KubPnw9fX18MGTIEYWFhOH/+POzt7QEAbdu2RWxsLLZt24Znz56hY8eO6NatGxYtWpSj8RMREZHhjL775t/0zTff4MCBA9i3b1+m80UE3t7e6N+/PwYMGAAASExMhIeHB+bNm4dWrVrhwoUL8Pf3x9GjR1GxYkUAwObNm1G/fn3cunUL3t7eb42Dd98QZZ/5HmmIKCfl6N03/6Z169ahYsWKaN68Odzd3VG+fHn88ssvyvyYmBjExcUhNDRUKdNqtahSpQoOHToEADh06BBcXFyUhAQAQkNDYWVlhcOHD2e63dTUVCQlJelMRERElLPMOim5evUqZs6ciaJFi2LLli3o0aMH+vTpg/nz5wMA4uLiAAAeHh46y3l4eCjz4uLi4O7urjPfxsYGuXPnVuq8KiIiAlqtVpkKFChg6l0jIiKiVxiVlDx//hy///477t69m1Px6EhPT0eFChUwZswYlC9fHt26dUPXrl0xa9asHN3uoEGDkJiYqEw3b97M0e0RERGRkUmJjY0N/ve//+HJkyc5FY8OLy8v+Pv765SVLFkSN27cAAB4enoCgF6SdPfuXWWep6cn4uPjdeY/f/4cDx48UOq8Sq1WQ6PR6ExERESUs4y+fFO5cmWcPHkyB0LRFxQUhKioKJ2yS5cuoVChQgAAX19feHp6YseOHcr8pKQkHD58GNWqVQMAVKtWDQkJCTh+/LhSZ+fOnUhPT0eVKlX+hb0gIiIiQxh9S3DPnj3Rr18/3Lx5E4GBgXB0dNSZX7ZsWZMF9+WXX6J69eoYM2YMWrRogSNHjmD27NmYPXs2gBe3JoeHh2PUqFEoWrSockuwt7c3mjRpAuBFy0q9evWUyz7Pnj1D79690apVK4PuvCEiIqJ/iRhJpVLpTVZWVsq/pvbnn39K6dKlRa1WS4kSJWT27Nk689PT02XIkCHi4eEharVa6tSpI1FRUTp17t+/L61btxYnJyfRaDTSsWNHSU5ONjiGxMREASCJiYkm2aeXvbhRkhOn938iIstkzDnU6HFKrl+//sb5GZdW3iccp4Qo+4w70hDR+8KYc6jRl2/ex6SDiIiI3r0sjVOyYMECBAUFwdvbW2k5mTx5MtauXWvS4IiIiMhyGJ2UzJw5E/369UP9+vWRkJCAtLQ0AICLiwsmT55s6viIiIjIQhidlEybNg2//PILBg8eDGtra6W8YsWKOHPmjEmDIyIiIsthdFISExOD8uXL65Wr1Wo8evTIJEERERGR5TE6KfH19c108LTNmzejZMmSpoiJiIiILJDRd9/069cPvXr1wpMnTyAiOHLkCBYvXoyIiAj8+uuvOREjERERWQCjk5IuXbrAwcEB3333HR4/fow2bdrA29sbU6ZMQatWrXIiRiIiIrIARg+e9rLHjx8jJSUF7u7upozJ7HDwNKLs4+BpRJYpRwdPyxAfH688LE+lUsHNzS2rqyIiIiIyvqNrcnIyPv/8c3h7eyMkJAQhISHw9vbGZ599hsTExJyIkYiIiCyA0UlJly5dcPjwYWzYsAEJCQlISEjA+vXrcezYMXTv3j0nYiQiIiILYHSfEkdHR2zZsgU1atTQKd+3bx/q1av3Xo5Vwj4lRNnHPiVElsmYc6jRLSV58uSBVqvVK9dqtXB1dTV2dUREREQAspCUfPfdd+jXrx/i4uKUsri4OHz11VcYMmSISYMjIiIiy2HQ3Tfly5eH6qXrDNHR0ShYsCAKFiwIALhx4wbUajXu3bvHfiVERESUJQYlJU2aNMnhMIiIiMjSZWvwNEvBjq5E2ccjDZFl+lcGTwOAlJQUpKen65SZ+qRNRERElsHojq4xMTFo0KABHB0dlTtuXF1d4eLiwrtviIiIKMuMbin57LPPICL47bff4OHhodMBloiIiCirjE5KTp06hePHj6N48eI5EQ8RERFZKKMv31SqVAk3b97MiViIiIjIghndUvLrr7/if//7H27fvo3SpUvD1tZWZ37ZsmVNFhwRERFZDqOTknv37uHKlSvo2LGjUqZSqSAiUKlUSEtLM2mAREREZBmMTko6deqE8uXLY/HixezoSkRERCZjdFJy/fp1rFu3DkWKFMmJeIiIiMhCGd3RtXbt2jh16lROxEJEREQWzOiWkkaNGuHLL7/EmTNnUKZMGb2Oro0bNzZZcERERGQ5jH72jZXV6xtX3teOrnz2DVH28dk3RJYpR5998+qzboiIiIhMweg+JUREREQ5weiWkhEjRrxx/vfff5/lYIiIiMhyGZ2UrF69Wuf1s2fPEBMTAxsbG/j5+TEpISIioiwxOik5ceKEXllSUhI6dOiATz75xCRBERERkeUxSZ8SjUaD4cOHY8iQIaZYHREREVkgk3V0TUxMRGJioqlWR0RERBbG6Ms3U6dO1XktIoiNjcWCBQvw0UcfmSwwIiIisixGJyWTJk3SeW1lZQU3Nze0b98egwYNMllgREREZFmMTkpiYmJyIg4iIiKycBw8jYiIiMyCwS0lnTp1emsdlUqFOXPmZCugNxk7diwGDRqEvn37YvLkyQCAJ0+eoH///liyZAlSU1MRFhaGGTNmwMPDQ1nuxo0b6NGjB3bt2gUnJye0b98eERERsLExuqGIiIiIcojBZ+WHDx++dl5aWhq2b9+O1NTUHEtKjh49ip9//hlly5bVKf/yyy+xYcMGLF++HFqtFr1798ann36KAwcOKLE1aNAAnp6eOHjwIGJjY9GuXTvY2tpizJgxORIrERERZYFk05o1a8Tf319cXFwkIiIiu6vLVHJyshQtWlS2bdsmISEh0rdvXxERSUhIEFtbW1m+fLlS98KFCwJADh06JCIiGzduFCsrK4mLi1PqzJw5UzQajaSmphq0/cTERAEgiYmJptup/+/Fs1M5cXr/JyKyTMacQ7Pcp+TAgQMIDg5GmzZt0LBhQ1y9ehXffPONyZKll/Xq1QsNGjRAaGioTvnx48fx7NkznfISJUqgYMGCOHToEADg0KFDKFOmjM7lnLCwMCQlJeHcuXOZbi81NRVJSUk6ExEREeUso5OS8+fPo1GjRqhVqxaKFSuGqKgojBs3Dq6urjkRH5YsWYLIyEhERETozYuLi4OdnR1cXFx0yj08PBAXF6fUeTkhyZifMS8zERER0Gq1ylSgQAET7AkRERG9icFJyc2bN9GxY0eUK1cONjY2OH36NObMmYP8+fPnWHA3b95E3759sXDhQtjb2+fYdl41aNAgZYTaxMRE3Lx581/bNhERkaUyuKNr8eLFoVKp0K9fPwQFBSE6OhrR0dF69Ro3bmyy4I4fP474+HhUqFBBKUtLS8PevXsxffp0bNmyBU+fPkVCQoJOa8ndu3fh6ekJAPD09MSRI0d01nv37l1lXmbUajXUarXJ9oOIiIjezuCk5MmTJwCACRMmYMKECZnWUalUSEtLM01kAOrUqYMzZ87olHXs2BElSpTAwIEDUaBAAdja2mLHjh1o2rQpACAqKgo3btxAtWrVAADVqlXD6NGjER8fD3d3dwDAtm3boNFo4O/vb7JYiYiIKHsMTkrS09NzMo5MOTs7o3Tp0jpljo6OyJMnj1LeuXNn9OvXD7lz54ZGo8EXX3yBatWqoWrVqgCAunXrwt/fH59//jnGjx+PuLg4fPfdd+jVqxdbQ4iIiMzIf370sEmTJsHKygpNmzbVGTwtg7W1NdavX48ePXqgWrVqcHR0RPv27TFixIh3GDURERG9SiUi8q6DMHdJSUnQarVITEyERqMx6bpVKpOujshs8UhDZJmMOYfy2TdERERkFpiUEBERkVlgUkJERERmIUtJSUJCAn799VcMGjQIDx48AABERkbi9u3bJg2OiIiILIfRd9+cPn0aoaGh0Gq1uHbtGrp27YrcuXNj1apVuHHjBn7//feciJOIiIjec0a3lPTr1w8dOnRAdHS0ztDv9evXx969e00aHBEREVkOo5OSo0ePonv37nrl+fLle+0D7oiIiIjexuikRK1WIykpSa/80qVLcHNzM0lQREREZHmMTkoaN26MESNG4NmzZwBePO/mxo0bGDhwoPL8GSIiIiJjGZ2U/Pjjj0hJSYG7uzv++ecfhISEoEiRInB2dsbo0aNzIkYiIiKyAEbffaPVarFt2zbs378fp0+fRkpKCipUqIDQ0NCciI+IiIgsBJ99YwA++4Yo+3ikIbJMxpxDjW4pmTp1aqblKpUK9vb2KFKkCGrWrAlra2tjV01EREQWzOikZNKkSbh37x4eP34MV1dXAMDDhw+RK1cuODk5IT4+HoULF8auXbtQoEABkwdMRERE7yejO7qOGTMGlSpVQnR0NO7fv4/79+/j0qVLqFKlCqZMmYIbN27A09MTX375ZU7ES0RERO8po/uU+Pn5YeXKlQgICNApP3HiBJo2bYqrV6/i4MGDaNq0KWJjY00Z6zvDPiVE2cc+JUSWyZhzqNEtJbGxsXj+/Lle+fPnz5URXb29vZGcnGzsqomIiMiCGZ2UfPDBB+jevTtOnDihlJ04cQI9evRA7dq1AQBnzpyBr6+v6aIkIiKi957RScmcOXOQO3duBAYGQq1WQ61Wo2LFisidOzfmzJkDAHBycsKPP/5o8mCJiIjo/ZXlcUouXryIS5cuAQCKFy+O4sWLmzQwc8I+JUTZxz4lRJYpR8cpyVCiRAmUKFEiq4sTERER6chSUnLr1i2sW7cON27cwNOnT3XmTZw40SSBERERkWUxOinZsWMHGjdujMKFC+PixYsoXbo0rl27BhFBhQoVciJGIiIisgBGd3QdNGgQBgwYgDNnzsDe3h4rV67EzZs3ERISgubNm+dEjERERGQBjE5KLly4gHbt2gEAbGxs8M8//8DJyQkjRozAuHHjTB4gERERWQajkxJHR0elH4mXlxeuXLmizPv7779NFxkRERFZFKP7lFStWhX79+9HyZIlUb9+ffTv3x9nzpzBqlWrULVq1ZyIkYiIiCyA0UnJxIkTkZKSAgAYPnw4UlJSsHTpUhQtWpR33hAREVGWGZWUpKWl4datWyhbtiyAF5dyZs2alSOBERERkWUxqk+JtbU16tati4cPH+ZUPERERGShjO7oWrp0aVy9ejUnYiEiIiILZnRSMmrUKAwYMADr169HbGwskpKSdCYiIiKirDD6gXxWVv+Xx6heepqciEClUiEtLc100ZkJPpCPKPv4QD4iy5SjD+TbtWtXlgMjIiIieh2jk5KQkJCciIOIiIgsnNF9SgBg3759+Oyzz1C9enXcvn0bALBgwQLs37/fpMERERGR5TA6KVm5ciXCwsLg4OCAyMhIpKamAgASExMxZswYkwdIREREliFLd9/MmjULv/zyC2xtbZXyoKAgREZGmjQ4IiIishxGJyVRUVGoWbOmXrlWq0VCQoIpYiIiIiILZHRS4unpicuXL+uV79+/H4ULFzZJUERERGR5jE5Kunbtir59++Lw4cNQqVS4c+cOFi5ciAEDBqBHjx45ESMRERFZAKOTkm+++QZt2rRBnTp1kJKSgpo1a6JLly7o3r07vvjiC5MGFxERgUqVKsHZ2Rnu7u5o0qQJoqKidOo8efIEvXr1Qp48eeDk5ISmTZvi7t27OnVu3LiBBg0aIFeuXHB3d8dXX32F58+fmzRWIiIiyh6jR3TN8PTpU1y+fBkpKSnw9/eHk5OTqWNDvXr10KpVK1SqVAnPnz/Ht99+i7Nnz+L8+fNwdHQEAPTo0QMbNmzAvHnzoNVq0bt3b1hZWeHAgQMAXjzZOCAgAJ6enpgwYQJiY2PRrl07dO3a1eC7hTiiK1H2cURXIstk1DlUjLRgwQJ59OiRsYuZRHx8vACQPXv2iIhIQkKC2NrayvLly5U6Fy5cEABy6NAhERHZuHGjWFlZSVxcnFJn5syZotFoJDU11aDtJiYmCgBJTEw04d688OJQzYnT+z8RkWUy5hxq9OWbL7/8Eu7u7mjTpg02btz4rz7rJjExEQCQO3duAMDx48fx7NkzhIaGKnVKlCiBggUL4tChQwCAQ4cOoUyZMvDw8FDqhIWFISkpCefOnct0O6mpqXzQIBER0b/M6KQkNjYWS5YsgUqlQosWLeDl5YVevXrh4MGDORGfIj09HeHh4QgKCkLp0qUBAHFxcbCzs4OLi4tOXQ8PD8TFxSl1Xk5IMuZnzMtMREQEtFqtMhUoUMDEe0NERESvMjopsbGxQcOGDbFw4ULEx8dj0qRJuHbtGj744AP4+fnlRIwAgF69euHs2bNYsmRJjm0jw6BBg5CYmKhMN2/ezPFtEhERWTqjH8j3sly5ciEsLAwPHz7E9evXceHCBVPFpaN3795Yv3499u7di/z58yvlnp6eePr0KRISEnRaS+7evQtPT0+lzpEjR3TWl3F3TkadV6nVaqjVahPvBREREb1Jlh7I9/jxYyxcuBD169dHvnz5MHnyZHzyySev7aORVSKC3r17Y/Xq1di5cyd8fX115gcGBsLW1hY7duxQyqKionDjxg1Uq1YNAFCtWjWcOXMG8fHxSp1t27ZBo9HA39/fpPESERFR1hndUtKqVSusX78euXLlQosWLTBkyBAlATC1Xr16YdGiRVi7di2cnZ2VPiBarRYODg7QarXo3Lkz+vXrh9y5c0Oj0eCLL75AtWrVULVqVQBA3bp14e/vj88//xzjx49HXFwcvvvuO/Tq1YutIURERObE2Ft72rRpIxs2bJDnz5/rzTtz5oyxq3sjAJlOc+fOVer8888/0rNnT3F1dZVcuXLJJ598IrGxsTrruXbtmnz00Ufi4OAgefPmlf79+8uzZ88MjoO3BHPilP2JiCyTMefQLA+eliE5ORmLFy/Gr7/+iuPHj/+rtwj/Wzh4GlH2Ze9IQ0T/VcacQ7PUpwQA9u7di/bt28PLyws//PADateujb/++iurqyMiIiILZ1Sfkri4OMybNw9z5sxBUlISWrRogdTUVKxZs4adRono/bWITZpkQdq8u2ZNg1tKGjVqhOLFi+P06dOYPHky7ty5g2nTpuVkbERERGRBDG4p2bRpE/r06YMePXqgaNGiORkTERERWSCDW0r279+P5ORkBAYGokqVKpg+fTr+/vvvnIyNiIiILIjBSUnVqlXxyy+/IDY2Ft27d8eSJUvg7e2N9PR0bNu2DcnJyTkZJxEREb3njL77xtHREZ06dcL+/ftx5swZ9O/fH2PHjoW7uzsaN26cEzESERGRBcjyLcEAULx4cYwfPx63bt3C4sWLTRUTERERWaBsJSUZrK2t0aRJE6xbt84UqyMiIiILZJKkhIiIiCi7mJQQERGRWWBSQkRERGaBSQkRERGZBSYlREREZBaYlBAREZFZYFJCREREZoFJCREREZkFJiVERERkFpiUEBERkVlgUkJERERmgUkJERERmQUmJURERGQWmJQQERGRWWBSQkRERGaBSQkRERGZBSYlREREZBaYlBAREZFZYFJCREREZoFJCREREZkFJiVERERkFpiUEBERkVlgUkJERERmgUkJERERmQUmJURERGQWmJQQERGRWWBSQkRERGaBSQkRERGZBSYlREREZBaYlBAREZFZYFJCREREZoFJCREREZkFi0pKfvrpJ/j4+MDe3h5VqlTBkSNH3nVIRERE9P9ZTFKydOlS9OvXD0OHDkVkZCTKlSuHsLAwxMfHv+vQiIiICBaUlEycOBFdu3ZFx44d4e/vj1mzZiFXrlz47bff3nVoREREBMDmXQfwb3j69CmOHz+OQYMGKWVWVlYIDQ3FoUOH9OqnpqYiNTVVeZ2YmAgASEpKyvlgid5T/+mfz+N3HQDRv8jEP9aMc6eIvLWuRSQlf//9N9LS0uDh4aFT7uHhgYsXL+rVj4iIwPDhw/XKCxQokGMxEr3vtNp3HQERGaRrzvxYk5OToX3LgcAikhJjDRo0CP369VNep6en48GDB8iTJw9UKtU7jIyyKykpCQUKFMDNmzeh0WjedThE9Br8rb4/RATJycnw9vZ+a12LSEry5s0La2tr3L17V6f87t278PT01KuvVquhVqt1ylxcXHIyRPqXaTQaHuiI/gP4W30/vK2FJINFdHS1s7NDYGAgduzYoZSlp6djx44dqFat2juMjIiIiDJYREsJAPTr1w/t27dHxYoVUblyZUyePBmPHj1Cx44d33VoREREBAtKSlq2bIl79+7h+++/R1xcHAICArB582a9zq/0flOr1Rg6dKje5TkiMi/8rVomlRhyjw4RERFRDrOIPiVERERk/piUEBERkVlgUkJERERmgUkJERERmQUmJfROdejQASqVSm+6fPnyuw4t23x8fDB58uR3HQaRWcj4rY8dO1anfM2aNRwpmxRMSuidq1evHmJjY3UmX19fnTpPnz59R9ERkanY29tj3LhxePjw4bsOhcwUkxJ659RqNTw9PXWmOnXqoHfv3ggPD0fevHkRFhYGADh79iw++ugjODk5wcPDA59//jn+/vtvZV2PHj1Cu3bt4OTkBC8vL/z444+oVasWwsPDlToqlQpr1qzRicHFxQXz5s1TXt+8eRMtWrSAi4sLcufOjY8//hjXrl1T5nfo0AFNmjTBDz/8AC8vL+TJkwe9evXCs2fPAAC1atXC9evX8eWXXyqtP0SWLjQ0FJ6enoiIiHhtnf379yM4OBgODg4oUKAA+vTpg0ePHgEApk+fjtKlSyt1M1pZZs2apbON7777Lud2gnIUkxIyW/Pnz4ednR0OHDiAWbNmISEhAbVr10b58uVx7NgxbN68GXfv3kWLFi2UZb766ivs2bMHa9euxdatW7F7925ERkYatd1nz54hLCwMzs7O2LdvHw4cOAAnJyfUq1dPp8Vm165duHLlCnbt2oX58+dj3rx5SmKzatUq5M+fHyNGjFBaf4gsnbW1NcaMGYNp06bh1q1bevOvXLmCevXqoWnTpjh9+jSWLl2K/fv3o3fv3gCAkJAQnD9/Hvfu3QMA7NmzB3nz5sXu3bsBvPjtHjp0CLVq1fq3dolMTYjeofbt24u1tbU4OjoqU7NmzSQkJETKly+vU3fkyJFSt25dnbKbN28KAImKipLk5GSxs7OTZcuWKfPv378vDg4O0rdvX6UMgKxevVpnPVqtVubOnSsiIgsWLJDixYtLenq6Mj81NVUcHBxky5YtStyFChWS58+fK3WaN28uLVu2VF4XKlRIJk2alJW3hei90759e/n4449FRKRq1arSqVMnERFZvXq1ZJyKOnfuLN26ddNZbt++fWJlZSX//POPpKenS548eWT58uUiIhIQECARERHi6ekpIiL79+8XW1tbefTo0b+0V2RqbCmhd+6DDz7AyZMnlWnq1KkAgMDAQJ16p06dwq5du+Dk5KRMJUqUAPDiL6wrV67g6dOnqFKlirJM7ty5Ubx4caPiOXXqFC5fvgxnZ2dlO7lz58aTJ09w5coVpV6pUqVgbW2tvPby8kJ8fLzR+09kacaNG4f58+fjwoULOuWnTp3CvHnzdH7jYWFhSE9PR0xMDFQqFWrWrIndu3cjISEB58+fR8+ePZGamoqLFy9iz549qFSpEnLlyvWO9oyyy2KefUPmy9HREUWKFMm0/GUpKSlo1KgRxo0bp1fXy8vL4Dt2VCoV5JWnK2T0BcnYTmBgIBYuXKi3rJubm/J/W1tbvfWmp6cbFAORJatZsybCwsIwaNAgdOjQQSlPSUlB9+7d0adPH71lChYsCOBFf63Zs2dj3759KF++PDQajZKo7NmzByEhIf/WblAOYFJC/xkVKlTAypUr4ePjAxsb/a+un58fbG1tcfjwYeUA9vDhQ1y6dEnnQOXm5qbTxyM6OhqPHz/W2c7SpUvh7u4OjUaT5Xjt7OyQlpaW5eWJ3mdjx45FQECATktmhQoVcP78+Uz/SMkQEhKC8PBwLF++XOk7UqtWLWzfvh0HDhxA//79czp0ykG8fEP/Gb169cKDBw/QunVrHD16FFeuXMGWLVvQsWNHpKWlwcnJCZ07d8ZXX32FnTt34uzZs+jQoQOsrHS/5rVr18b06dNx4sQJHDt2DP/73/90Wj3atm2LvHnz4uOPP8a+ffsQExOD3bt3o0+fPpl2znsdHx8f7N27F7dv39a5Q4iIgDJlyqBt27bK5VoAGDhwIA4ePIjevXvj5MmTiI6Oxtq1a5WOrgBQtmxZuLq6YtGiRTpJyZo1a5CamoqgoKB/e1fIhJiU0H+Gt7c3Dhw4gLS0NNStWxdlypRBeHg4XFxclMRjwoQJCA4ORqNGjRAaGooaNWro9U358ccfUaBAAQQHB6NNmzYYMGCAzjXoXLlyYe/evShYsCA+/fRTlCxZEp07d8aTJ0+MajkZMWIErl27Bj8/P53LPkT0wogRI3QueZYtWxZ79uzBpUuXEBwcjPLly+P777+Ht7e3UkelUiE4OBgqlQo1atRQltNoNKhYsaLeZV/6b1HJqxfXid4ztWrVQkBAAEdXJSIyc2wpISIiIrPApISIiIjMAi/fEBERkVlgSwkRERGZBSYlREREZBaYlBAREZFZYFJCREREZoFJCREREZkFJiVERERkFpiUEBFq1aqF8PBwvfJ58+bBxcXlX48HAC5fvoyOHTsif/78UKvV8PX1RevWrXHs2DGD1zFs2DAEBATkXJBEZFJMSojonXn27Fmm5ceOHUNgYCAuXbqEn3/+GefPn8fq1atRokSJ//RTYF+3v0T0ApMSIjLY7t27UblyZTg6OsLFxQVBQUG4fv26Mn/t2rWoUKEC7O3tUbhwYQwfPhzPnz9X5qtUKsycORONGzeGo6MjRo8erbcNEUGHDh1QtGhR7Nu3Dw0aNICfnx8CAgIwdOhQrF27Vqk7cOBAFCtWDLly5ULhwoUxZMgQ5cQ/b948DB8+HKdOnYJKpYJKpcK8efMAAAkJCejSpQvc3Nyg0WhQu3ZtnDp1SieOUaNGwd3dHc7OzujSpQu++eYbnVaX9PR0jBgxQmnJCQgIwObNm5X5165dg0qlwtKlSxESEgJ7e3vMnj0bGo0GK1as0NnWmjVr4OjoiOTkZOM/FKL3iRCRxQsJCZG+ffvqlc+dO1e0Wq2IiDx79ky0Wq0MGDBALl++LOfPn5d58+bJ9evXRURk7969otFoZN68eXLlyhXZunWr+Pj4yLBhw5T1ARB3d3f57bff5MqVK8qyL4uMjBQAsmjRorfGPXLkSDlw4IDExMTIunXrxMPDQ8aNGyciIo8fP5b+/ftLqVKlJDY2VmJjY+Xx48ciIhIaGiqNGjWSo0ePyqVLl6R///6SJ08euX//voiI/PHHH2Jvby+//fabREVFyfDhw0Wj0Ui5cuWUbU+cOFE0Go0sXrxYLl68KF9//bXY2trKpUuXREQkJiZGAIiPj4+sXLlSrl69Knfu3JGuXbtK/fr1dfajcePG0q5du7fuL9H7jkkJERmUlNy/f18AyO7duzNdR506dWTMmDE6ZQsWLBAvLy/lNQAJDw9/YyxLly4VABIZGWncTojIhAkTJDAwUHk9dOhQnURCRGTfvn2i0WjkyZMnOuV+fn7y888/i4hIlSpVpFevXjrzg4KCdNbl7e0to0eP1qlTqVIl6dmzp4j8X1IyefJknTqHDx8Wa2truXPnjoiI3L17V2xsbF77vhJZEl6+ISKD5M6dGx06dEBYWBgaNWqEKVOmIDY2Vpl/6tQpjBgxAk5OTsrUtWtXxMbG4vHjx0q9ihUrvnE7YsTjuJYuXYqgoCB4enrCyckJ3333HW7cuPHGZU6dOoWUlBTkyZNHJ9aYmBhcuXIFABAVFYXKlSvrLPfy66SkJNy5cwdBQUE6dYKCgnDhwgWdslf3t3LlyihVqhTmz58PAPjjjz9QqFAh1KxZ0+D9JnpfMSkhImg0GiQmJuqVJyQkQKvVKq/nzp2LQ4cOoXr16li6dCmKFSuGv/76CwCQkpKC4cOH4+TJk8p05swZREdHw97eXlmHo6PjG2MpVqwYAODixYtvrHfo0CG0bdsW9evXx/r163HixAkMHjwYT58+feNyKSkp8PLy0onz5MmTiIqKwldfffXGZbMis/3t0qWL0r9l7ty56NixI1Qqlcm3TfRfw6SEiFC8eHFERkbqlUdGRipJQoby5ctj0KBBOHjwIEqXLo1FixYBACpUqICoqCgUKVJEb7KyMvxQExAQAH9/f/z4449IT0/Xm5+QkAAAOHjwIAoVKoTBgwejYsWKKFq0qE6nWwCws7NDWlqaTlmFChUQFxcHGxsbvTjz5s2rvB9Hjx7VWe7l1xqNBt7e3jhw4IBOnQMHDsDf3/+t+/jZZ5/h+vXrmDp1Ks6fP4/27du/dRkii/Curx8R0bt35coVsbe3ly+++EJOnTolFy9elB9//FFsbGxk06ZNIiJy9epV+eabb+TgwYNy7do12bJli+TJk0dmzJghIiKbN28WGxsbGTZsmJw9e1bOnz8vixcvlsGDByvbASCrV69+azyHDx8WZ2dnqV69umzYsEGuXLkip06dklGjRknNmjVFRGTt2rViY2MjixcvlsuXL8uUKVMkd+7cSh8YEZGFCxeKo6OjnDhxQu7duydPnjyR9PR0qVGjhpQrV062bNkiMTExcuDAAfn222/l6NGjIvKio6uDg4PMmzdPLl26JCNHjhSNRiMBAQHKuidNmiQajUaWLFkiFy9elIEDB2ba0fXEiROZ7mObNm3Ezs5O6tWrZ/DnRPS+Y1JCRCIicuTIEfnwww/Fzc1NtFqtVKlSRSeBiIuLkyZNmoiXl5fY2dlJoUKF5Pvvv5e0tDSlzubNm6V69eri4OAgGo1GKleuLLNnz1bmG5qUiIhERUVJu3btxNvbW9le69atdTrAfvXVV5InTx5xcnKSli1byqRJk3SSkidPnkjTpk3FxcVFAMjcuXNFRCQpKUm++OIL8fb2FltbWylQoIC0bdtWbty4oSw7YsQIyZs3rzg5OUmnTp2kT58+UrVqVWV+WlqaDBs2TPLlyye2trZSrlw5JYETeXtSsmPHDgEgy5YtM+j9ILIEKhEjepUREVmoDz/8EJ6enliwYIFJ1rdgwQJ8+eWXuHPnDuzs7EyyTqL/Opt3HQARkbl5/PgxZs2ahbCwMFhbW2Px4sXYvn07tm3bZpJ1x8bGYuzYsejevTsTEqKXsKMrEdErVCoVNm7ciJo1ayIwMBB//vknVq5cidDQ0Gyve/z48ShRogQ8PT0xaNAgE0RL9P7g5RsiIiIyC2wpISIiIrPApISIiIjMApMSIiIiMgtMSoiIiMgsMCkhIiIis8CkhIiIiMwCkxIiIiIyC0xKiIiIyCz8P6HJRd1nmsPSAAAAAElFTkSuQmCC\n"
          },
          "metadata": {}
        }
      ]
    },
    {
      "cell_type": "markdown",
      "source": [
        "## Collaborative Filtering\n",
        "\n",
        "**Collaborative filtering** is a technique used to make personalized suggestions based on user preferences.\n",
        "User's behaviour information is collected and their future preferences are predicted by analyzing this data. One can notice this when Spotify manages to find new music of your taste.\n",
        "\n",
        "* **You** and **Alice** have similar tastes, both liking Pop Band X and Rock band Y.\n",
        "* **Alice** likes New Indie Band Z.\n",
        "* The algorithm predicts you might also like Indie Band Z because you and Alice have similar tastes.\n",
        "\n",
        "##Different Types of Collaborative Filtering:**\n",
        "\n",
        "* **User-based:**  Finds users similar to you and recommends what they like.  (Like the example above).\n",
        "* **Item-based:**  Finds items (songs/artists) that are similar to what you've liked and recommends those. For example, if you like Song A, and many other users who like Song A also like Song B, then Song B might be recommended to you.\n"
      ],

      "metadata": {
        "id": "LSap6Bul7Tcr"
      },
      "id": "LSap6Bul7Tcr"
    },
    {
      "cell_type": "code",
      "source": [
        "df_playlist.shape"
      ],
      "metadata": {
        "id": "-gmqzAhqgS0n"
      },
      "id": "-gmqzAhqgS0n",
      "execution_count": null,
      "outputs": []
    },
    {
      "cell_type": "code",
      "source": [
        "#Categorize users into \"New\" and \"Frequent\" based on the number of tracks added and compare their activity levels\n",
        "user_activity = df_playlist.groupby('user_id').size().reset_index(name='tracks_added')\n",
        "threshold = 100\n",
        "user_activity['user_category'] = user_activity['tracks_added'].apply(lambda x: 'Frequent' if x >= threshold else 'New')\n",
        "print(user_activity.head())\n"
      ],
      "metadata": {
        "id": "6SNEm18RfPoU"
      },
      "id": "6SNEm18RfPoU",
      "execution_count": null,
      "outputs": []
    },
    {
      "cell_type": "code",
      "source": [
        "import matplotlib.pyplot as plt\n",
        "import seaborn as sns\n",
        "threshold = user_activity['tracks_added'].quantile(0.75)\n",
        "user_activity['user_category'] = user_activity['tracks_added'].apply(lambda x: 'Frequent' if x >= threshold else 'New')\n",
        "activity_comparison = user_activity.groupby('user_category')['tracks_added'].mean().reset_index()\n",
        "plt.figure(figsize=(6, 4))\n",
        "plt.bar(activity_comparison['user_category'], activity_comparison['tracks_added'], color=['blue', 'orange'])\n",
        "plt.title('Comparison of Activity Levels: New vs. Frequent Users')\n",
        "plt.xlabel('User Category')\n",
        "plt.ylabel('Average Number of Tracks Added')\n",
        "plt.show()\n"
      ],
      "metadata": {
        "id": "gHN98Bz6gxit"
      },
      "id": "gHN98Bz6gxit",
      "execution_count": null,
      "outputs": []
    },
    {
      "cell_type": "markdown",
      "source": [
        "## Collaborative Filtering\n",
        "\n",
        "**Collaborative filtering** is a technique used to make personalized suggestions based on user preferences.\n",
        "User's behaviour information is collected and their future preferences are predicted by analyzing this data. One can notice this when Spotify manages to find new music of your taste.\n",
        "\n",
        "* **You** and **Alice** have similar tastes, both liking Pop Band X and Rock band Y.\n",
        "* **Alice** likes New Indie Band Z.\n",
        "* The algorithm predicts you might also like Indie Band Z because you and Alice have similar tastes.\n",
        "\n",
        "##Different Types of Collaborative Filtering:**\n",
        "\n",
        "* **User-based:**  Finds users similar to you and recommends what they like.  (Like the example above).\n",
        "* **Item-based:**  Finds items (songs/artists) that are similar to what you've liked and recommends those. For example, if you like Song A, and many other users who like Song A also like Song B, then Song B might be recommended to you.\n"
      ],
      "metadata": {
        "id": "LSap6Bul7Tcr"
      },
      "id": "LSap6Bul7Tcr"
    },
    {
      "cell_type": "code",
      "source": [
        "top_playlists = df_playlist['playlist'].value_counts().head(10).index\n",
        "top_tracks = df_playlist[df_playlist['playlist'].isin(top_playlists)]['track'].value_counts().head(10).index\n",
        "filtered_df = df_playlist[df_playlist['playlist'].isin(top_playlists) & df_playlist['track'].isin(top_tracks)]\n",
        "pivot_table = filtered_df.pivot_table(index='playlist', columns='track', aggfunc='size', fill_value=0)\n",
        "plt.figure(figsize=(12, 8))\n",
        "sns.heatmap(pivot_table, cmap='YlGnBu', annot=False, fmt='d', cbar=True)\n",
        "plt.title('Heatmap of Top 10 Playlists and Most Commonly Added Tracks')\n",
        "plt.xlabel('Track ID')\n",
        "plt.ylabel('Playlist ID')\n",
        "plt.show()\n"
      ],
      "metadata": {
        "id": "LqU7O1FxFJG6",
        "outputId": "f425ac97-4f41-495c-f841-53a4969a95dd",
        "colab": {
          "base_uri": "https://localhost:8080/",
          "height": 878
        }
      },
      "id": "LqU7O1FxFJG6",
      "execution_count": 9,
      "outputs": [
        {
          "output_type": "display_data",
          "data": {
            "text/plain": [
              "<Figure size 1200x800 with 2 Axes>"
            ],
            "image/png": "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\n"
          },
          "metadata": {}
        }
      ]
    },
    {
      "cell_type": "markdown",
      "source": [],
      "metadata": {
        "id": "PyZnODJnD1gk"
      },
      "id": "PyZnODJnD1gk"
    },
    {
      "cell_type": "markdown",
      "id": "75afe77a",
      "metadata": {
        "papermill": {
          "duration": 0.04017,
          "end_time": "2021-11-23T16:23:39.667197",
          "exception": false,
          "start_time": "2021-11-23T16:23:39.627027",
          "status": "completed"
        },
        "tags": [],
        "id": "75afe77a"
      },
      "source": [
        "<a id=\"section-4\"></a>\n",
        "# Recommender System"
      ]
    },
    {
      "cell_type": "markdown",
      "id": "01645df4",
      "metadata": {
        "papermill": {
          "duration": 0.040544,
          "end_time": "2021-11-23T16:23:39.748501",
          "exception": false,
          "start_time": "2021-11-23T16:23:39.707957",
          "status": "completed"
        },
        "tags": [],
        "id": "01645df4"
      },
      "source": [
        "#### We are using the LightFM library and run a traditional MF model since the dataset doesn't include any user or artist features,\n"
      ]
    },
    {
      "cell_type": "markdown",
      "id": "adccc427",
      "metadata": {
        "papermill": {
          "duration": 0.041014,
          "end_time": "2021-11-23T16:23:39.910725",
          "exception": false,
          "start_time": "2021-11-23T16:23:39.869711",
          "status": "completed"
        },
        "tags": [],
        "id": "adccc427"
      },
      "source": [
        "<a id=\"subsection-1\"></a>\n",
        "## Helper Functions"
      ]
    },
    {
      "cell_type": "code",
      "execution_count": 109,
      "id": "96d4dd7f",
      "metadata": {
        "execution": {
          "iopub.execute_input": "2021-11-23T16:23:40.083353Z",
          "iopub.status.busy": "2021-11-23T16:23:40.078260Z",
          "iopub.status.idle": "2021-11-23T16:23:40.085570Z",
          "shell.execute_reply": "2021-11-23T16:23:40.086222Z",
          "shell.execute_reply.started": "2021-11-23T15:32:08.493213Z"
        },
        "papermill": {
          "duration": 0.051711,
          "end_time": "2021-11-23T16:23:40.086411",
          "exception": false,
          "start_time": "2021-11-23T16:23:40.034700",
          "status": "completed"
        },
        "tags": [],
        "id": "96d4dd7f"
      },
      "outputs": [],
      "source": [
        "def create_interaction_matrix(df,user_col, item_col, rating_col, norm= False, threshold = None):\n",
        "    '''\n",
        "    Function to create an interaction matrix dataframe from transactional type interactions\n",
        "    Required Input -\n",
        "        - df = Pandas DataFrame containing user-item interactions\n",
        "        - user_col = column name containing user's identifier\n",
        "        - item_col = column name containing item's identifier\n",
        "        - rating col = column name containing user feedback on interaction with a given item\n",
        "        - norm (optional) = True if a normalization of ratings is needed\n",
        "        - threshold (required if norm = True) = value above which the rating is favorable\n",
        "    Expected output -\n",
        "        - Pandas dataframe with user-item interactions ready to be fed in a recommendation algorithm\n",
        "    '''\n",
        "    interactions = df.groupby([user_col, item_col])[rating_col] \\\n",
        "            .sum().unstack().reset_index(). \\\n",
        "            fillna(0).set_index(user_col)\n",
        "    if norm:\n",
        "        interactions = interactions.applymap(lambda x: 1 if x > threshold else 0)\n",
        "    return interactions"
      ]
    },
    {
      "cell_type": "code",
      "execution_count": 110,
      "id": "ec177ea4",
      "metadata": {
        "execution": {
          "iopub.execute_input": "2021-11-23T16:23:40.173605Z",
          "iopub.status.busy": "2021-11-23T16:23:40.172570Z",
          "iopub.status.idle": "2021-11-23T16:23:40.177956Z",
          "shell.execute_reply": "2021-11-23T16:23:40.178543Z",
          "shell.execute_reply.started": "2021-11-23T15:32:08.506494Z"
        },
        "papermill": {
          "duration": 0.050545,
          "end_time": "2021-11-23T16:23:40.178713",
          "exception": false,
          "start_time": "2021-11-23T16:23:40.128168",
          "status": "completed"
        },
        "tags": [],
        "id": "ec177ea4"
      },
      "outputs": [],
      "source": [
        "def create_user_dict(interactions):\n",
        "    '''\n",
        "    Function to create a user dictionary based on their index and number in interaction dataset\n",
        "    Required Input -\n",
        "        interactions - dataset create by create_interaction_matrix\n",
        "    Expected Output -\n",
        "        user_dict - Dictionary type output containing interaction_index as key and user_id as value\n",
        "    '''\n",
        "    user_id = list(interactions.index)\n",
        "    user_dict = {}\n",
        "    counter = 0\n",
        "    for i in user_id:\n",
        "        user_dict[i] = counter\n",
        "        counter += 1\n",
        "    return user_dict"
      ]
    },
    {
      "cell_type": "code",
      "execution_count": 111,
      "id": "ddc12f2d",
      "metadata": {
        "execution": {
          "iopub.execute_input": "2021-11-23T16:23:40.263355Z",
          "iopub.status.busy": "2021-11-23T16:23:40.262674Z",
          "iopub.status.idle": "2021-11-23T16:23:40.270556Z",
          "shell.execute_reply": "2021-11-23T16:23:40.269688Z",
          "shell.execute_reply.started": "2021-11-23T15:32:08.518201Z"
        },
        "papermill": {
          "duration": 0.051462,
          "end_time": "2021-11-23T16:23:40.270770",
          "exception": false,
          "start_time": "2021-11-23T16:23:40.219308",
          "status": "completed"
        },
        "tags": [],
        "id": "ddc12f2d"
      },
      "outputs": [],
      "source": [
        "def create_item_dict(df,id_col,name_col):\n",
        "    '''\n",
        "    Function to create an item dictionary based on their item_id and item name\n",
        "    Required Input -\n",
        "        - df = Pandas dataframe with Item information\n",
        "        - id_col = Column name containing unique identifier for an item\n",
        "        - name_col = Column name containing name of the item\n",
        "    Expected Output -\n",
        "        item_dict = Dictionary type output containing item_id as key and item_name as value\n",
        "    '''\n",
        "    item_dict ={}\n",
        "    for i in range(df.shape[0]):\n",
        "        item_dict[(df.loc[i,id_col])] = df.loc[i,name_col]\n",
        "    return item_dict"
      ]
    },
    {
      "cell_type": "code",
      "execution_count": 112,
      "id": "cfc8d087",
      "metadata": {
        "execution": {
          "iopub.execute_input": "2021-11-23T16:23:40.359570Z",
          "iopub.status.busy": "2021-11-23T16:23:40.358890Z",
          "iopub.status.idle": "2021-11-23T16:23:40.361062Z",
          "shell.execute_reply": "2021-11-23T16:23:40.360452Z",
          "shell.execute_reply.started": "2021-11-23T15:32:08.536236Z"
        },
        "papermill": {
          "duration": 0.049398,
          "end_time": "2021-11-23T16:23:40.361235",
          "exception": false,
          "start_time": "2021-11-23T16:23:40.311837",
          "status": "completed"
        },
        "tags": [],
        "id": "cfc8d087"
      },
      "outputs": [],
      "source": [
        "def runMF(interactions, n_components=30, loss='warp', k=15, epoch=30,n_jobs = 4):\n",
        "    '''\n",
        "    Function to run matrix-factorization algorithm\n",
        "    Required Input -\n",
        "        - interactions = dataset create by create_interaction_matrix\n",
        "        - n_components = number of embeddings you want to create to define Item and user\n",
        "        - loss = loss function other options are logistic, brp\n",
        "        - epoch = number of epochs to run\n",
        "        - n_jobs = number of cores used for execution\n",
        "    Expected Output  -\n",
        "        Model - Trained model\n",
        "    '''\n",
        "\n",
        "    #uncommented for train test split\n",
        "#     x = sparse.csr_matrix(interactions.values)\n",
        "    model = LightFM(no_components= n_components, loss=loss,k=k)\n",
        "    model.fit(x,epochs=epoch,num_threads = n_jobs)\n",
        "    return model"
      ]
    },
    {
      "cell_type": "code",
      "execution_count": 113,
      "id": "f5e9a3df",
      "metadata": {
        "execution": {
          "iopub.execute_input": "2021-11-23T16:23:40.445504Z",
          "iopub.status.busy": "2021-11-23T16:23:40.444838Z",
          "iopub.status.idle": "2021-11-23T16:23:40.456023Z",
          "shell.execute_reply": "2021-11-23T16:23:40.456616Z",
          "shell.execute_reply.started": "2021-11-23T15:32:08.550156Z"
        },
        "papermill": {
          "duration": 0.055012,
          "end_time": "2021-11-23T16:23:40.456802",
          "exception": false,
          "start_time": "2021-11-23T16:23:40.401790",
          "status": "completed"
        },
        "tags": [],
        "id": "f5e9a3df"
      },
      "outputs": [],
      "source": [
        "def sample_recommendation_user(model, interactions, user_id, user_dict,\n",
        "                               item_dict,threshold = 0,nrec_items = 10, show = True):\n",
        "    '''\n",
        "    Function to produce user recommendations\n",
        "    Required Input -\n",
        "        - model = Trained matrix factorization model\n",
        "        - interactions = dataset used for training the model\n",
        "        - user_id = user ID for which we need to generate recommendation\n",
        "        - user_dict = Dictionary type input containing interaction_index as key and user_id as value\n",
        "        - item_dict = Dictionary type input containing item_id as key and item_name as value\n",
        "        - threshold = value above which the rating is favorable in new interaction matrix\n",
        "        - nrec_items = Number of output recommendation needed\n",
        "    Expected Output -\n",
        "        - Prints list of items the given user has already bought\n",
        "        - Prints list of N recommended items  which user hopefully will be interested in\n",
        "    '''\n",
        "    n_users, n_items = interactions.shape\n",
        "    user_x = user_dict[user_id]\n",
        "    scores = pd.Series(model.predict(user_x,np.arange(n_items)))\n",
        "    scores.index = interactions.columns\n",
        "    scores = list(pd.Series(scores.sort_values(ascending=False).index))\n",
        "\n",
        "    known_items = list(pd.Series(interactions.loc[user_id,:] \\\n",
        "                                 [interactions.loc[user_id,:] > threshold].index) \\\n",
        "\t\t\t\t\t\t\t\t .sort_values(ascending=False))\n",
        "\n",
        "    scores = [x for x in scores if x not in known_items]\n",
        "    return_score_list = scores[0:nrec_items]\n",
        "    known_items = list(pd.Series(known_items).apply(lambda x: item_dict[x]))\n",
        "    scores = list(pd.Series(return_score_list).apply(lambda x: item_dict[x]))\n",
        "    if show == True:\n",
        "        print(\"Known Likes:\")\n",
        "        counter = 1\n",
        "        for i in known_items:\n",
        "            print(str(counter) + '- ' + i)\n",
        "            counter+=1\n",
        "\n",
        "        print(\"\\n Recommended Items:\")\n",
        "        counter = 1\n",
        "        for i in scores:\n",
        "            print(str(counter) + '- ' + i)\n",
        "            counter+=1\n",
        "    return return_score_list"
      ]
    },
    {
      "cell_type": "markdown",
      "id": "98a37dfb",
      "metadata": {
        "papermill": {
          "duration": 0.041203,
          "end_time": "2021-11-23T16:23:40.538959",
          "exception": false,
          "start_time": "2021-11-23T16:23:40.497756",
          "status": "completed"
        },
        "tags": [],
        "id": "98a37dfb"
      },
      "source": [
        "<a id=\"subsection-2\"></a>\n",
        "## Prep Model Inputs"
      ]
    },
    {
      "cell_type": "markdown",
      "id": "32dc093c",
      "metadata": {
        "papermill": {
          "duration": 0.040684,
          "end_time": "2021-11-23T16:23:40.620607",
          "exception": false,
          "start_time": "2021-11-23T16:23:40.579923",
          "status": "completed"
        },
        "tags": [],
        "id": "32dc093c"
      },
      "source": [
        "### Create interaction matrix"
      ]
    },
    {
      "cell_type": "code",
      "execution_count": 114,

      "id": "4801918c",
      "metadata": {
        "execution": {
          "iopub.execute_input": "2021-11-23T16:23:40.705650Z",
          "iopub.status.busy": "2021-11-23T16:23:40.704951Z",
          "iopub.status.idle": "2021-11-23T16:23:45.714359Z",
          "shell.execute_reply": "2021-11-23T16:23:45.713748Z",
          "shell.execute_reply.started": "2021-11-23T16:04:06.987168Z"
        },
        "papermill": {
          "duration": 5.052603,
          "end_time": "2021-11-23T16:23:45.714509",
          "exception": false,
          "start_time": "2021-11-23T16:23:40.661906",
          "status": "completed"
        },
        "tags": [],

        "id": "4801918c",
        "outputId": "25eb098d-ee7e-431d-c499-1c8567cb7329",
        "colab": {
          "base_uri": "https://localhost:8080/",
          "height": 283
        }
      },
      "outputs": [
        {
          "output_type": "execute_result",
          "data": {
            "text/plain": [
              "artist_id                         0      1      2      3      4      5      \\\n",
              "user_id                                                                      \n",
              "00055176fea33f6e027cd3302289378b    0.0    0.0    0.0    0.0    0.0    0.0   \n",
              "0007f3dd09c91198371454c608d47f22    0.0    0.0    0.0    0.0    0.0    0.0   \n",
              "000b0f32b5739f052b9d40fcc5c41079    0.0    0.0    0.0    0.0    0.0    0.0   \n",
              "000c11a16c89aa4b14b328080f5954ee    0.0    0.0    0.0    0.0    0.0    0.0   \n",
              "00123e0f544dee3ab006aa7f1e5725a7    0.0    0.0    0.0   13.0    0.0    1.0   \n",
              "\n",
              "artist_id                         6      7      8      9      ...  14299  \\\n",
              "user_id                                                       ...          \n",
              "00055176fea33f6e027cd3302289378b    0.0    0.0    0.0    0.0  ...    0.0   \n",
              "0007f3dd09c91198371454c608d47f22    0.0    0.0    0.0    0.0  ...    0.0   \n",
              "000b0f32b5739f052b9d40fcc5c41079    0.0    0.0    0.0    0.0  ...    0.0   \n",
              "000c11a16c89aa4b14b328080f5954ee    4.0    1.0    0.0    0.0  ...    0.0   \n",
              "00123e0f544dee3ab006aa7f1e5725a7    0.0   89.0    0.0    0.0  ...    0.0   \n",
              "\n",
              "artist_id                         14300  14301  14302  14303  14304  14305  \\\n",
              "user_id                                                                      \n",
              "00055176fea33f6e027cd3302289378b    0.0    0.0    0.0    0.0    0.0    0.0   \n",
              "0007f3dd09c91198371454c608d47f22    0.0    0.0    0.0    0.0    0.0    0.0   \n",
              "000b0f32b5739f052b9d40fcc5c41079    0.0    0.0    0.0    0.0    0.0    0.0   \n",
              "000c11a16c89aa4b14b328080f5954ee    0.0    0.0    0.0    0.0    0.0    0.0   \n",
              "00123e0f544dee3ab006aa7f1e5725a7    0.0    0.0    0.0    0.0    0.0    0.0   \n",
              "\n",
              "artist_id                         14306  14307  14308  \n",
              "user_id                                                \n",
              "00055176fea33f6e027cd3302289378b    0.0    0.0    0.0  \n",
              "0007f3dd09c91198371454c608d47f22    0.0    0.0    0.0  \n",
              "000b0f32b5739f052b9d40fcc5c41079    0.0    0.0    0.0  \n",
              "000c11a16c89aa4b14b328080f5954ee    0.0    0.0    0.0  \n",
              "00123e0f544dee3ab006aa7f1e5725a7    0.0    0.0    0.0  \n",
              "\n",
              "[5 rows x 14309 columns]"
            ],
            "text/html": [
              "\n",
              "  <div id=\"df-9cfc44d8-e69f-493f-b1ec-f2ca3877443d\" class=\"colab-df-container\">\n",
              "    <div>\n",
              "<style scoped>\n",
              "    .dataframe tbody tr th:only-of-type {\n",
              "        vertical-align: middle;\n",
              "    }\n",
              "\n",
              "    .dataframe tbody tr th {\n",
              "        vertical-align: top;\n",
              "    }\n",
              "\n",
              "    .dataframe thead th {\n",
              "        text-align: right;\n",
              "    }\n",
              "</style>\n",
              "<table border=\"1\" class=\"dataframe\">\n",
              "  <thead>\n",
              "    <tr style=\"text-align: right;\">\n",
              "      <th>artist_id</th>\n",
              "      <th>0</th>\n",
              "      <th>1</th>\n",
              "      <th>2</th>\n",
              "      <th>3</th>\n",
              "      <th>4</th>\n",
              "      <th>5</th>\n",
              "      <th>6</th>\n",
              "      <th>7</th>\n",
              "      <th>8</th>\n",
              "      <th>9</th>\n",
              "      <th>...</th>\n",
              "      <th>14299</th>\n",
              "      <th>14300</th>\n",
              "      <th>14301</th>\n",
              "      <th>14302</th>\n",
              "      <th>14303</th>\n",
              "      <th>14304</th>\n",
              "      <th>14305</th>\n",
              "      <th>14306</th>\n",
              "      <th>14307</th>\n",
              "      <th>14308</th>\n",
              "    </tr>\n",
              "    <tr>\n",
              "      <th>user_id</th>\n",
              "      <th></th>\n",
              "      <th></th>\n",
              "      <th></th>\n",
              "      <th></th>\n",
              "      <th></th>\n",
              "      <th></th>\n",
              "      <th></th>\n",
              "      <th></th>\n",
              "      <th></th>\n",
              "      <th></th>\n",
              "      <th></th>\n",
              "      <th></th>\n",
              "      <th></th>\n",
              "      <th></th>\n",
              "      <th></th>\n",
              "      <th></th>\n",
              "      <th></th>\n",
              "      <th></th>\n",
              "      <th></th>\n",
              "      <th></th>\n",
              "      <th></th>\n",
              "    </tr>\n",
              "  </thead>\n",
              "  <tbody>\n",
              "    <tr>\n",
              "      <th>00055176fea33f6e027cd3302289378b</th>\n",
              "      <td>0.0</td>\n",
              "      <td>0.0</td>\n",
              "      <td>0.0</td>\n",
              "      <td>0.0</td>\n",
              "      <td>0.0</td>\n",
              "      <td>0.0</td>\n",
              "      <td>0.0</td>\n",
              "      <td>0.0</td>\n",
              "      <td>0.0</td>\n",
              "      <td>0.0</td>\n",
              "      <td>...</td>\n",
              "      <td>0.0</td>\n",
              "      <td>0.0</td>\n",
              "      <td>0.0</td>\n",
              "      <td>0.0</td>\n",
              "      <td>0.0</td>\n",
              "      <td>0.0</td>\n",
              "      <td>0.0</td>\n",
              "      <td>0.0</td>\n",
              "      <td>0.0</td>\n",
              "      <td>0.0</td>\n",
              "    </tr>\n",
              "    <tr>\n",
              "      <th>0007f3dd09c91198371454c608d47f22</th>\n",
              "      <td>0.0</td>\n",
              "      <td>0.0</td>\n",
              "      <td>0.0</td>\n",
              "      <td>0.0</td>\n",
              "      <td>0.0</td>\n",
              "      <td>0.0</td>\n",
              "      <td>0.0</td>\n",
              "      <td>0.0</td>\n",
              "      <td>0.0</td>\n",
              "      <td>0.0</td>\n",
              "      <td>...</td>\n",
              "      <td>0.0</td>\n",
              "      <td>0.0</td>\n",
              "      <td>0.0</td>\n",
              "      <td>0.0</td>\n",
              "      <td>0.0</td>\n",
              "      <td>0.0</td>\n",
              "      <td>0.0</td>\n",
              "      <td>0.0</td>\n",
              "      <td>0.0</td>\n",
              "      <td>0.0</td>\n",
              "    </tr>\n",
              "    <tr>\n",
              "      <th>000b0f32b5739f052b9d40fcc5c41079</th>\n",
              "      <td>0.0</td>\n",
              "      <td>0.0</td>\n",
              "      <td>0.0</td>\n",
              "      <td>0.0</td>\n",
              "      <td>0.0</td>\n",
              "      <td>0.0</td>\n",
              "      <td>0.0</td>\n",
              "      <td>0.0</td>\n",
              "      <td>0.0</td>\n",
              "      <td>0.0</td>\n",
              "      <td>...</td>\n",
              "      <td>0.0</td>\n",
              "      <td>0.0</td>\n",
              "      <td>0.0</td>\n",
              "      <td>0.0</td>\n",
              "      <td>0.0</td>\n",
              "      <td>0.0</td>\n",
              "      <td>0.0</td>\n",
              "      <td>0.0</td>\n",
              "      <td>0.0</td>\n",
              "      <td>0.0</td>\n",
              "    </tr>\n",
              "    <tr>\n",
              "      <th>000c11a16c89aa4b14b328080f5954ee</th>\n",
              "      <td>0.0</td>\n",
              "      <td>0.0</td>\n",
              "      <td>0.0</td>\n",
              "      <td>0.0</td>\n",
              "      <td>0.0</td>\n",
              "      <td>0.0</td>\n",
              "      <td>4.0</td>\n",
              "      <td>1.0</td>\n",
              "      <td>0.0</td>\n",
              "      <td>0.0</td>\n",
              "      <td>...</td>\n",
              "      <td>0.0</td>\n",
              "      <td>0.0</td>\n",
              "      <td>0.0</td>\n",
              "      <td>0.0</td>\n",
              "      <td>0.0</td>\n",
              "      <td>0.0</td>\n",
              "      <td>0.0</td>\n",
              "      <td>0.0</td>\n",
              "      <td>0.0</td>\n",
              "      <td>0.0</td>\n",
              "    </tr>\n",
              "    <tr>\n",
              "      <th>00123e0f544dee3ab006aa7f1e5725a7</th>\n",
              "      <td>0.0</td>\n",
              "      <td>0.0</td>\n",
              "      <td>0.0</td>\n",
              "      <td>13.0</td>\n",
              "      <td>0.0</td>\n",
              "      <td>1.0</td>\n",
              "      <td>0.0</td>\n",
              "      <td>89.0</td>\n",
              "      <td>0.0</td>\n",
              "      <td>0.0</td>\n",
              "      <td>...</td>\n",
              "      <td>0.0</td>\n",
              "      <td>0.0</td>\n",
              "      <td>0.0</td>\n",
              "      <td>0.0</td>\n",
              "      <td>0.0</td>\n",
              "      <td>0.0</td>\n",
              "      <td>0.0</td>\n",
              "      <td>0.0</td>\n",
              "      <td>0.0</td>\n",
              "      <td>0.0</td>\n",
              "    </tr>\n",
              "  </tbody>\n",
              "</table>\n",
              "<p>5 rows × 14309 columns</p>\n",
              "</div>\n",
              "    <div class=\"colab-df-buttons\">\n",
              "\n",
              "  <div class=\"colab-df-container\">\n",
              "    <button class=\"colab-df-convert\" onclick=\"convertToInteractive('df-9cfc44d8-e69f-493f-b1ec-f2ca3877443d')\"\n",
              "            title=\"Convert this dataframe to an interactive table.\"\n",
              "            style=\"display:none;\">\n",
              "\n",
              "  <svg xmlns=\"http://www.w3.org/2000/svg\" height=\"24px\" viewBox=\"0 -960 960 960\">\n",
              "    <path d=\"M120-120v-720h720v720H120Zm60-500h600v-160H180v160Zm220 220h160v-160H400v160Zm0 220h160v-160H400v160ZM180-400h160v-160H180v160Zm440 0h160v-160H620v160ZM180-180h160v-160H180v160Zm440 0h160v-160H620v160Z\"/>\n",
              "  </svg>\n",
              "    </button>\n",
              "\n",
              "  <style>\n",
              "    .colab-df-container {\n",
              "      display:flex;\n",
              "      gap: 12px;\n",
              "    }\n",
              "\n",
              "    .colab-df-convert {\n",
              "      background-color: #E8F0FE;\n",
              "      border: none;\n",
              "      border-radius: 50%;\n",
              "      cursor: pointer;\n",
              "      display: none;\n",
              "      fill: #1967D2;\n",
              "      height: 32px;\n",
              "      padding: 0 0 0 0;\n",
              "      width: 32px;\n",
              "    }\n",
              "\n",
              "    .colab-df-convert:hover {\n",
              "      background-color: #E2EBFA;\n",
              "      box-shadow: 0px 1px 2px rgba(60, 64, 67, 0.3), 0px 1px 3px 1px rgba(60, 64, 67, 0.15);\n",
              "      fill: #174EA6;\n",
              "    }\n",
              "\n",
              "    .colab-df-buttons div {\n",
              "      margin-bottom: 4px;\n",
              "    }\n",
              "\n",
              "    [theme=dark] .colab-df-convert {\n",
              "      background-color: #3B4455;\n",
              "      fill: #D2E3FC;\n",
              "    }\n",
              "\n",
              "    [theme=dark] .colab-df-convert:hover {\n",
              "      background-color: #434B5C;\n",
              "      box-shadow: 0px 1px 3px 1px rgba(0, 0, 0, 0.15);\n",
              "      filter: drop-shadow(0px 1px 2px rgba(0, 0, 0, 0.3));\n",
              "      fill: #FFFFFF;\n",
              "    }\n",
              "  </style>\n",
              "\n",
              "    <script>\n",
              "      const buttonEl =\n",
              "        document.querySelector('#df-9cfc44d8-e69f-493f-b1ec-f2ca3877443d button.colab-df-convert');\n",
              "      buttonEl.style.display =\n",
              "        google.colab.kernel.accessAllowed ? 'block' : 'none';\n",
              "\n",
              "      async function convertToInteractive(key) {\n",
              "        const element = document.querySelector('#df-9cfc44d8-e69f-493f-b1ec-f2ca3877443d');\n",
              "        const dataTable =\n",
              "          await google.colab.kernel.invokeFunction('convertToInteractive',\n",
              "                                                    [key], {});\n",
              "        if (!dataTable) return;\n",
              "\n",
              "        const docLinkHtml = 'Like what you see? Visit the ' +\n",
              "          '<a target=\"_blank\" href=https://colab.research.google.com/notebooks/data_table.ipynb>data table notebook</a>'\n",
              "          + ' to learn more about interactive tables.';\n",
              "        element.innerHTML = '';\n",
              "        dataTable['output_type'] = 'display_data';\n",
              "        await google.colab.output.renderOutput(dataTable, element);\n",
              "        const docLink = document.createElement('div');\n",
              "        docLink.innerHTML = docLinkHtml;\n",
              "        element.appendChild(docLink);\n",
              "      }\n",
              "    </script>\n",
              "  </div>\n",
              "\n",
              "\n",
              "<div id=\"df-2d4a143c-b1f0-4339-b6e3-b04299bc8418\">\n",
              "  <button class=\"colab-df-quickchart\" onclick=\"quickchart('df-2d4a143c-b1f0-4339-b6e3-b04299bc8418')\"\n",
              "            title=\"Suggest charts\"\n",
              "            style=\"display:none;\">\n",
              "\n",
              "<svg xmlns=\"http://www.w3.org/2000/svg\" height=\"24px\"viewBox=\"0 0 24 24\"\n",
              "     width=\"24px\">\n",
              "    <g>\n",
              "        <path d=\"M19 3H5c-1.1 0-2 .9-2 2v14c0 1.1.9 2 2 2h14c1.1 0 2-.9 2-2V5c0-1.1-.9-2-2-2zM9 17H7v-7h2v7zm4 0h-2V7h2v10zm4 0h-2v-4h2v4z\"/>\n",
              "    </g>\n",
              "</svg>\n",
              "  </button>\n",
              "\n",
              "<style>\n",
              "  .colab-df-quickchart {\n",
              "      --bg-color: #E8F0FE;\n",
              "      --fill-color: #1967D2;\n",
              "      --hover-bg-color: #E2EBFA;\n",
              "      --hover-fill-color: #174EA6;\n",
              "      --disabled-fill-color: #AAA;\n",
              "      --disabled-bg-color: #DDD;\n",
              "  }\n",
              "\n",
              "  [theme=dark] .colab-df-quickchart {\n",
              "      --bg-color: #3B4455;\n",
              "      --fill-color: #D2E3FC;\n",
              "      --hover-bg-color: #434B5C;\n",
              "      --hover-fill-color: #FFFFFF;\n",
              "      --disabled-bg-color: #3B4455;\n",
              "      --disabled-fill-color: #666;\n",
              "  }\n",
              "\n",
              "  .colab-df-quickchart {\n",
              "    background-color: var(--bg-color);\n",
              "    border: none;\n",
              "    border-radius: 50%;\n",
              "    cursor: pointer;\n",
              "    display: none;\n",
              "    fill: var(--fill-color);\n",
              "    height: 32px;\n",
              "    padding: 0;\n",
              "    width: 32px;\n",
              "  }\n",
              "\n",
              "  .colab-df-quickchart:hover {\n",
              "    background-color: var(--hover-bg-color);\n",
              "    box-shadow: 0 1px 2px rgba(60, 64, 67, 0.3), 0 1px 3px 1px rgba(60, 64, 67, 0.15);\n",
              "    fill: var(--button-hover-fill-color);\n",
              "  }\n",
              "\n",
              "  .colab-df-quickchart-complete:disabled,\n",
              "  .colab-df-quickchart-complete:disabled:hover {\n",
              "    background-color: var(--disabled-bg-color);\n",
              "    fill: var(--disabled-fill-color);\n",
              "    box-shadow: none;\n",
              "  }\n",
              "\n",
              "  .colab-df-spinner {\n",
              "    border: 2px solid var(--fill-color);\n",
              "    border-color: transparent;\n",
              "    border-bottom-color: var(--fill-color);\n",
              "    animation:\n",
              "      spin 1s steps(1) infinite;\n",
              "  }\n",
              "\n",
              "  @keyframes spin {\n",
              "    0% {\n",
              "      border-color: transparent;\n",
              "      border-bottom-color: var(--fill-color);\n",
              "      border-left-color: var(--fill-color);\n",
              "    }\n",
              "    20% {\n",
              "      border-color: transparent;\n",
              "      border-left-color: var(--fill-color);\n",
              "      border-top-color: var(--fill-color);\n",
              "    }\n",
              "    30% {\n",
              "      border-color: transparent;\n",
              "      border-left-color: var(--fill-color);\n",
              "      border-top-color: var(--fill-color);\n",
              "      border-right-color: var(--fill-color);\n",
              "    }\n",
              "    40% {\n",
              "      border-color: transparent;\n",
              "      border-right-color: var(--fill-color);\n",
              "      border-top-color: var(--fill-color);\n",
              "    }\n",
              "    60% {\n",
              "      border-color: transparent;\n",
              "      border-right-color: var(--fill-color);\n",
              "    }\n",
              "    80% {\n",
              "      border-color: transparent;\n",
              "      border-right-color: var(--fill-color);\n",
              "      border-bottom-color: var(--fill-color);\n",
              "    }\n",
              "    90% {\n",
              "      border-color: transparent;\n",
              "      border-bottom-color: var(--fill-color);\n",
              "    }\n",
              "  }\n",
              "</style>\n",
              "\n",
              "  <script>\n",
              "    async function quickchart(key) {\n",
              "      const quickchartButtonEl =\n",
              "        document.querySelector('#' + key + ' button');\n",
              "      quickchartButtonEl.disabled = true;  // To prevent multiple clicks.\n",
              "      quickchartButtonEl.classList.add('colab-df-spinner');\n",
              "      try {\n",
              "        const charts = await google.colab.kernel.invokeFunction(\n",
              "            'suggestCharts', [key], {});\n",
              "      } catch (error) {\n",
              "        console.error('Error during call to suggestCharts:', error);\n",
              "      }\n",
              "      quickchartButtonEl.classList.remove('colab-df-spinner');\n",
              "      quickchartButtonEl.classList.add('colab-df-quickchart-complete');\n",
              "    }\n",
              "    (() => {\n",
              "      let quickchartButtonEl =\n",
              "        document.querySelector('#df-2d4a143c-b1f0-4339-b6e3-b04299bc8418 button');\n",
              "      quickchartButtonEl.style.display =\n",
              "        google.colab.kernel.accessAllowed ? 'block' : 'none';\n",
              "    })();\n",
              "  </script>\n",
              "</div>\n",
              "\n",
              "    </div>\n",
              "  </div>\n"
            ],
            "application/vnd.google.colaboratory.intrinsic+json": {
              "type": "dataframe",
              "variable_name": "interactions"
            }
          },
          "metadata": {},
          "execution_count": 114
        }
      ],
      "source": [
        "interactions = create_interaction_matrix(df = df_freq, user_col = \"user_id\", item_col = 'artist_id', rating_col = 'freq', norm= False, threshold = None)\n",
        "interactions.head()"
      ]
    },
    {
      "cell_type": "code",
      "execution_count": 115,
      "id": "f0c96f00",
      "metadata": {
        "execution": {
          "iopub.execute_input": "2021-11-23T16:23:45.802747Z",
          "iopub.status.busy": "2021-11-23T16:23:45.801695Z",
          "iopub.status.idle": "2021-11-23T16:23:45.807010Z",
          "shell.execute_reply": "2021-11-23T16:23:45.807530Z",
          "shell.execute_reply.started": "2021-11-23T15:32:11.768569Z"
        },
        "papermill": {
          "duration": 0.051208,
          "end_time": "2021-11-23T16:23:45.807708",
          "exception": false,
          "start_time": "2021-11-23T16:23:45.756500",
          "status": "completed"
        },
        "tags": [],
        "id": "f0c96f00",
        "outputId": "8a7b0eab-3518-4699-ae67-ea000c4fdb18",
        "colab": {
          "base_uri": "https://localhost:8080/"
        }
      },
      "outputs": [
        {
          "output_type": "execute_result",
          "data": {
            "text/plain": [
              "(12926, 14309)"
            ]
          },
          "metadata": {},
          "execution_count": 115
        }
      ],

      "source": [
        "interactions.shape"
      ]
    },
    {
      "cell_type": "markdown",
      "id": "39345bd5",
      "metadata": {
        "papermill": {
          "duration": 0.04147,
          "end_time": "2021-11-23T16:23:45.890960",
          "exception": false,
          "start_time": "2021-11-23T16:23:45.849490",
          "status": "completed"
        },
        "tags": [],
        "id": "39345bd5"
      },
      "source": [
        "### Create User Dict"
      ]
    },
    {
      "cell_type": "code",
      "execution_count": 116,
      "id": "8ad81203",
      "metadata": {
        "execution": {
          "iopub.execute_input": "2021-11-23T16:23:45.989556Z",
          "iopub.status.busy": "2021-11-23T16:23:45.988649Z",
          "iopub.status.idle": "2021-11-23T16:23:45.991378Z",
          "shell.execute_reply": "2021-11-23T16:23:45.990840Z",
          "shell.execute_reply.started": "2021-11-23T15:32:11.775763Z"
        },
        "papermill": {
          "duration": 0.057544,
          "end_time": "2021-11-23T16:23:45.991519",
          "exception": false,
          "start_time": "2021-11-23T16:23:45.933975",
          "status": "completed"
        },
        "tags": [],
        "id": "8ad81203"
      },
      "outputs": [],
      "source": [
        "user_dict = create_user_dict(interactions=interactions)"
      ]
    },
    {
      "cell_type": "markdown",
      "id": "4b182a12",
      "metadata": {
        "papermill": {
          "duration": 0.042769,
          "end_time": "2021-11-23T16:23:46.076829",
          "exception": false,
          "start_time": "2021-11-23T16:23:46.034060",
          "status": "completed"
        },
        "tags": [],
        "id": "4b182a12"
      },
      "source": [
        "### Create Item dict"
      ]
    },
    {
      "cell_type": "code",
      "execution_count": 117,
      "id": "fcaf2d3e",
      "metadata": {
        "execution": {
          "iopub.execute_input": "2021-11-23T16:23:46.167028Z",
          "iopub.status.busy": "2021-11-23T16:23:46.166331Z",
          "iopub.status.idle": "2021-11-23T16:23:46.539213Z",
          "shell.execute_reply": "2021-11-23T16:23:46.538633Z",
          "shell.execute_reply.started": "2021-11-23T15:32:11.7962Z"
        },
        "papermill": {
          "duration": 0.419356,
          "end_time": "2021-11-23T16:23:46.539401",
          "exception": false,
          "start_time": "2021-11-23T16:23:46.120045",
          "status": "completed"
        },
        "tags": [],
        "id": "fcaf2d3e"
      },
      "outputs": [],
      "source": [
        "artists_dict = create_item_dict(df = df_artist, id_col = 'artist_id', name_col = 'artist')"
      ]
    },
    {
      "cell_type": "markdown",
      "id": "4270a8ce",
      "metadata": {
        "papermill": {
          "duration": 0.041457,
          "end_time": "2021-11-23T16:23:46.622928",
          "exception": false,
          "start_time": "2021-11-23T16:23:46.581471",
          "status": "completed"
        },
        "tags": [],
        "id": "4270a8ce"
      },
      "source": [
        "### Train-Test split"
      ]
    },
    {
      "cell_type": "code",
      "execution_count": 118,
      "id": "ee8237df",
      "metadata": {
        "execution": {
          "iopub.execute_input": "2021-11-23T16:23:46.711372Z",
          "iopub.status.busy": "2021-11-23T16:23:46.710660Z",
          "iopub.status.idle": "2021-11-23T16:23:50.487662Z",
          "shell.execute_reply": "2021-11-23T16:23:50.487065Z",
          "shell.execute_reply.started": "2021-11-23T15:32:12.067871Z"
        },
        "papermill": {
          "duration": 3.823283,
          "end_time": "2021-11-23T16:23:50.487819",
          "exception": false,
          "start_time": "2021-11-23T16:23:46.664536",
          "status": "completed"
        },
        "tags": [],
        "id": "ee8237df"
      },
      "outputs": [],
      "source": [
        "x = sparse.csr_matrix(interactions.values)\n",
        "train, test = lightfm.cross_validation.random_train_test_split(x, test_percentage=0.2, random_state=None)"
      ]
    },
    {
      "cell_type": "markdown",
      "id": "fa57fd77",
      "metadata": {
        "papermill": {
          "duration": 0.041224,
          "end_time": "2021-11-23T16:23:50.570855",
          "exception": false,
          "start_time": "2021-11-23T16:23:50.529631",
          "status": "completed"
        },
        "tags": [],
        "id": "fa57fd77"
      },
      "source": [
        "<a id=\"subsection-3\"></a>\n",
        "## Matrix Factorization (MF) Model"
      ]
    },
    {
      "cell_type": "markdown",
      "id": "a2e62d5f",
      "metadata": {
        "papermill": {
          "duration": 0.041355,
          "end_time": "2021-11-23T16:23:50.736904",
          "exception": false,
          "start_time": "2021-11-23T16:23:50.695549",
          "status": "completed"
        },
        "tags": [],
        "id": "a2e62d5f"
      },
      "source": [
        "### Train the Matrix Factorization Model"
      ]
    },
    {
      "cell_type": "code",
      "execution_count": 119,
      "id": "c8b03cfc",
      "metadata": {
        "execution": {
          "iopub.execute_input": "2021-11-23T16:23:50.824662Z",
          "iopub.status.busy": "2021-11-23T16:23:50.823681Z",
          "iopub.status.idle": "2021-11-23T16:24:28.220276Z",
          "shell.execute_reply": "2021-11-23T16:24:28.220885Z",
          "shell.execute_reply.started": "2021-11-23T15:32:14.615825Z"
        },
        "papermill": {
          "duration": 37.441918,
          "end_time": "2021-11-23T16:24:28.221099",
          "exception": false,
          "start_time": "2021-11-23T16:23:50.779181",
          "status": "completed"
        },
        "tags": [],
        "id": "c8b03cfc",
        "outputId": "dc42afd9-8321-401b-e2cf-925b582ea18d",
        "colab": {
          "base_uri": "https://localhost:8080/"
        }
      },
      "outputs": [
        {
          "output_type": "stream",
          "name": "stdout",
          "text": [
            "CPU times: user 4 µs, sys: 0 ns, total: 4 µs\n",
            "Wall time: 8.34 µs\n"
          ]
        }
      ],
      "source": [
        "%time\n",
        "model = runMF(interactions = train,\n",
        "                 n_components = 30,\n",
        "                 loss = 'warp',\n",
        "                 k = 15,\n",
        "                 epoch = 30,\n",
        "                 n_jobs = 4)"
      ]
    },
    {
      "cell_type": "markdown",
      "id": "79af557e",
      "metadata": {
        "papermill": {
          "duration": 0.041793,
          "end_time": "2021-11-23T16:24:28.307274",
          "exception": false,
          "start_time": "2021-11-23T16:24:28.265481",
          "status": "completed"
        },
        "tags": [],
        "id": "79af557e"
      },
      "source": [
        "#### We can do hyper-parameter tuning for better results"
      ]
    },
    {
      "cell_type": "markdown",
      "id": "787a35c3",
      "metadata": {
        "papermill": {
          "duration": 0.041902,
          "end_time": "2021-11-23T16:24:28.391426",
          "exception": false,
          "start_time": "2021-11-23T16:24:28.349524",
          "status": "completed"
        },
        "tags": [],
        "id": "787a35c3"
      },
      "source": [
        "<a id=\"subsection-4\"></a>\n",
        "## Evaluation Metrics"
      ]
    },
    {
      "cell_type": "markdown",
      "id": "f71970b7",
      "metadata": {
        "papermill": {
          "duration": 0.041812,
          "end_time": "2021-11-23T16:24:28.475344",
          "exception": false,
          "start_time": "2021-11-23T16:24:28.433532",
          "status": "completed"
        },
        "tags": [],
        "id": "f71970b7"
      },
      "source": [
        " ### Compute AUC score for Train set"
      ]
    },
    {
      "cell_type": "code",
      "execution_count": 120,
      "id": "455a4495",
      "metadata": {
        "execution": {
          "iopub.execute_input": "2021-11-23T16:24:28.565020Z",
          "iopub.status.busy": "2021-11-23T16:24:28.564356Z",
          "iopub.status.idle": "2021-11-23T16:24:44.685628Z",
          "shell.execute_reply": "2021-11-23T16:24:44.686695Z",
          "shell.execute_reply.started": "2021-11-23T15:32:39.713393Z"
        },
        "papermill": {
          "duration": 16.16934,
          "end_time": "2021-11-23T16:24:44.686900",
          "exception": false,
          "start_time": "2021-11-23T16:24:28.517560",
          "status": "completed"
        },
        "tags": [],
        "id": "455a4495",
        "outputId": "3999ec2e-6c53-4f2a-a13e-bd8cb16d0cf7",
        "colab": {
          "base_uri": "https://localhost:8080/"
        }
      },
      "outputs": [
        {
          "output_type": "stream",
          "name": "stdout",
          "text": [
            "Train AUC: 0.9670417\n"
          ]
        }
      ],
      "source": [
        "train_auc = auc_score(model, train, num_threads=4).mean()\n",
        "print('Train AUC: %s' % train_auc)"
      ]
    },
    {
      "cell_type": "markdown",
      "id": "10ed428d",
      "metadata": {
        "papermill": {
          "duration": 0.042538,
          "end_time": "2021-11-23T16:24:44.772950",
          "exception": false,
          "start_time": "2021-11-23T16:24:44.730412",
          "status": "completed"
        },
        "tags": [],
        "id": "10ed428d"
      },
      "source": [
        "### Compute AUC score for Test set"
      ]
    },
    {
      "cell_type": "markdown",
      "id": "994cd277",
      "metadata": {
        "papermill": {
          "duration": 0.041803,
          "end_time": "2021-11-23T16:24:44.857344",
          "exception": false,
          "start_time": "2021-11-23T16:24:44.815541",
          "status": "completed"
        },
        "tags": [],
        "id": "994cd277"
      },
      "source": [
        "#### The parameter train_interactions allows us to exclude known positives in training set from the predicitons and score calculations.\n",
        "#### This is to avoid re-recommending the items the user has alreardy interacted with"
      ]
    },
    {
      "cell_type": "code",
      "execution_count": 121,
      "id": "56a5fe95",
      "metadata": {
        "execution": {
          "iopub.execute_input": "2021-11-23T16:24:44.947733Z",
          "iopub.status.busy": "2021-11-23T16:24:44.947013Z",
          "iopub.status.idle": "2021-11-23T16:24:52.015554Z",
          "shell.execute_reply": "2021-11-23T16:24:52.016554Z",
          "shell.execute_reply.started": "2021-11-23T15:32:48.08857Z"
        },
        "papermill": {
          "duration": 7.117099,
          "end_time": "2021-11-23T16:24:52.016759",
          "exception": false,
          "start_time": "2021-11-23T16:24:44.899660",
          "status": "completed"
        },
        "tags": [],
        "id": "56a5fe95",
        "outputId": "614afcc1-de5e-4ff4-9d79-305841bff8bd",
        "colab": {
          "base_uri": "https://localhost:8080/"
        }
      },
      "outputs": [
        {
          "output_type": "stream",
          "name": "stdout",
          "text": [
            "Test AUC: 0.9676474\n"
          ]
        }
      ],
      "source": [
        "test_auc = auc_score(model, test, train_interactions=train, num_threads=4).mean()\n",
        "print('Test AUC: %s' % test_auc)"
      ]
    },
    {
      "cell_type": "markdown",
      "id": "724d582c",
      "metadata": {
        "papermill": {
          "duration": 0.043021,
          "end_time": "2021-11-23T16:24:52.104747",
          "exception": false,
          "start_time": "2021-11-23T16:24:52.061726",
          "status": "completed"
        },
        "tags": [],
        "id": "724d582c"
      },
      "source": [
        "### Compute Precision scores\n",
        "#### Precision score is based on the number of positives items in the K highest ranked items."
      ]
    },
    {
      "cell_type": "code",
      "execution_count": 122,
      "id": "f89f77e7",
      "metadata": {
        "execution": {
          "iopub.execute_input": "2021-11-23T16:24:52.197980Z",
          "iopub.status.busy": "2021-11-23T16:24:52.197012Z",
          "iopub.status.idle": "2021-11-23T16:25:41.385513Z",
          "shell.execute_reply": "2021-11-23T16:25:41.384364Z",
          "shell.execute_reply.started": "2021-11-23T15:32:52.183014Z"
        },
        "papermill": {
          "duration": 49.237029,
          "end_time": "2021-11-23T16:25:41.385704",
          "exception": false,
          "start_time": "2021-11-23T16:24:52.148675",
          "status": "completed"
        },
        "tags": [],
        "id": "f89f77e7"
      },
      "outputs": [],
      "source": [
        "train_precision = precision_at_k(model, train, k=10).mean()\n",
        "test_precision = precision_at_k(model, test, k=10, train_interactions=train).mean()"
      ]
    },
    {
      "cell_type": "code",
      "execution_count": 123,
      "id": "ba1d0ddb",
      "metadata": {
        "execution": {
          "iopub.execute_input": "2021-11-23T16:25:41.474198Z",
          "iopub.status.busy": "2021-11-23T16:25:41.473519Z",
          "iopub.status.idle": "2021-11-23T16:25:41.477673Z",
          "shell.execute_reply": "2021-11-23T16:25:41.478141Z",
          "shell.execute_reply.started": "2021-11-23T15:33:17.3245Z"
        },
        "papermill": {
          "duration": 0.049812,
          "end_time": "2021-11-23T16:25:41.478307",
          "exception": false,
          "start_time": "2021-11-23T16:25:41.428495",
          "status": "completed"
        },
        "tags": [],

        "id": "ba1d0ddb",
        "outputId": "c0078f39-dd23-4601-b887-9444bce54446",
        "colab": {
          "base_uri": "https://localhost:8080/"
        }
      },
      "outputs": [
        {
          "output_type": "stream",
          "name": "stdout",
          "text": [
            "train Precision 0.40, test Precision 0.19.\n"
          ]
        }
      ],
      "source": [
        "print('train Precision %.2f, test Precision %.2f.' % (train_precision, test_precision))"
      ]
    },
    {
      "cell_type": "markdown",
      "id": "75fab676",
      "metadata": {
        "papermill": {
          "duration": 0.042422,
          "end_time": "2021-11-23T16:25:41.563551",
          "exception": false,
          "start_time": "2021-11-23T16:25:41.521129",
          "status": "completed"
        },
        "tags": [],
        "id": "75fab676"
      },
      "source": [
        "<a id=\"subsection-5\"></a>\n",
        "## Examples"
      ]
    },
    {
      "cell_type": "markdown",
      "id": "88bc8ac1",
      "metadata": {
        "papermill": {
          "duration": 0.042358,
          "end_time": "2021-11-23T16:25:41.648790",
          "exception": false,
          "start_time": "2021-11-23T16:25:41.606432",
          "status": "completed"
        },
        "tags": [],
        "id": "88bc8ac1"
      },
      "source": [
        "### Let's see some examples of recommendations:"
      ]
    },
    {
      "cell_type": "code",
      "execution_count": 124,
      "id": "9fc64e63",
      "metadata": {
        "execution": {
          "iopub.execute_input": "2021-11-23T16:25:41.738711Z",
          "iopub.status.busy": "2021-11-23T16:25:41.737742Z",
          "iopub.status.idle": "2021-11-23T16:25:41.762753Z",
          "shell.execute_reply": "2021-11-23T16:25:41.763416Z",
          "shell.execute_reply.started": "2021-11-23T15:33:17.332301Z"
        },
        "papermill": {
          "duration": 0.071838,
          "end_time": "2021-11-23T16:25:41.763597",
          "exception": false,
          "start_time": "2021-11-23T16:25:41.691759",
          "status": "completed"
        },
        "tags": [],
        "id": "9fc64e63",
        "outputId": "00771040-3987-42b9-c14a-800c7a8eb770",
        "colab": {
          "base_uri": "https://localhost:8080/"
        }
      },
      "outputs": [
        {
          "output_type": "stream",
          "name": "stdout",
          "text": [
            "Known Likes:\n",
            "1- Spector\n",
            "2- Miles Kane\n",
            "3- Lissie\n",
            "4- Crosby, Stills & Nash\n",
            "5- Noah And The Whale\n",
            "6- Noel Gallagher's High Flying Birds\n",
            "7- Elbow\n",
            "8- Joshua Radin\n",
            "9- Crowded House\n",
            "10- Biffy Clyro\n",
            "11- Madness\n",
            "12- Tom Petty And The Heartbreakers\n",
            "13- Oasis\n",
            "14- Elvis Costello & The Attractions\n",
            "15- Pearl Jam\n",
            "16- Bruce Springsteen\n",
            "17- Paul McCartney\n",
            "\n",
            " Recommended Items:\n",
            "1- Arctic Monkeys\n",
            "2- Coldplay\n",
            "3- Kings Of Leon\n",
            "4- The Rolling Stones\n",
            "5- Mumford & Sons\n",
            "6- U2\n",
            "7- David Bowie\n",
            "8- The Kooks\n",
            "9- The Cure\n",
            "10- Blur\n"
          ]
        }
      ],
      "source": [
        "rec_list = sample_recommendation_user(model = model,\n",
        "                                      interactions = interactions,\n",
        "                                      user_id = '9cc0cfd4d7d7885102480dd99e7a90d6',\n",
        "                                      user_dict = user_dict,\n",
        "                                      item_dict = artists_dict,\n",
        "                                      threshold = 0,\n",
        "                                      nrec_items = 10,\n",
        "                                      show = True)"
      ]
    },
    {
      "cell_type": "code",
      "execution_count": 125,
      "id": "f9835845",
      "metadata": {
        "execution": {
          "iopub.execute_input": "2021-11-23T16:25:41.855682Z",
          "iopub.status.busy": "2021-11-23T16:25:41.854981Z",
          "iopub.status.idle": "2021-11-23T16:25:41.876309Z",
          "shell.execute_reply": "2021-11-23T16:25:41.875700Z",
          "shell.execute_reply.started": "2021-11-23T16:06:39.477592Z"
        },
        "papermill": {
          "duration": 0.069421,
          "end_time": "2021-11-23T16:25:41.876461",
          "exception": false,
          "start_time": "2021-11-23T16:25:41.807040",
          "status": "completed"
        },
        "tags": [],

        "id": "f9835845",
        "outputId": "16d791dc-227e-41c7-c05c-7a38e59f90a6",
        "colab": {
          "base_uri": "https://localhost:8080/"
        }
      },
      "outputs": [
        {
          "output_type": "stream",
          "name": "stdout",
          "text": [
            "Known Likes:\n",
            "1- Nu Shooz\n",
            "2- Jean Knight\n",
            "3- The Contours\n",
            "4- Judy Collins\n",
            "5- The Whispers\n",
            "6- Sheila E.\n",
            "7- Tony! Toni! Toné!\n",
            "8- Delta Spirit\n",
            "9- Bill Withers\n",
            "10- Martha Reeves & The Vandellas\n",
            "11- Phosphorescent\n",
            "12- The New Pornographers\n",
            "13- The Hold Steady\n",
            "14- Maze\n",
            "15- Diana Ross\n",
            "16- George Benson\n",
            "17- Neko Case\n",
            "18- Ben Folds Five\n",
            "19- Regina Spektor\n",
            "20- REO Speedwagon\n",
            "21- Frankie Valli & The Four Seasons\n",
            "22- Otis Redding\n",
            "23- Earth, Wind & Fire\n",
            "24- Michael Jackson\n",
            "25- U2\n",
            "26- The Isley Brothers\n",
            "27- Bruce Springsteen\n",
            "28- Neil Young\n",
            "\n",
            " Recommended Items:\n",
            "1- Stevie Wonder\n",
            "2- Prince\n",
            "3- Marvin Gaye\n",
            "4- Al Green\n",
            "5- The Temptations\n",
            "6- Fleetwood Mac\n",
            "7- Smokey Robinson & The Miracles\n",
            "8- Jackson 5\n",
            "9- Aretha Franklin\n",
            "10- The Supremes\n"
          ]
        }
      ],

      "source": [
        "rec_list = sample_recommendation_user(model = model,\n",
        "                                      interactions = interactions,\n",
        "                                      user_id = 'ffe32d5412269f3041c58cbf0dde3306',\n",
        "                                      user_dict = user_dict,\n",
        "                                      item_dict = artists_dict,\n",
        "                                      threshold = 0,\n",
        "                                      nrec_items = 10,\n",
        "                                      show = True)"
      ]
    },
    {
      "cell_type": "markdown",
      "id": "91c82413",
      "metadata": {
        "id": "91c82413"
      },
      "source": [
        "Analysis and Visualization Tasks"
      ]
    },
    {
      "cell_type": "code",
      "execution_count": 126,
      "id": "e1986033",
      "metadata": {
        "id": "e1986033",
        "outputId": "43821058-f0da-472b-ba28-cc9019b22947",
        "colab": {
          "base_uri": "https://localhost:8080/"
        }
      },
      "outputs": [
        {
          "output_type": "stream",
          "name": "stdout",
          "text": [
            "count    12926.000000\n",
            "mean       409.248414\n",
            "std        995.111187\n",
            "min         10.000000\n",
            "25%         88.000000\n",
            "50%        221.000000\n",
            "75%        441.000000\n",
            "max      65430.000000\n",
            "dtype: float64\n"
          ]
        }
      ],
      "source": [
        "#TODO Create a histogram showing the distribution of the number of tracks added by each user.\n",
        "import matplotlib.pyplot as plt\n",
        "track_counts = df_playlist.groupby('user_id').size()\n",
        "print(track_counts.describe())  # Check the statistical summary"
      ]
    },
    {
      "cell_type": "code",
      "execution_count": 127,
      "id": "87f40a2e",
      "metadata": {
        "id": "87f40a2e",
        "outputId": "282f57df-ab62-4b74-a86d-2a08b2b70ecb",
        "colab": {
          "base_uri": "https://localhost:8080/",
          "height": 892
        }
      },
      "outputs": [
        {
          "output_type": "display_data",
          "data": {
            "text/plain": [
              "<Figure size 1000x1000 with 1 Axes>"
            ],
            "image/png": "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\n"
          },
          "metadata": {}
        }
      ],
      "source": [
        "#plotting a histogram with original data\n",
        "plt.figure(figsize=(10,10))\n",
        "plt.hist(track_counts, bins=50, color='skyblue')\n",
        "max_tracks = track_counts.max()\n",
        "plt.title('Distribution of Number of Tracks Added by Each User')\n",
        "plt.xlabel('Number of Tracks')\n",
        "plt.ylabel('Number of Users')\n",
        "plt.show()"
      ]
    },
    {
      "cell_type": "code",
      "execution_count": 128,
      "id": "52b8161c",
      "metadata": {
        "id": "52b8161c",
        "outputId": "36e5f864-9a08-4919-8f2e-e3edd3f320e4",
        "colab": {
          "base_uri": "https://localhost:8080/",
          "height": 584
        }
      },
      "outputs": [
        {
          "output_type": "display_data",
          "data": {
            "text/plain": [
              "<Figure size 1200x600 with 1 Axes>"
            ],
            "image/png": "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\n"
          },
          "metadata": {}
        }
      ],
      "source": [
        "#this graph shows that the data is skewed and thus we need to scale it thus used logarithmic scaling\n",
        "log_data = np.log10(track_counts)\n",
        "\n",
        "# Plot the histogram of the transformed data\n",
        "plt.figure(figsize=(12, 6))\n",
        "plt.hist(log_data, bins=50, color='skyblue', alpha=0.8)\n",
        "\n",
        "# Customize labels and title\n",
        "plt.title('Log-Transformed Histogram of Number of Tracks Added by Users')\n",
        "plt.xlabel('Log10(Number of Tracks)')\n",
        "plt.ylabel('Frequency')\n",
        "\n",
        "# Add gridlines for better readability\n",
        "plt.grid(axis='y', alpha=0.75)\n",
        "\n",
        "# Show the plot\n",
        "plt.show()"
      ]
    },
    {
      "cell_type": "code",
      "execution_count": 129,
      "id": "01f74789",
      "metadata": {
        "id": "01f74789",
        "outputId": "c5b3006c-6ba4-4f13-c17d-674b676d7960",
        "colab": {
          "base_uri": "https://localhost:8080/",
          "height": 552
        }
      },
      "outputs": [
        {
          "output_type": "error",
          "ename": "KeyError",
          "evalue": "'artistname'",
          "traceback": [
            "\u001b[0;31m---------------------------------------------------------------------------\u001b[0m",
            "\u001b[0;31mKeyError\u001b[0m                                  Traceback (most recent call last)",
            "\u001b[0;32m/usr/local/lib/python3.11/dist-packages/pandas/core/indexes/base.py\u001b[0m in \u001b[0;36mget_loc\u001b[0;34m(self, key)\u001b[0m\n\u001b[1;32m   3804\u001b[0m         \u001b[0;32mtry\u001b[0m\u001b[0;34m:\u001b[0m\u001b[0;34m\u001b[0m\u001b[0;34m\u001b[0m\u001b[0m\n\u001b[0;32m-> 3805\u001b[0;31m             \u001b[0;32mreturn\u001b[0m \u001b[0mself\u001b[0m\u001b[0;34m.\u001b[0m\u001b[0m_engine\u001b[0m\u001b[0;34m.\u001b[0m\u001b[0mget_loc\u001b[0m\u001b[0;34m(\u001b[0m\u001b[0mcasted_key\u001b[0m\u001b[0;34m)\u001b[0m\u001b[0;34m\u001b[0m\u001b[0;34m\u001b[0m\u001b[0m\n\u001b[0m\u001b[1;32m   3806\u001b[0m         \u001b[0;32mexcept\u001b[0m \u001b[0mKeyError\u001b[0m \u001b[0;32mas\u001b[0m \u001b[0merr\u001b[0m\u001b[0;34m:\u001b[0m\u001b[0;34m\u001b[0m\u001b[0;34m\u001b[0m\u001b[0m\n",
            "\u001b[0;32mindex.pyx\u001b[0m in \u001b[0;36mpandas._libs.index.IndexEngine.get_loc\u001b[0;34m()\u001b[0m\n",
            "\u001b[0;32mindex.pyx\u001b[0m in \u001b[0;36mpandas._libs.index.IndexEngine.get_loc\u001b[0;34m()\u001b[0m\n",
            "\u001b[0;32mpandas/_libs/hashtable_class_helper.pxi\u001b[0m in \u001b[0;36mpandas._libs.hashtable.PyObjectHashTable.get_item\u001b[0;34m()\u001b[0m\n",
            "\u001b[0;32mpandas/_libs/hashtable_class_helper.pxi\u001b[0m in \u001b[0;36mpandas._libs.hashtable.PyObjectHashTable.get_item\u001b[0;34m()\u001b[0m\n",
            "\u001b[0;31mKeyError\u001b[0m: 'artistname'",
            "\nThe above exception was the direct cause of the following exception:\n",
            "\u001b[0;31mKeyError\u001b[0m                                  Traceback (most recent call last)",
            "\u001b[0;32m<ipython-input-129-1406e92cdde5>\u001b[0m in \u001b[0;36m<cell line: 0>\u001b[0;34m()\u001b[0m\n\u001b[1;32m      3\u001b[0m \u001b[0;32mimport\u001b[0m \u001b[0mmatplotlib\u001b[0m \u001b[0;32mas\u001b[0m \u001b[0mplt\u001b[0m\u001b[0;34m\u001b[0m\u001b[0;34m\u001b[0m\u001b[0m\n\u001b[1;32m      4\u001b[0m \u001b[0;34m\u001b[0m\u001b[0m\n\u001b[0;32m----> 5\u001b[0;31m \u001b[0martist_counts\u001b[0m \u001b[0;34m=\u001b[0m \u001b[0mdf_playlist\u001b[0m\u001b[0;34m[\u001b[0m\u001b[0;34m'artistname'\u001b[0m\u001b[0;34m]\u001b[0m\u001b[0;34m.\u001b[0m\u001b[0mvalue_counts\u001b[0m\u001b[0;34m(\u001b[0m\u001b[0;34m)\u001b[0m\u001b[0;34m\u001b[0m\u001b[0;34m\u001b[0m\u001b[0m\n\u001b[0m\u001b[1;32m      6\u001b[0m \u001b[0;34m\u001b[0m\u001b[0m\n\u001b[1;32m      7\u001b[0m \u001b[0;31m# Get the top 10 artists\u001b[0m\u001b[0;34m\u001b[0m\u001b[0;34m\u001b[0m\u001b[0m\n",
            "\u001b[0;32m/usr/local/lib/python3.11/dist-packages/pandas/core/frame.py\u001b[0m in \u001b[0;36m__getitem__\u001b[0;34m(self, key)\u001b[0m\n\u001b[1;32m   4100\u001b[0m             \u001b[0;32mif\u001b[0m \u001b[0mself\u001b[0m\u001b[0;34m.\u001b[0m\u001b[0mcolumns\u001b[0m\u001b[0;34m.\u001b[0m\u001b[0mnlevels\u001b[0m \u001b[0;34m>\u001b[0m \u001b[0;36m1\u001b[0m\u001b[0;34m:\u001b[0m\u001b[0;34m\u001b[0m\u001b[0;34m\u001b[0m\u001b[0m\n\u001b[1;32m   4101\u001b[0m                 \u001b[0;32mreturn\u001b[0m \u001b[0mself\u001b[0m\u001b[0;34m.\u001b[0m\u001b[0m_getitem_multilevel\u001b[0m\u001b[0;34m(\u001b[0m\u001b[0mkey\u001b[0m\u001b[0;34m)\u001b[0m\u001b[0;34m\u001b[0m\u001b[0;34m\u001b[0m\u001b[0m\n\u001b[0;32m-> 4102\u001b[0;31m             \u001b[0mindexer\u001b[0m \u001b[0;34m=\u001b[0m \u001b[0mself\u001b[0m\u001b[0;34m.\u001b[0m\u001b[0mcolumns\u001b[0m\u001b[0;34m.\u001b[0m\u001b[0mget_loc\u001b[0m\u001b[0;34m(\u001b[0m\u001b[0mkey\u001b[0m\u001b[0;34m)\u001b[0m\u001b[0;34m\u001b[0m\u001b[0;34m\u001b[0m\u001b[0m\n\u001b[0m\u001b[1;32m   4103\u001b[0m             \u001b[0;32mif\u001b[0m \u001b[0mis_integer\u001b[0m\u001b[0;34m(\u001b[0m\u001b[0mindexer\u001b[0m\u001b[0;34m)\u001b[0m\u001b[0;34m:\u001b[0m\u001b[0;34m\u001b[0m\u001b[0;34m\u001b[0m\u001b[0m\n\u001b[1;32m   4104\u001b[0m                 \u001b[0mindexer\u001b[0m \u001b[0;34m=\u001b[0m \u001b[0;34m[\u001b[0m\u001b[0mindexer\u001b[0m\u001b[0;34m]\u001b[0m\u001b[0;34m\u001b[0m\u001b[0;34m\u001b[0m\u001b[0m\n",
            "\u001b[0;32m/usr/local/lib/python3.11/dist-packages/pandas/core/indexes/base.py\u001b[0m in \u001b[0;36mget_loc\u001b[0;34m(self, key)\u001b[0m\n\u001b[1;32m   3810\u001b[0m             ):\n\u001b[1;32m   3811\u001b[0m                 \u001b[0;32mraise\u001b[0m \u001b[0mInvalidIndexError\u001b[0m\u001b[0;34m(\u001b[0m\u001b[0mkey\u001b[0m\u001b[0;34m)\u001b[0m\u001b[0;34m\u001b[0m\u001b[0;34m\u001b[0m\u001b[0m\n\u001b[0;32m-> 3812\u001b[0;31m             \u001b[0;32mraise\u001b[0m \u001b[0mKeyError\u001b[0m\u001b[0;34m(\u001b[0m\u001b[0mkey\u001b[0m\u001b[0;34m)\u001b[0m \u001b[0;32mfrom\u001b[0m \u001b[0merr\u001b[0m\u001b[0;34m\u001b[0m\u001b[0;34m\u001b[0m\u001b[0m\n\u001b[0m\u001b[1;32m   3813\u001b[0m         \u001b[0;32mexcept\u001b[0m \u001b[0mTypeError\u001b[0m\u001b[0;34m:\u001b[0m\u001b[0;34m\u001b[0m\u001b[0;34m\u001b[0m\u001b[0m\n\u001b[1;32m   3814\u001b[0m             \u001b[0;31m# If we have a listlike key, _check_indexing_error will raise\u001b[0m\u001b[0;34m\u001b[0m\u001b[0;34m\u001b[0m\u001b[0m\n",
            "\u001b[0;31mKeyError\u001b[0m: 'artistname'"
          ]
        }
      ],
      "source": [
        "#TODO Create a bar plot showing the top 10 most popular artists based on the number of times they appear in playlists.\n",
        "\n",
        "import matplotlib as plt\n",
        "\n",
        "artist_counts = df_playlist['artistname'].value_counts()\n",
        "\n",
        "# Get the top 10 artists\n",
        "top_artists = artist_counts.head(10)\n",
        "\n",
        "# Plot the data\n",
        "plt.figure(figsize=(10, 6))\n",
        "top_artists.plot(kind='bar', color='skyblue', edgecolor='black')\n",
        "\n",
        "plt.title('Top 10 Most Popular Artists Based on Playlist Appearances', fontsize=14)\n",
        "plt.xlabel('Artist Name', fontsize=12)\n",
        "plt.ylabel('Number of Appearances', fontsize=12)\n",
        "plt.xticks(rotation=45, ha='right', fontsize=10)\n",
        "plt.grid(axis='y', linestyle='--', alpha=0.7)\n",
        "\n",
        "# Show the plot\n",
        "plt.tight_layout()\n",
        "plt.show()"
      ]
    },
    {
      "cell_type": "code",
      "execution_count": null,
      "id": "4ee94a24",
      "metadata": {
        "id": "4ee94a24"
      },
      "outputs": [],
      "source": [
        "#TODO Create a bar plot showing the top 10 most popular tracks based on frequency in playlists.\n",
        "\n",
        "track_counts = df_playlist['trackname'].value_counts()\n",
        "\n",
        "# Get the top 10 tracks\n",
        "top_tracks = track_counts.head(10)\n",
        "\n",
        "# Plot the data\n",
        "plt.figure(figsize=(10, 6))\n",
        "top_tracks.plot(kind='bar', color='orange', edgecolor='black')\n",
        "\n",
        "plt.title('Top 10 Most Popular Tracks Based on Playlist Appearances', fontsize=14)\n",
        "plt.xlabel('Track Name', fontsize=12)\n",
        "plt.ylabel('Number of Appearances', fontsize=12)\n",
        "plt.grid(axis='y', linestyle='--', alpha=0.7)\n",
        "\n",
        "# Show the plot\n",
        "plt.tight_layout()\n",
        "plt.show()"
      ]
    },
    {
      "cell_type": "code",
      "execution_count": null,
      "id": "39d647f9",
      "metadata": {
        "id": "39d647f9"
      },
      "outputs": [],
      "source": [
        "#TODO Create a visualization showing the number of unique artists in each playlist.\n",
        "import matplotlib.pyplot as plt\n",
        "\n",
        "# Count unique artists per playlist\n",
        "unique_artists_per_playlist = df_playlist.groupby('playlist')['artist'].nunique()\n",
        "\n",
        "# Plot the data\n",
        "plt.figure(figsize=(20, 8))\n",
        "unique_artists_per_playlist.sort_values(ascending=False).head(50).plot(kind='bar', color='purple', edgecolor='black')\n",
        "\n",
        "plt.title('Playlists with Most Unique Artists', fontsize=14)\n",
        "plt.xlabel('Playlist Name', fontsize=12)\n",
        "plt.ylabel('Number of Unique Artists', fontsize=12)\n",
        "plt.xticks(rotation=45, ha='right', fontsize=10)\n",
        "plt.grid(axis='y', linestyle='--', alpha=0.7)\n",
        "\n",
        "# Show the plot\n",
        "plt.tight_layout()\n",
        "plt.show()\n"
      ]
    },
    {
      "cell_type": "code",
      "execution_count": null,
      "id": "23e55fa6",
      "metadata": {
        "id": "23e55fa6"
      },
      "outputs": [],
      "source": [
        "#TODO Create a heatmap or pivot table showing the relationship between playlists and their most commonly added tracks."
      ]
    },
    {
      "cell_type": "code",
      "execution_count": null,
      "id": "d5e331d8",
      "metadata": {
        "id": "d5e331d8"
      },
      "outputs": [],
      "source": [
        "#TODO Display a summary of the dataset, including total users, artists, tracks, and playlists."
      ]
    },
    {
      "cell_type": "code",
      "execution_count": null,
      "id": "a52f9d07",
      "metadata": {
        "id": "a52f9d07"
      },
      "outputs": [],
      "source": [
        "#TODO Display a summary of the dataset, including total users, artists, tracks, and playlists."
      ]
    },
    {
      "cell_type": "code",
      "execution_count": null,
      "id": "80a0a520",
      "metadata": {
        "id": "80a0a520"
      },
      "outputs": [],
      "source": [
        "#TODO Check for and handle missing values in the dataset."
      ]
    },
    {
      "cell_type": "code",
      "execution_count": null,
      "id": "f6e8313c",
      "metadata": {
        "id": "f6e8313c"
      },
      "outputs": [],
      "source": [
        "#TODO Add a markdown cell explaining collaborative filtering concepts in simple terms with examples."
      ]
    },
    {
      "cell_type": "code",
      "source": [
        "#TODO Compare multiple evaluation metrics (e.g., precision, recall, and F1-score) in a single table or plot.\n",
        "!pip install lightfm scikit-learn\n",
        "from lightfm.evaluation import precision_at_k, recall_at_k, auc_score\n",
        "from sklearn.metrics import f1_score\n",
        "import pandas as pd\n"
      ],
      "metadata": {
        "id": "Yygn-CU-ja8E",
        "outputId": "0b363ec6-13f7-4543-e693-0ee636b892dd",
        "colab": {
          "base_uri": "https://localhost:8080/"
        }
      },
      "id": "Yygn-CU-ja8E",
      "execution_count": 86,
      "outputs": [
        {
          "output_type": "stream",
          "name": "stdout",
          "text": [
            "Requirement already satisfied: lightfm in /usr/local/lib/python3.11/dist-packages (1.17)\n",
            "Requirement already satisfied: scikit-learn in /usr/local/lib/python3.11/dist-packages (1.6.1)\n",
            "Requirement already satisfied: numpy in /usr/local/lib/python3.11/dist-packages (from lightfm) (1.26.4)\n",
            "Requirement already satisfied: scipy>=0.17.0 in /usr/local/lib/python3.11/dist-packages (from lightfm) (1.13.1)\n",
            "Requirement already satisfied: requests in /usr/local/lib/python3.11/dist-packages (from lightfm) (2.32.3)\n",
            "Requirement already satisfied: joblib>=1.2.0 in /usr/local/lib/python3.11/dist-packages (from scikit-learn) (1.4.2)\n",
            "Requirement already satisfied: threadpoolctl>=3.1.0 in /usr/local/lib/python3.11/dist-packages (from scikit-learn) (3.5.0)\n",
            "Requirement already satisfied: charset-normalizer<4,>=2 in /usr/local/lib/python3.11/dist-packages (from requests->lightfm) (3.4.1)\n",
            "Requirement already satisfied: idna<4,>=2.5 in /usr/local/lib/python3.11/dist-packages (from requests->lightfm) (3.10)\n",
            "Requirement already satisfied: urllib3<3,>=1.21.1 in /usr/local/lib/python3.11/dist-packages (from requests->lightfm) (2.3.0)\n",
            "Requirement already satisfied: certifi>=2017.4.17 in /usr/local/lib/python3.11/dist-packages (from requests->lightfm) (2024.12.14)\n"
          ]
        }
      ]
    },
    {
      "cell_type": "code",
      "source": [
        "#TODO Compare multiple evaluation metrics (e.g., precision, recall, and F1-score) in a single table or plot.\n",
        "\n",
        "# Calculate recall at k for train and test sets\n",
        "train_recall = recall_at_k(model, train, k=10).mean()\n",
        "test_recall = recall_at_k(model, test, k=10, train_interactions=train).mean()\n",
        "\n",
        "# Since LightFM doesn't directly provide F1-score, we need to get predictions first\n",
        "# and then use sklearn's f1_score. This is a simplified approach for demonstration.\n",
        "# In real-world scenarios, you'd need to carefully consider the threshold for binary classification.\n",
        "\n",
        "# Get predictions for train and test sets\n",
        "train_predictions = model.predict(train.row, train.col)\n",
        "test_predictions = model.predict(test.row, test.col)\n",
        "\n",
        "# Assume a threshold of 0 to convert predictions to binary (0 or 1)\n",
        "train_predictions_binary = (train_predictions > 0).astype(int)\n",
        "test_predictions_binary = (test_predictions > 0).astype(int)\n",
        "\n",
        "# Calculate F1-score for train and test sets\n",
        "# Note: We're using micro averaging here. Explore other options if needed.\n",
        "train_f1 = f1_score(train.data, train_predictions_binary, average='micro')\n",
        "test_f1 = f1_score(test.data, test_predictions_binary, average='micro')\n",
        "\n",
        "# Create a comparison table\n",
        "data = {'Metric': ['Precision', 'Recall', 'F1-Score', 'AUC'],\n",
        "        'Train': [train_precision, train_recall, train_f1, train_auc],\n",
        "        'Test': [test_precision, test_recall, test_f1, test_auc]}\n",
        "df_metrics = pd.DataFrame(data)\n",
        "\n",
        "# Display the table\n",
        "display(df_metrics)"
      ],
      "metadata": {
        "id": "tK12BodYjD96",
        "outputId": "381af0a9-9383-43c8-b7b2-d54b87e4f5c2",
        "colab": {
          "base_uri": "https://localhost:8080/",
          "height": 175
        }
      },
      "id": "tK12BodYjD96",
      "execution_count": 87,
      "outputs": [
        {
          "output_type": "display_data",
          "data": {
            "text/plain": [
              "      Metric     Train      Test\n",
              "0  Precision  0.592627  0.398131\n",
              "1     Recall  0.227049  0.484685\n",
              "2   F1-Score  0.039936  0.043005\n",
              "3        AUC  0.941143  0.956639"
            ],
            "text/html": [
              "\n",
              "  <div id=\"df-017523f0-c096-49b2-b8ac-fbb408a24c70\" class=\"colab-df-container\">\n",
              "    <div>\n",
              "<style scoped>\n",
              "    .dataframe tbody tr th:only-of-type {\n",
              "        vertical-align: middle;\n",
              "    }\n",
              "\n",
              "    .dataframe tbody tr th {\n",
              "        vertical-align: top;\n",
              "    }\n",
              "\n",
              "    .dataframe thead th {\n",
              "        text-align: right;\n",
              "    }\n",
              "</style>\n",
              "<table border=\"1\" class=\"dataframe\">\n",
              "  <thead>\n",
              "    <tr style=\"text-align: right;\">\n",
              "      <th></th>\n",
              "      <th>Metric</th>\n",
              "      <th>Train</th>\n",
              "      <th>Test</th>\n",
              "    </tr>\n",
              "  </thead>\n",
              "  <tbody>\n",
              "    <tr>\n",
              "      <th>0</th>\n",
              "      <td>Precision</td>\n",
              "      <td>0.592627</td>\n",
              "      <td>0.398131</td>\n",
              "    </tr>\n",
              "    <tr>\n",
              "      <th>1</th>\n",
              "      <td>Recall</td>\n",
              "      <td>0.227049</td>\n",
              "      <td>0.484685</td>\n",
              "    </tr>\n",
              "    <tr>\n",
              "      <th>2</th>\n",
              "      <td>F1-Score</td>\n",
              "      <td>0.039936</td>\n",
              "      <td>0.043005</td>\n",
              "    </tr>\n",
              "    <tr>\n",
              "      <th>3</th>\n",
              "      <td>AUC</td>\n",
              "      <td>0.941143</td>\n",
              "      <td>0.956639</td>\n",
              "    </tr>\n",
              "  </tbody>\n",
              "</table>\n",
              "</div>\n",
              "    <div class=\"colab-df-buttons\">\n",
              "\n",
              "  <div class=\"colab-df-container\">\n",
              "    <button class=\"colab-df-convert\" onclick=\"convertToInteractive('df-017523f0-c096-49b2-b8ac-fbb408a24c70')\"\n",
              "            title=\"Convert this dataframe to an interactive table.\"\n",
              "            style=\"display:none;\">\n",
              "\n",
              "  <svg xmlns=\"http://www.w3.org/2000/svg\" height=\"24px\" viewBox=\"0 -960 960 960\">\n",
              "    <path d=\"M120-120v-720h720v720H120Zm60-500h600v-160H180v160Zm220 220h160v-160H400v160Zm0 220h160v-160H400v160ZM180-400h160v-160H180v160Zm440 0h160v-160H620v160ZM180-180h160v-160H180v160Zm440 0h160v-160H620v160Z\"/>\n",
              "  </svg>\n",
              "    </button>\n",
              "\n",
              "  <style>\n",
              "    .colab-df-container {\n",
              "      display:flex;\n",
              "      gap: 12px;\n",
              "    }\n",
              "\n",
              "    .colab-df-convert {\n",
              "      background-color: #E8F0FE;\n",
              "      border: none;\n",
              "      border-radius: 50%;\n",
              "      cursor: pointer;\n",
              "      display: none;\n",
              "      fill: #1967D2;\n",
              "      height: 32px;\n",
              "      padding: 0 0 0 0;\n",
              "      width: 32px;\n",
              "    }\n",
              "\n",
              "    .colab-df-convert:hover {\n",
              "      background-color: #E2EBFA;\n",
              "      box-shadow: 0px 1px 2px rgba(60, 64, 67, 0.3), 0px 1px 3px 1px rgba(60, 64, 67, 0.15);\n",
              "      fill: #174EA6;\n",
              "    }\n",
              "\n",
              "    .colab-df-buttons div {\n",
              "      margin-bottom: 4px;\n",
              "    }\n",
              "\n",
              "    [theme=dark] .colab-df-convert {\n",
              "      background-color: #3B4455;\n",
              "      fill: #D2E3FC;\n",
              "    }\n",
              "\n",
              "    [theme=dark] .colab-df-convert:hover {\n",
              "      background-color: #434B5C;\n",
              "      box-shadow: 0px 1px 3px 1px rgba(0, 0, 0, 0.15);\n",
              "      filter: drop-shadow(0px 1px 2px rgba(0, 0, 0, 0.3));\n",
              "      fill: #FFFFFF;\n",
              "    }\n",
              "  </style>\n",
              "\n",
              "    <script>\n",
              "      const buttonEl =\n",
              "        document.querySelector('#df-017523f0-c096-49b2-b8ac-fbb408a24c70 button.colab-df-convert');\n",
              "      buttonEl.style.display =\n",
              "        google.colab.kernel.accessAllowed ? 'block' : 'none';\n",
              "\n",
              "      async function convertToInteractive(key) {\n",
              "        const element = document.querySelector('#df-017523f0-c096-49b2-b8ac-fbb408a24c70');\n",
              "        const dataTable =\n",
              "          await google.colab.kernel.invokeFunction('convertToInteractive',\n",
              "                                                    [key], {});\n",
              "        if (!dataTable) return;\n",
              "\n",
              "        const docLinkHtml = 'Like what you see? Visit the ' +\n",
              "          '<a target=\"_blank\" href=https://colab.research.google.com/notebooks/data_table.ipynb>data table notebook</a>'\n",
              "          + ' to learn more about interactive tables.';\n",
              "        element.innerHTML = '';\n",
              "        dataTable['output_type'] = 'display_data';\n",
              "        await google.colab.output.renderOutput(dataTable, element);\n",
              "        const docLink = document.createElement('div');\n",
              "        docLink.innerHTML = docLinkHtml;\n",
              "        element.appendChild(docLink);\n",
              "      }\n",
              "    </script>\n",
              "  </div>\n",
              "\n",
              "\n",
              "<div id=\"df-4383dbc0-2d0d-463f-ac60-43730a3c4b17\">\n",
              "  <button class=\"colab-df-quickchart\" onclick=\"quickchart('df-4383dbc0-2d0d-463f-ac60-43730a3c4b17')\"\n",
              "            title=\"Suggest charts\"\n",
              "            style=\"display:none;\">\n",
              "\n",
              "<svg xmlns=\"http://www.w3.org/2000/svg\" height=\"24px\"viewBox=\"0 0 24 24\"\n",
              "     width=\"24px\">\n",
              "    <g>\n",
              "        <path d=\"M19 3H5c-1.1 0-2 .9-2 2v14c0 1.1.9 2 2 2h14c1.1 0 2-.9 2-2V5c0-1.1-.9-2-2-2zM9 17H7v-7h2v7zm4 0h-2V7h2v10zm4 0h-2v-4h2v4z\"/>\n",
              "    </g>\n",
              "</svg>\n",
              "  </button>\n",
              "\n",
              "<style>\n",
              "  .colab-df-quickchart {\n",
              "      --bg-color: #E8F0FE;\n",
              "      --fill-color: #1967D2;\n",
              "      --hover-bg-color: #E2EBFA;\n",
              "      --hover-fill-color: #174EA6;\n",
              "      --disabled-fill-color: #AAA;\n",
              "      --disabled-bg-color: #DDD;\n",
              "  }\n",
              "\n",
              "  [theme=dark] .colab-df-quickchart {\n",
              "      --bg-color: #3B4455;\n",
              "      --fill-color: #D2E3FC;\n",
              "      --hover-bg-color: #434B5C;\n",
              "      --hover-fill-color: #FFFFFF;\n",
              "      --disabled-bg-color: #3B4455;\n",
              "      --disabled-fill-color: #666;\n",
              "  }\n",
              "\n",
              "  .colab-df-quickchart {\n",
              "    background-color: var(--bg-color);\n",
              "    border: none;\n",
              "    border-radius: 50%;\n",
              "    cursor: pointer;\n",
              "    display: none;\n",
              "    fill: var(--fill-color);\n",
              "    height: 32px;\n",
              "    padding: 0;\n",
              "    width: 32px;\n",
              "  }\n",
              "\n",
              "  .colab-df-quickchart:hover {\n",
              "    background-color: var(--hover-bg-color);\n",
              "    box-shadow: 0 1px 2px rgba(60, 64, 67, 0.3), 0 1px 3px 1px rgba(60, 64, 67, 0.15);\n",
              "    fill: var(--button-hover-fill-color);\n",
              "  }\n",
              "\n",
              "  .colab-df-quickchart-complete:disabled,\n",
              "  .colab-df-quickchart-complete:disabled:hover {\n",
              "    background-color: var(--disabled-bg-color);\n",
              "    fill: var(--disabled-fill-color);\n",
              "    box-shadow: none;\n",
              "  }\n",
              "\n",
              "  .colab-df-spinner {\n",
              "    border: 2px solid var(--fill-color);\n",
              "    border-color: transparent;\n",
              "    border-bottom-color: var(--fill-color);\n",
              "    animation:\n",
              "      spin 1s steps(1) infinite;\n",
              "  }\n",
              "\n",
              "  @keyframes spin {\n",
              "    0% {\n",
              "      border-color: transparent;\n",
              "      border-bottom-color: var(--fill-color);\n",
              "      border-left-color: var(--fill-color);\n",
              "    }\n",
              "    20% {\n",
              "      border-color: transparent;\n",
              "      border-left-color: var(--fill-color);\n",
              "      border-top-color: var(--fill-color);\n",
              "    }\n",
              "    30% {\n",
              "      border-color: transparent;\n",
              "      border-left-color: var(--fill-color);\n",
              "      border-top-color: var(--fill-color);\n",
              "      border-right-color: var(--fill-color);\n",
              "    }\n",
              "    40% {\n",
              "      border-color: transparent;\n",
              "      border-right-color: var(--fill-color);\n",
              "      border-top-color: var(--fill-color);\n",
              "    }\n",
              "    60% {\n",
              "      border-color: transparent;\n",
              "      border-right-color: var(--fill-color);\n",
              "    }\n",
              "    80% {\n",
              "      border-color: transparent;\n",
              "      border-right-color: var(--fill-color);\n",
              "      border-bottom-color: var(--fill-color);\n",
              "    }\n",
              "    90% {\n",
              "      border-color: transparent;\n",
              "      border-bottom-color: var(--fill-color);\n",
              "    }\n",
              "  }\n",
              "</style>\n",
              "\n",
              "  <script>\n",
              "    async function quickchart(key) {\n",
              "      const quickchartButtonEl =\n",
              "        document.querySelector('#' + key + ' button');\n",
              "      quickchartButtonEl.disabled = true;  // To prevent multiple clicks.\n",
              "      quickchartButtonEl.classList.add('colab-df-spinner');\n",
              "      try {\n",
              "        const charts = await google.colab.kernel.invokeFunction(\n",
              "            'suggestCharts', [key], {});\n",
              "      } catch (error) {\n",
              "        console.error('Error during call to suggestCharts:', error);\n",
              "      }\n",
              "      quickchartButtonEl.classList.remove('colab-df-spinner');\n",
              "      quickchartButtonEl.classList.add('colab-df-quickchart-complete');\n",
              "    }\n",
              "    (() => {\n",
              "      let quickchartButtonEl =\n",
              "        document.querySelector('#df-4383dbc0-2d0d-463f-ac60-43730a3c4b17 button');\n",
              "      quickchartButtonEl.style.display =\n",
              "        google.colab.kernel.accessAllowed ? 'block' : 'none';\n",
              "    })();\n",
              "  </script>\n",
              "</div>\n",
              "\n",
              "  <div id=\"id_d6d7e246-ec87-4e64-9e0b-99146102ac38\">\n",
              "    <style>\n",
              "      .colab-df-generate {\n",
              "        background-color: #E8F0FE;\n",
              "        border: none;\n",
              "        border-radius: 50%;\n",
              "        cursor: pointer;\n",
              "        display: none;\n",
              "        fill: #1967D2;\n",
              "        height: 32px;\n",
              "        padding: 0 0 0 0;\n",
              "        width: 32px;\n",
              "      }\n",
              "\n",
              "      .colab-df-generate:hover {\n",
              "        background-color: #E2EBFA;\n",
              "        box-shadow: 0px 1px 2px rgba(60, 64, 67, 0.3), 0px 1px 3px 1px rgba(60, 64, 67, 0.15);\n",
              "        fill: #174EA6;\n",
              "      }\n",
              "\n",
              "      [theme=dark] .colab-df-generate {\n",
              "        background-color: #3B4455;\n",
              "        fill: #D2E3FC;\n",
              "      }\n",
              "\n",
              "      [theme=dark] .colab-df-generate:hover {\n",
              "        background-color: #434B5C;\n",
              "        box-shadow: 0px 1px 3px 1px rgba(0, 0, 0, 0.15);\n",
              "        filter: drop-shadow(0px 1px 2px rgba(0, 0, 0, 0.3));\n",
              "        fill: #FFFFFF;\n",
              "      }\n",
              "    </style>\n",
              "    <button class=\"colab-df-generate\" onclick=\"generateWithVariable('df_metrics')\"\n",
              "            title=\"Generate code using this dataframe.\"\n",
              "            style=\"display:none;\">\n",
              "\n",
              "  <svg xmlns=\"http://www.w3.org/2000/svg\" height=\"24px\"viewBox=\"0 0 24 24\"\n",
              "       width=\"24px\">\n",
              "    <path d=\"M7,19H8.4L18.45,9,17,7.55,7,17.6ZM5,21V16.75L18.45,3.32a2,2,0,0,1,2.83,0l1.4,1.43a1.91,1.91,0,0,1,.58,1.4,1.91,1.91,0,0,1-.58,1.4L9.25,21ZM18.45,9,17,7.55Zm-12,3A5.31,5.31,0,0,0,4.9,8.1,5.31,5.31,0,0,0,1,6.5,5.31,5.31,0,0,0,4.9,4.9,5.31,5.31,0,0,0,6.5,1,5.31,5.31,0,0,0,8.1,4.9,5.31,5.31,0,0,0,12,6.5,5.46,5.46,0,0,0,6.5,12Z\"/>\n",
              "  </svg>\n",
              "    </button>\n",
              "    <script>\n",
              "      (() => {\n",
              "      const buttonEl =\n",
              "        document.querySelector('#id_d6d7e246-ec87-4e64-9e0b-99146102ac38 button.colab-df-generate');\n",
              "      buttonEl.style.display =\n",
              "        google.colab.kernel.accessAllowed ? 'block' : 'none';\n",
              "\n",
              "      buttonEl.onclick = () => {\n",
              "        google.colab.notebook.generateWithVariable('df_metrics');\n",
              "      }\n",
              "      })();\n",
              "    </script>\n",
              "  </div>\n",
              "\n",
              "    </div>\n",
              "  </div>\n"
            ],
            "application/vnd.google.colaboratory.intrinsic+json": {
              "type": "dataframe",
              "variable_name": "df_metrics",
              "summary": "{\n  \"name\": \"df_metrics\",\n  \"rows\": 4,\n  \"fields\": [\n    {\n      \"column\": \"Metric\",\n      \"properties\": {\n        \"dtype\": \"string\",\n        \"num_unique_values\": 4,\n        \"samples\": [\n          \"Recall\",\n          \"AUC\",\n          \"Precision\"\n        ],\n        \"semantic_type\": \"\",\n        \"description\": \"\"\n      }\n    },\n    {\n      \"column\": \"Train\",\n      \"properties\": {\n        \"dtype\": \"number\",\n        \"std\": 0.3997597363216324,\n        \"min\": 0.03993570722057369,\n        \"max\": 0.9411428570747375,\n        \"num_unique_values\": 4,\n        \"samples\": [\n          0.22704874459745514,\n          0.9411428570747375,\n          0.5926267504692078\n        ],\n        \"semantic_type\": \"\",\n        \"description\": \"\"\n      }\n    },\n    {\n      \"column\": \"Test\",\n      \"properties\": {\n        \"dtype\": \"number\",\n        \"std\": 0.3761743416959698,\n        \"min\": 0.04300543746910529,\n        \"max\": 0.9566392302513123,\n        \"num_unique_values\": 4,\n        \"samples\": [\n          0.48468487512891256,\n          0.9566392302513123,\n          0.3981308341026306\n        ],\n        \"semantic_type\": \"\",\n        \"description\": \"\"\n      }\n    }\n  ]\n}"
            }
          },
          "metadata": {}
        }
      ]
    },
    {
      "cell_type": "code",
      "source": [],
      "metadata": {
        "id": "m21c-2Swjf6D"
      },
      "id": "m21c-2Swjf6D",
      "execution_count": null,
      "outputs": []
    }
  ],
  "metadata": {
    "kernelspec": {
      "display_name": "Python 3 (ipykernel)",
      "language": "python",
      "name": "python3"
    },
    "language_info": {
      "codemirror_mode": {
        "name": "ipython",
        "version": 3
      },
      "file_extension": ".py",
      "mimetype": "text/x-python",
      "name": "python",
      "nbconvert_exporter": "python",
      "pygments_lexer": "ipython3",
      "version": "3.11.7"
    },
    "papermill": {
      "default_parameters": {},
      "duration": 187.556312,
      "end_time": "2021-11-23T16:25:43.033107",
      "environment_variables": {},
      "exception": null,
      "input_path": "__notebook__.ipynb",
      "output_path": "__notebook__.ipynb",
      "parameters": {},
      "start_time": "2021-11-23T16:22:35.476795",
      "version": "2.3.3"
    },
    "colab": {
      "provenance": [],
      "include_colab_link": true
    }
  },
  "nbformat": 4,
  "nbformat_minor": 5
}
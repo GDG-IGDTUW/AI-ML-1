{
  "cells": [
    {
      "cell_type": "code",
      "execution_count": 1,
      "metadata": {
        "id": "d81bcQSu3zpc"
      },
      "outputs": [],
      "source": [
        "# importing the necessary libraries\n",
        "import numpy as np\n",
        "import pandas as pd\n",
        "from sklearn.model_selection import train_test_split\n",
        "from sklearn import metrics\n",
        "from sklearn.preprocessing import MinMaxScaler\n",
        "from sklearn.ensemble import RandomForestRegressor, GradientBoostingRegressor\n",
        "from sklearn.linear_model import LinearRegression\n",
        "from sklearn.svm import SVR\n",
        "from tensorflow.keras.models import Sequential"
      ]
    },
    {
      "cell_type": "code",
      "execution_count": null,
      "metadata": {
        "id": "KLQBrrVX4pWd"
      },
      "outputs": [],
      "source": [
        "df = pd.read_csv(\"Airbnb Price Prediction\\airbnb2.csv\")\n",
        "df.head()"
      ]
    },
    {
      "cell_type": "code",
      "execution_count": null,
      "metadata": {
        "id": "1Y8kH1rl4u9U"
      },
      "outputs": [],
      "source": [
        "df_train, df_test  = train_test_split(df, test_size=0.2, random_state = 42)"
      ]
    },
    {
      "cell_type": "code",
      "execution_count": null,
      "metadata": {
        "id": "PjxacnKJ5N1P"
      },
      "outputs": [],
      "source": [
        "df_train.info()"
      ]
    },
    {
      "cell_type": "code",
      "execution_count": null,
      "metadata": {
        "id": "hsHTjBZf5NuE"
      },
      "outputs": [],
      "source": [
        "df_train.describe()"
      ]
    },
    {
      "cell_type": "code",
      "execution_count": null,
      "metadata": {
        "id": "B4vgwEkZ5ROH"
      },
      "outputs": [],
      "source": [
        "# distribution of price across the dataset"
      ]
    },
    {
      "cell_type": "code",
      "execution_count": null,
      "metadata": {
        "id": "-jV0limD5tXq"
      },
      "outputs": [],
      "source": [
        "#qqplot of the price"
      ]
    },
    {
      "cell_type": "code",
      "execution_count": null,
      "metadata": {
        "id": "hp1V-kXh6ENM"
      },
      "outputs": [],
      "source": [
        "# check for outliers in the dataset (boxplot)"
      ]
    },
    {
      "cell_type": "code",
      "execution_count": null,
      "metadata": {
        "id": "L4aMHtFS6TCw"
      },
      "outputs": [],
      "source": [
        "#  Handle outliers"
      ]
    },
    {
      "cell_type": "code",
      "execution_count": null,
      "metadata": {
        "id": "3McjZzne6r8f"
      },
      "outputs": [],
      "source": [
        "# Handle the categorical values"
      ]
    },
    {
      "cell_type": "code",
      "execution_count": null,
      "metadata": {
        "id": "gLU6USzs7DRo"
      },
      "outputs": [],
      "source": [
        "# Normalize the numerical values"
      ]
    },
    {
      "cell_type": "markdown",
      "metadata": {
        "id": "KkDQQWmSJGFR"
      },
      "source": [
        "# Model training"
      ]
    },
    {
      "cell_type": "code",
      "execution_count": null,
      "metadata": {
        "id": "zrA4sionJH_B"
      },
      "outputs": [],
      "source": [
        "# use linear regression to train the model"
      ]
    },
    {
      "cell_type": "code",
      "execution_count": null,
      "metadata": {
        "id": "WQCaUPBLJNiY"
      },
      "outputs": [],
      "source": [
        "# evaluate the model on the testing dataset"
      ]
    }
  ],
  "metadata": {
    "colab": {
      "provenance": []
    },
    "kernelspec": {
      "display_name": "Python 3",
      "name": "python3"
    },
    "language_info": {
      "name": "python"
    }
  },
  "nbformat": 4,
  "nbformat_minor": 0
}

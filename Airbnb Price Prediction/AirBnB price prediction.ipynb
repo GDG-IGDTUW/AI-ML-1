{
  "cells": [
    {
      "cell_type": "code",
      "execution_count": 4,
      "metadata": {
        "id": "d81bcQSu3zpc"
      },
      "outputs": [],
      "source": [
        "# importing the necessary libraries\n",
        "import numpy as np\n",
        "import pandas as pd\n",
        "from sklearn.model_selection import train_test_split\n",
        "from sklearn import metrics\n",
        "from sklearn.preprocessing import MinMaxScaler\n",
        "from sklearn.ensemble import RandomForestRegressor, GradientBoostingRegressor\n",
        "from sklearn.linear_model import LinearRegression\n",
        "from sklearn.svm import SVR\n",
        "#from tensorflow.keras.models import Sequential\n",
        "import scipy.stats as stats\n",
        "#import matplotlib.pyplot as plt\n",
        "#import seaborn as sns"
      ]
    },
    {
      "cell_type": "code",
      "execution_count": 8,
      "metadata": {
        "colab": {
          "base_uri": "https://localhost:8080/",
          "height": 498
        },
        "id": "YF2L4GVmQe7p",
        "outputId": "0e9187e7-856a-44c5-f07b-c26acfea6c12"
      },
      "outputs": [
        {
          "data": {
            "text/html": [
              "<div>\n",
              "<style scoped>\n",
              "    .dataframe tbody tr th:only-of-type {\n",
              "        vertical-align: middle;\n",
              "    }\n",
              "\n",
              "    .dataframe tbody tr th {\n",
              "        vertical-align: top;\n",
              "    }\n",
              "\n",
              "    .dataframe thead th {\n",
              "        text-align: right;\n",
              "    }\n",
              "</style>\n",
              "<table border=\"1\" class=\"dataframe\">\n",
              "  <thead>\n",
              "    <tr style=\"text-align: right;\">\n",
              "      <th></th>\n",
              "      <th>id</th>\n",
              "      <th>log_price</th>\n",
              "      <th>property_type</th>\n",
              "      <th>room_type</th>\n",
              "      <th>amenities</th>\n",
              "      <th>accommodates</th>\n",
              "      <th>bathrooms</th>\n",
              "      <th>bed_type</th>\n",
              "      <th>cancellation_policy</th>\n",
              "      <th>cleaning_fee</th>\n",
              "      <th>...</th>\n",
              "      <th>latitude</th>\n",
              "      <th>longitude</th>\n",
              "      <th>name</th>\n",
              "      <th>neighbourhood</th>\n",
              "      <th>number_of_reviews</th>\n",
              "      <th>review_scores_rating</th>\n",
              "      <th>thumbnail_url</th>\n",
              "      <th>zipcode</th>\n",
              "      <th>bedrooms</th>\n",
              "      <th>beds</th>\n",
              "    </tr>\n",
              "  </thead>\n",
              "  <tbody>\n",
              "    <tr>\n",
              "      <th>0</th>\n",
              "      <td>6901257</td>\n",
              "      <td>5.010635</td>\n",
              "      <td>Apartment</td>\n",
              "      <td>Entire home/apt</td>\n",
              "      <td>{\"Wireless Internet\",\"Air conditioning\",Kitche...</td>\n",
              "      <td>3</td>\n",
              "      <td>1.0</td>\n",
              "      <td>Real Bed</td>\n",
              "      <td>strict</td>\n",
              "      <td>True</td>\n",
              "      <td>...</td>\n",
              "      <td>40.696524</td>\n",
              "      <td>-73.991617</td>\n",
              "      <td>Beautiful brownstone 1-bedroom</td>\n",
              "      <td>Brooklyn Heights</td>\n",
              "      <td>2</td>\n",
              "      <td>100.0</td>\n",
              "      <td>https://a0.muscache.com/im/pictures/6d7cbbf7-c...</td>\n",
              "      <td>11201</td>\n",
              "      <td>1.0</td>\n",
              "      <td>1.0</td>\n",
              "    </tr>\n",
              "    <tr>\n",
              "      <th>1</th>\n",
              "      <td>6304928</td>\n",
              "      <td>5.129899</td>\n",
              "      <td>Apartment</td>\n",
              "      <td>Entire home/apt</td>\n",
              "      <td>{\"Wireless Internet\",\"Air conditioning\",Kitche...</td>\n",
              "      <td>7</td>\n",
              "      <td>1.0</td>\n",
              "      <td>Real Bed</td>\n",
              "      <td>strict</td>\n",
              "      <td>True</td>\n",
              "      <td>...</td>\n",
              "      <td>40.766115</td>\n",
              "      <td>-73.989040</td>\n",
              "      <td>Superb 3BR Apt Located Near Times Square</td>\n",
              "      <td>Hell's Kitchen</td>\n",
              "      <td>6</td>\n",
              "      <td>93.0</td>\n",
              "      <td>https://a0.muscache.com/im/pictures/348a55fe-4...</td>\n",
              "      <td>10019</td>\n",
              "      <td>3.0</td>\n",
              "      <td>3.0</td>\n",
              "    </tr>\n",
              "    <tr>\n",
              "      <th>2</th>\n",
              "      <td>7919400</td>\n",
              "      <td>4.976734</td>\n",
              "      <td>Apartment</td>\n",
              "      <td>Entire home/apt</td>\n",
              "      <td>{TV,\"Cable TV\",\"Wireless Internet\",\"Air condit...</td>\n",
              "      <td>5</td>\n",
              "      <td>1.0</td>\n",
              "      <td>Real Bed</td>\n",
              "      <td>moderate</td>\n",
              "      <td>True</td>\n",
              "      <td>...</td>\n",
              "      <td>40.808110</td>\n",
              "      <td>-73.943756</td>\n",
              "      <td>The Garden Oasis</td>\n",
              "      <td>Harlem</td>\n",
              "      <td>10</td>\n",
              "      <td>92.0</td>\n",
              "      <td>https://a0.muscache.com/im/pictures/6fae5362-9...</td>\n",
              "      <td>10027</td>\n",
              "      <td>1.0</td>\n",
              "      <td>3.0</td>\n",
              "    </tr>\n",
              "    <tr>\n",
              "      <th>3</th>\n",
              "      <td>13418779</td>\n",
              "      <td>6.620073</td>\n",
              "      <td>House</td>\n",
              "      <td>Entire home/apt</td>\n",
              "      <td>{TV,\"Cable TV\",Internet,\"Wireless Internet\",Ki...</td>\n",
              "      <td>4</td>\n",
              "      <td>1.0</td>\n",
              "      <td>Real Bed</td>\n",
              "      <td>flexible</td>\n",
              "      <td>True</td>\n",
              "      <td>...</td>\n",
              "      <td>37.772004</td>\n",
              "      <td>-122.431619</td>\n",
              "      <td>Beautiful Flat in the Heart of SF!</td>\n",
              "      <td>Lower Haight</td>\n",
              "      <td>0</td>\n",
              "      <td>NaN</td>\n",
              "      <td>https://a0.muscache.com/im/pictures/72208dad-9...</td>\n",
              "      <td>94117.0</td>\n",
              "      <td>2.0</td>\n",
              "      <td>2.0</td>\n",
              "    </tr>\n",
              "    <tr>\n",
              "      <th>4</th>\n",
              "      <td>3808709</td>\n",
              "      <td>4.744932</td>\n",
              "      <td>Apartment</td>\n",
              "      <td>Entire home/apt</td>\n",
              "      <td>{TV,Internet,\"Wireless Internet\",\"Air conditio...</td>\n",
              "      <td>2</td>\n",
              "      <td>1.0</td>\n",
              "      <td>Real Bed</td>\n",
              "      <td>moderate</td>\n",
              "      <td>True</td>\n",
              "      <td>...</td>\n",
              "      <td>38.925627</td>\n",
              "      <td>-77.034596</td>\n",
              "      <td>Great studio in midtown DC</td>\n",
              "      <td>Columbia Heights</td>\n",
              "      <td>4</td>\n",
              "      <td>40.0</td>\n",
              "      <td>NaN</td>\n",
              "      <td>20009</td>\n",
              "      <td>0.0</td>\n",
              "      <td>1.0</td>\n",
              "    </tr>\n",
              "  </tbody>\n",
              "</table>\n",
              "<p>5 rows × 29 columns</p>\n",
              "</div>"
            ],
            "text/plain": [
              "         id  log_price property_type        room_type  \\\n",
              "0   6901257   5.010635     Apartment  Entire home/apt   \n",
              "1   6304928   5.129899     Apartment  Entire home/apt   \n",
              "2   7919400   4.976734     Apartment  Entire home/apt   \n",
              "3  13418779   6.620073         House  Entire home/apt   \n",
              "4   3808709   4.744932     Apartment  Entire home/apt   \n",
              "\n",
              "                                           amenities  accommodates  bathrooms  \\\n",
              "0  {\"Wireless Internet\",\"Air conditioning\",Kitche...             3        1.0   \n",
              "1  {\"Wireless Internet\",\"Air conditioning\",Kitche...             7        1.0   \n",
              "2  {TV,\"Cable TV\",\"Wireless Internet\",\"Air condit...             5        1.0   \n",
              "3  {TV,\"Cable TV\",Internet,\"Wireless Internet\",Ki...             4        1.0   \n",
              "4  {TV,Internet,\"Wireless Internet\",\"Air conditio...             2        1.0   \n",
              "\n",
              "   bed_type cancellation_policy  cleaning_fee  ...   latitude   longitude  \\\n",
              "0  Real Bed              strict          True  ...  40.696524  -73.991617   \n",
              "1  Real Bed              strict          True  ...  40.766115  -73.989040   \n",
              "2  Real Bed            moderate          True  ...  40.808110  -73.943756   \n",
              "3  Real Bed            flexible          True  ...  37.772004 -122.431619   \n",
              "4  Real Bed            moderate          True  ...  38.925627  -77.034596   \n",
              "\n",
              "                                       name     neighbourhood  \\\n",
              "0            Beautiful brownstone 1-bedroom  Brooklyn Heights   \n",
              "1  Superb 3BR Apt Located Near Times Square    Hell's Kitchen   \n",
              "2                          The Garden Oasis            Harlem   \n",
              "3        Beautiful Flat in the Heart of SF!      Lower Haight   \n",
              "4                Great studio in midtown DC  Columbia Heights   \n",
              "\n",
              "  number_of_reviews review_scores_rating  \\\n",
              "0                 2                100.0   \n",
              "1                 6                 93.0   \n",
              "2                10                 92.0   \n",
              "3                 0                  NaN   \n",
              "4                 4                 40.0   \n",
              "\n",
              "                                       thumbnail_url  zipcode bedrooms  beds  \n",
              "0  https://a0.muscache.com/im/pictures/6d7cbbf7-c...    11201      1.0   1.0  \n",
              "1  https://a0.muscache.com/im/pictures/348a55fe-4...    10019      3.0   3.0  \n",
              "2  https://a0.muscache.com/im/pictures/6fae5362-9...    10027      1.0   3.0  \n",
              "3  https://a0.muscache.com/im/pictures/72208dad-9...  94117.0      2.0   2.0  \n",
              "4                                                NaN    20009      0.0   1.0  \n",
              "\n",
              "[5 rows x 29 columns]"
            ]
          },
          "execution_count": 8,
          "metadata": {},
          "output_type": "execute_result"
        }
      ],
      "source": [
        "#df = pd.read_csv(\"/content/AI-ML-1/Airbnb Price Prediction/airbnb2.csv\")\n",
        "df = pd.read_csv(\"airbnb2.csv\")\n",
        "df.head()"
      ]
    },
    {
      "cell_type": "code",
      "execution_count": 9,
      "metadata": {
        "colab": {
          "base_uri": "https://localhost:8080/",
          "height": 993
        },
        "id": "alXU9IZpuOBe",
        "outputId": "c1be8b38-77ad-47d9-883f-ad4a9ecd85a8"
      },
      "outputs": [
        {
          "data": {
            "text/plain": [
              "id                          0\n",
              "log_price                   0\n",
              "property_type               0\n",
              "room_type                   0\n",
              "amenities                   0\n",
              "accommodates                0\n",
              "bathrooms                   6\n",
              "bed_type                    0\n",
              "cancellation_policy         0\n",
              "cleaning_fee                0\n",
              "city                        0\n",
              "description                 0\n",
              "first_review              497\n",
              "host_has_profile_pic        7\n",
              "host_identity_verified      7\n",
              "host_response_rate        522\n",
              "host_since                  7\n",
              "instant_bookable            0\n",
              "last_review               494\n",
              "latitude                    0\n",
              "longitude                   0\n",
              "name                        0\n",
              "neighbourhood             169\n",
              "number_of_reviews           0\n",
              "review_scores_rating      515\n",
              "thumbnail_url             247\n",
              "zipcode                    22\n",
              "bedrooms                    2\n",
              "beds                        3\n",
              "dtype: int64"
            ]
          },
          "execution_count": 9,
          "metadata": {},
          "output_type": "execute_result"
        }
      ],
      "source": [
        "# CHECKING FOR MISSING VALUES\n",
        "df.isnull().sum()"
      ]
    },
    {
      "cell_type": "code",
      "execution_count": 10,
      "metadata": {
        "id": "wrjnTs12uOBf"
      },
      "outputs": [],
      "source": [
        "#DROPPING MISSING VALUES\n",
        "df.dropna(axis = 0, inplace = True, subset = ['first_review','host_response_rate','last_review','neighbourhood','host_has_profile_pic','host_identity_verified','host_since','thumbnail_url','zipcode'])"
      ]
    },
    {
      "cell_type": "code",
      "execution_count": 11,
      "metadata": {
        "id": "0H5OdMuLuOBf"
      },
      "outputs": [],
      "source": [
        "#REPLACING MISSING VALUES WITH MEAN\n",
        "df['bathrooms'] = df['bathrooms'].fillna(df['bathrooms'].mean())\n",
        "df['review_scores_rating'] = df['review_scores_rating'].fillna(df['review_scores_rating'].mean())\n",
        "df['bedrooms'] = df['bedrooms'].fillna(df['bedrooms'].mean())\n",
        "df['beds'] = df['beds'].fillna(df['beds'].mean())"
      ]
    },
    {
      "cell_type": "code",
      "execution_count": 12,
      "metadata": {
        "id": "1Y8kH1rl4u9U"
      },
      "outputs": [],
      "source": [
        "df_train, df_test  = train_test_split(df, test_size=0.2, random_state = 42)"
      ]
    },
    {
      "cell_type": "code",
      "execution_count": 13,
      "metadata": {
        "colab": {
          "base_uri": "https://localhost:8080/"
        },
        "id": "PjxacnKJ5N1P",
        "outputId": "52f9d68d-da4f-4b8b-d2a4-17a37d83a5a8"
      },
      "outputs": [
        {
          "name": "stdout",
          "output_type": "stream",
          "text": [
            "<class 'pandas.core.frame.DataFrame'>\n",
            "Index: 806 entries, 60 to 202\n",
            "Data columns (total 29 columns):\n",
            " #   Column                  Non-Null Count  Dtype  \n",
            "---  ------                  --------------  -----  \n",
            " 0   id                      806 non-null    int64  \n",
            " 1   log_price               806 non-null    float64\n",
            " 2   property_type           806 non-null    object \n",
            " 3   room_type               806 non-null    object \n",
            " 4   amenities               806 non-null    object \n",
            " 5   accommodates            806 non-null    int64  \n",
            " 6   bathrooms               806 non-null    float64\n",
            " 7   bed_type                806 non-null    object \n",
            " 8   cancellation_policy     806 non-null    object \n",
            " 9   cleaning_fee            806 non-null    bool   \n",
            " 10  city                    806 non-null    object \n",
            " 11  description             806 non-null    object \n",
            " 12  first_review            806 non-null    object \n",
            " 13  host_has_profile_pic    806 non-null    object \n",
            " 14  host_identity_verified  806 non-null    object \n",
            " 15  host_response_rate      806 non-null    object \n",
            " 16  host_since              806 non-null    object \n",
            " 17  instant_bookable        806 non-null    object \n",
            " 18  last_review             806 non-null    object \n",
            " 19  latitude                806 non-null    float64\n",
            " 20  longitude               806 non-null    float64\n",
            " 21  name                    806 non-null    object \n",
            " 22  neighbourhood           806 non-null    object \n",
            " 23  number_of_reviews       806 non-null    int64  \n",
            " 24  review_scores_rating    806 non-null    float64\n",
            " 25  thumbnail_url           806 non-null    object \n",
            " 26  zipcode                 806 non-null    object \n",
            " 27  bedrooms                806 non-null    float64\n",
            " 28  beds                    806 non-null    float64\n",
            "dtypes: bool(1), float64(7), int64(3), object(18)\n",
            "memory usage: 183.4+ KB\n"
          ]
        }
      ],
      "source": [
        "df_train.info()"
      ]
    },
    {
      "cell_type": "code",
      "execution_count": 14,
      "metadata": {
        "colab": {
          "base_uri": "https://localhost:8080/",
          "height": 300
        },
        "id": "hsHTjBZf5NuE",
        "outputId": "726e8619-fbd4-4f55-de3c-3a595e953495"
      },
      "outputs": [
        {
          "data": {
            "text/html": [
              "<div>\n",
              "<style scoped>\n",
              "    .dataframe tbody tr th:only-of-type {\n",
              "        vertical-align: middle;\n",
              "    }\n",
              "\n",
              "    .dataframe tbody tr th {\n",
              "        vertical-align: top;\n",
              "    }\n",
              "\n",
              "    .dataframe thead th {\n",
              "        text-align: right;\n",
              "    }\n",
              "</style>\n",
              "<table border=\"1\" class=\"dataframe\">\n",
              "  <thead>\n",
              "    <tr style=\"text-align: right;\">\n",
              "      <th></th>\n",
              "      <th>id</th>\n",
              "      <th>log_price</th>\n",
              "      <th>accommodates</th>\n",
              "      <th>bathrooms</th>\n",
              "      <th>latitude</th>\n",
              "      <th>longitude</th>\n",
              "      <th>number_of_reviews</th>\n",
              "      <th>review_scores_rating</th>\n",
              "      <th>bedrooms</th>\n",
              "      <th>beds</th>\n",
              "    </tr>\n",
              "  </thead>\n",
              "  <tbody>\n",
              "    <tr>\n",
              "      <th>count</th>\n",
              "      <td>8.060000e+02</td>\n",
              "      <td>806.000000</td>\n",
              "      <td>806.000000</td>\n",
              "      <td>806.000000</td>\n",
              "      <td>806.000000</td>\n",
              "      <td>806.000000</td>\n",
              "      <td>806.000000</td>\n",
              "      <td>806.000000</td>\n",
              "      <td>806.000000</td>\n",
              "      <td>806.000000</td>\n",
              "    </tr>\n",
              "    <tr>\n",
              "      <th>mean</th>\n",
              "      <td>1.122904e+07</td>\n",
              "      <td>4.751109</td>\n",
              "      <td>3.168734</td>\n",
              "      <td>1.200264</td>\n",
              "      <td>38.742059</td>\n",
              "      <td>-91.486282</td>\n",
              "      <td>32.972705</td>\n",
              "      <td>94.449826</td>\n",
              "      <td>1.247189</td>\n",
              "      <td>1.784119</td>\n",
              "    </tr>\n",
              "    <tr>\n",
              "      <th>std</th>\n",
              "      <td>6.222406e+06</td>\n",
              "      <td>0.662254</td>\n",
              "      <td>2.087244</td>\n",
              "      <td>0.466599</td>\n",
              "      <td>3.028517</td>\n",
              "      <td>21.685440</td>\n",
              "      <td>44.704182</td>\n",
              "      <td>6.701798</td>\n",
              "      <td>0.829432</td>\n",
              "      <td>1.328351</td>\n",
              "    </tr>\n",
              "    <tr>\n",
              "      <th>min</th>\n",
              "      <td>1.206800e+04</td>\n",
              "      <td>2.944439</td>\n",
              "      <td>1.000000</td>\n",
              "      <td>0.000000</td>\n",
              "      <td>33.722757</td>\n",
              "      <td>-122.508521</td>\n",
              "      <td>1.000000</td>\n",
              "      <td>20.000000</td>\n",
              "      <td>0.000000</td>\n",
              "      <td>1.000000</td>\n",
              "    </tr>\n",
              "    <tr>\n",
              "      <th>25%</th>\n",
              "      <td>5.691018e+06</td>\n",
              "      <td>4.317488</td>\n",
              "      <td>2.000000</td>\n",
              "      <td>1.000000</td>\n",
              "      <td>34.190150</td>\n",
              "      <td>-118.344410</td>\n",
              "      <td>5.250000</td>\n",
              "      <td>92.000000</td>\n",
              "      <td>1.000000</td>\n",
              "      <td>1.000000</td>\n",
              "    </tr>\n",
              "    <tr>\n",
              "      <th>50%</th>\n",
              "      <td>1.242135e+07</td>\n",
              "      <td>4.691348</td>\n",
              "      <td>2.000000</td>\n",
              "      <td>1.000000</td>\n",
              "      <td>40.684712</td>\n",
              "      <td>-74.000822</td>\n",
              "      <td>15.000000</td>\n",
              "      <td>96.000000</td>\n",
              "      <td>1.000000</td>\n",
              "      <td>1.000000</td>\n",
              "    </tr>\n",
              "    <tr>\n",
              "      <th>75%</th>\n",
              "      <td>1.665650e+07</td>\n",
              "      <td>5.164786</td>\n",
              "      <td>4.000000</td>\n",
              "      <td>1.000000</td>\n",
              "      <td>40.758575</td>\n",
              "      <td>-73.949644</td>\n",
              "      <td>43.000000</td>\n",
              "      <td>99.000000</td>\n",
              "      <td>1.000000</td>\n",
              "      <td>2.000000</td>\n",
              "    </tr>\n",
              "    <tr>\n",
              "      <th>max</th>\n",
              "      <td>2.118810e+07</td>\n",
              "      <td>7.277939</td>\n",
              "      <td>16.000000</td>\n",
              "      <td>5.500000</td>\n",
              "      <td>42.382883</td>\n",
              "      <td>-71.049672</td>\n",
              "      <td>318.000000</td>\n",
              "      <td>100.000000</td>\n",
              "      <td>7.000000</td>\n",
              "      <td>16.000000</td>\n",
              "    </tr>\n",
              "  </tbody>\n",
              "</table>\n",
              "</div>"
            ],
            "text/plain": [
              "                 id   log_price  accommodates   bathrooms    latitude  \\\n",
              "count  8.060000e+02  806.000000    806.000000  806.000000  806.000000   \n",
              "mean   1.122904e+07    4.751109      3.168734    1.200264   38.742059   \n",
              "std    6.222406e+06    0.662254      2.087244    0.466599    3.028517   \n",
              "min    1.206800e+04    2.944439      1.000000    0.000000   33.722757   \n",
              "25%    5.691018e+06    4.317488      2.000000    1.000000   34.190150   \n",
              "50%    1.242135e+07    4.691348      2.000000    1.000000   40.684712   \n",
              "75%    1.665650e+07    5.164786      4.000000    1.000000   40.758575   \n",
              "max    2.118810e+07    7.277939     16.000000    5.500000   42.382883   \n",
              "\n",
              "        longitude  number_of_reviews  review_scores_rating    bedrooms  \\\n",
              "count  806.000000         806.000000            806.000000  806.000000   \n",
              "mean   -91.486282          32.972705             94.449826    1.247189   \n",
              "std     21.685440          44.704182              6.701798    0.829432   \n",
              "min   -122.508521           1.000000             20.000000    0.000000   \n",
              "25%   -118.344410           5.250000             92.000000    1.000000   \n",
              "50%    -74.000822          15.000000             96.000000    1.000000   \n",
              "75%    -73.949644          43.000000             99.000000    1.000000   \n",
              "max    -71.049672         318.000000            100.000000    7.000000   \n",
              "\n",
              "             beds  \n",
              "count  806.000000  \n",
              "mean     1.784119  \n",
              "std      1.328351  \n",
              "min      1.000000  \n",
              "25%      1.000000  \n",
              "50%      1.000000  \n",
              "75%      2.000000  \n",
              "max     16.000000  "
            ]
          },
          "execution_count": 14,
          "metadata": {},
          "output_type": "execute_result"
        }
      ],
      "source": [
        "df_train.describe()"
      ]
    },
    {
      "cell_type": "code",
      "execution_count": 24,
      "metadata": {
        "colab": {
          "base_uri": "https://localhost:8080/",
          "height": 564
        },
        "id": "B4vgwEkZ5ROH",
        "outputId": "9c079677-15b6-49e5-dc96-e8860706dd5c"
      },
      "outputs": [
        {
          "data": {
            "image/png": "[encoded data removed]",
            "text/plain": [
              "<Figure size 1000x600 with 1 Axes>"
            ]
          },
          "metadata": {},
          "output_type": "display_data"
        }
      ],
      "source": [
        "# distribution of price across the dataset\n",
        "\n",
        "#histogram with kde for `log_price`\n",
        "#KDE is the lining above the histogram indicates density estimate for better analysis\n",
        "plt.figure(figsize=(10, 6))\n",
        "sns.histplot(df['log_price'], kde=True, bins=30, color='blue')\n",
        "plt.title('Distribution of Log Price')\n",
        "plt.xlabel('Log Price')\n",
        "plt.ylabel('Frequency')\n",
        "plt.show()"
      ]
    },
    {
      "cell_type": "code",
      "execution_count": 34,
      "metadata": {
        "colab": {
          "base_uri": "https://localhost:8080/",
          "height": 564
        },
        "id": "-jV0limD5tXq",
        "outputId": "36a2a147-0c28-4064-9d13-d2e66f76db20"
      },
      "outputs": [
        {
          "data": {
            "image/png": "[encoded data removed]",
            "text/plain": [
              "<Figure size 1000x600 with 1 Axes>"
            ]
          },
          "metadata": {},
          "output_type": "display_data"
        }
      ],
      "source": [
        "#qqplot of the price\n",
        "plt.figure(figsize=(10, 6))\n",
        "stats.probplot(df['log_price'], dist=\"norm\", plot=plt)\n",
        "plt.title('QQ Plot of Price')\n",
        "plt.show()"
      ]
    },
    {
      "cell_type": "code",
      "execution_count": 26,
      "metadata": {
        "colab": {
          "base_uri": "https://localhost:8080/",
          "height": 564
        },
        "id": "hp1V-kXh6ENM",
        "outputId": "3a3b3f51-0a2a-4bf0-8f97-199b66c87421"
      },
      "outputs": [
        {
          "data": {
            "image/png": "[encoded data removed]",
            "text/plain": [
              "<Figure size 1000x600 with 1 Axes>"
            ]
          },
          "metadata": {},
          "output_type": "display_data"
        }
      ],
      "source": [
        "# check for outliers in the dataset (boxplot)\n",
        "plt.figure(figsize=(10, 6))\n",
        "sns.boxplot(x=df['log_price'], color='orange')\n",
        "plt.title('Boxplot of Price')\n",
        "plt.xlabel('Price')\n",
        "plt.show()"
      ]
    },
    {
      "cell_type": "code",
      "execution_count": 27,
      "metadata": {
        "colab": {
          "base_uri": "https://localhost:8080/"
        },
        "id": "RDL5j-IwwEfv",
        "outputId": "cd3e2888-becf-422a-90a7-cfd0392de0fc"
      },
      "outputs": [
        {
          "name": "stdout",
          "output_type": "stream",
          "text": [
            "Number of outliers:  14\n"
          ]
        }
      ],
      "source": [
        "# Calculate Q1, Q3, and IQR\n",
        "Q1 = df['log_price'].quantile(0.25)\n",
        "Q3 = df['log_price'].quantile(0.75)\n",
        "IQR = Q3 - Q1\n",
        "\n",
        "# Define bounds\n",
        "lower_bound = Q1 - 1.5 * IQR\n",
        "upper_bound = Q3 + 1.5 * IQR\n",
        "\n",
        "# Identify outliers\n",
        "outliers = df[(df['log_price'] < lower_bound) | (df['log_price'] > upper_bound)]\n",
        "print(\"Number of outliers: \", len(outliers))"
      ]
    },
    {
      "cell_type": "code",
      "execution_count": 28,
      "metadata": {
        "colab": {
          "base_uri": "https://localhost:8080/"
        },
        "id": "L4aMHtFS6TCw",
        "outputId": "0acd67c6-65bd-47ca-873b-0535b9dd440e"
      },
      "outputs": [
        {
          "name": "stdout",
          "output_type": "stream",
          "text": [
            "(994, 29)\n"
          ]
        }
      ],
      "source": [
        "#  Handle outliers\n",
        "df_cleaned = df[(df['log_price'] >= lower_bound) & (df['log_price'] <= upper_bound)]\n",
        "print(df_cleaned.shape)"
      ]
    },
    {
      "cell_type": "code",
      "execution_count": null,
      "metadata": {
        "id": "3McjZzne6r8f"
      },
      "outputs": [],
      "source": [
        "# Handle the categorical values\n",
        "\n",
        "X = df.drop(columns=['log_price'], errors='ignore')  \n",
        "y = df['log_price']  \n",
        "\n",
        "from sklearn.preprocessing import OneHotEncoder, StandardScaler\n",
        "\n",
        "categorical_cols = X.select_dtypes(include=['object', 'bool']).columns\n",
        "encoder = OneHotEncoder(sparse_output=False, handle_unknown='ignore')\n",
        "encoded_features = pd.DataFrame(encoder.fit_transform(X[categorical_cols]))\n",
        "encoded_features.columns = encoder.get_feature_names_out(categorical_cols)\n",
        "X = X.drop(columns=categorical_cols, errors='ignore')\n",
        "X = pd.concat([X.reset_index(drop=True), encoded_features.reset_index(drop=True)], axis=1)\n"
      ]
    },
    {
      "cell_type": "code",
      "execution_count": 30,
      "metadata": {
        "id": "gLU6USzs7DRo"
      },
      "outputs": [],
      "source": [
        "# Normalize the numerical values\n",
        "\n",
        "numerical_cols = X.select_dtypes(include=['int64', 'float64']).columns\n",
        "scaler = StandardScaler()\n",
        "X[numerical_cols] = scaler.fit_transform(X[numerical_cols])"
      ]
    },
    {
      "cell_type": "code",
      "execution_count": 32,
      "metadata": {},
      "outputs": [],
      "source": [
        "# Train-test split\n",
        "X_train, X_test, y_train, y_test = train_test_split(X, y, test_size=0.2, random_state=42)"
      ]
    },
    {
      "cell_type": "markdown",
      "metadata": {
        "id": "KkDQQWmSJGFR"
      },
      "source": [
        "# Model training"
      ]
    },
    {
      "cell_type": "code",
      "execution_count": 31,
      "metadata": {
        "id": "zrA4sionJH_B"
      },
      "outputs": [],
      "source": [
        "# use linear regression to train the model"
      ]
    },
    {
      "cell_type": "code",
      "execution_count": 32,
      "metadata": {
        "id": "WQCaUPBLJNiY"
      },
      "outputs": [],
      "source": [
        "# evaluate the model on the testing dataset"
      ]
    }
  ],
  "metadata": {
    "colab": {
      "provenance": []
    },
    "kernelspec": {
      "display_name": "Python 3",
      "name": "python3"
    },
    "language_info": {
      "codemirror_mode": {
        "name": "ipython",
        "version": 3
      },
      "file_extension": ".py",
      "mimetype": "text/x-python",
      "name": "python",
      "nbconvert_exporter": "python",
      "pygments_lexer": "ipython3",
      "version": "3.13.1"
    }
  },
  "nbformat": 4,
  "nbformat_minor": 0
}
